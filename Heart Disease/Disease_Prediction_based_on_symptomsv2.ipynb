{
 "cells": [
  {
   "cell_type": "markdown",
   "metadata": {
    "id": "ksoFWJur7TSJ",
    "nbpresent": {
     "id": "78a5f605-1c0b-4917-b674-96a94be1e8f7"
    }
   },
   "source": [
    "# Heart Disease Prediction based on symptoms"
   ]
  },
  {
   "cell_type": "markdown",
   "metadata": {
    "id": "9xTePxo47TSN",
    "nbpresent": {
     "id": "80f0d6de-5c5c-4236-ae28-0d200b50c1e9"
    }
   },
   "source": [
    "## Step 1: Define the Problem & Collect Data"
   ]
  },
  {
   "cell_type": "markdown",
   "metadata": {
    "id": "dChuDh8v7TSO"
   },
   "source": [
    "Heart disease risk factors can be divided into two categories - those that can't be changed and those that can be modified. Factors that can't be changed include increasing age, male gender, and heredity. Thalassemia, a hereditary condition, is also a risk factor for heart disease. Factors that can be modified to reduce the risk of heart disease include smoking, high cholesterol, high blood pressure, physical inactivity, being overweight, and having diabetes. Other factors that may contribute to heart disease risk include stress, alcohol consumption, and poor diet/nutrition.\n",
    "\n",
    "The Aim is to classication different heart diseases based on features, and features parameters like Sex, Age and Blood pressure etc. The input data for this project comes from a UCI open source [dataset](https://archive.ics.uci.edu/ml/datasets/Heart+Disease) that contains these features and their reference heart disease  from 0 (no presence) to 4. The dataset includes a total of 303 lines of data. The project will use this data to train a model that can accurately classify heart diseases level.\n",
    "\n",
    "This database contains 14 attributes, The \"target\" field refers to the presence of heart disease in the patient. It is integer valued from 0 (no presence) to 4. Experiments with the Cleveland database have concentrated on simply attempting to distinguish presence (values 1,2,3,4) from absence (value 0)."
   ]
  },
  {
   "cell_type": "code",
   "execution_count": 1,
   "metadata": {
    "id": "_ZCkiY2U7TSP"
   },
   "outputs": [],
   "source": [
    "#loading libraries\n",
    "import numpy as np\n",
    "import pandas as pd\n",
    "from sklearn.preprocessing import StandardScaler\n",
    "from sklearn.model_selection import train_test_split\n"
   ]
  },
  {
   "cell_type": "markdown",
   "metadata": {
    "id": "z_R5imDd3JMm"
   },
   "source": [
    "Here we loaded the Python libararies:\n",
    "\n",
    "The code involves importing several Python libraries used in machine learning and data analysis\n",
    "The first line imports \"numpy\" for array manipulation and math functions\n",
    "The second line imports \"pandas\" for structured data management using DataFrames\n",
    "The third line imports \"StandardScaler\" from \"scikit-learn\" for data standardization with mean 0 and standard deviation 1\n",
    "The fourth line imports \"train_test_split\" from the same library for splitting dataset into training and testing sets for model development and evaluation."
   ]
  },
  {
   "cell_type": "code",
   "execution_count": 6,
   "metadata": {
    "colab": {
     "base_uri": "https://localhost:8080/",
     "height": 424
    },
    "id": "uypF1uBu7rCf",
    "outputId": "fc930265-d473-4dc5-cdff-452bac1af944"
   },
   "outputs": [
    {
     "data": {
      "text/html": [
       "<div>\n",
       "<style scoped>\n",
       "    .dataframe tbody tr th:only-of-type {\n",
       "        vertical-align: middle;\n",
       "    }\n",
       "\n",
       "    .dataframe tbody tr th {\n",
       "        vertical-align: top;\n",
       "    }\n",
       "\n",
       "    .dataframe thead th {\n",
       "        text-align: right;\n",
       "    }\n",
       "</style>\n",
       "<table border=\"1\" class=\"dataframe\">\n",
       "  <thead>\n",
       "    <tr style=\"text-align: right;\">\n",
       "      <th></th>\n",
       "      <th>age</th>\n",
       "      <th>sex</th>\n",
       "      <th>cp</th>\n",
       "      <th>trestbps</th>\n",
       "      <th>chol</th>\n",
       "      <th>fbs</th>\n",
       "      <th>restecg</th>\n",
       "      <th>thalach</th>\n",
       "      <th>exang</th>\n",
       "      <th>oldpeak</th>\n",
       "      <th>slope</th>\n",
       "      <th>ca</th>\n",
       "      <th>thal</th>\n",
       "      <th>target</th>\n",
       "    </tr>\n",
       "  </thead>\n",
       "  <tbody>\n",
       "    <tr>\n",
       "      <th>0</th>\n",
       "      <td>63.0</td>\n",
       "      <td>1.0</td>\n",
       "      <td>1.0</td>\n",
       "      <td>145.0</td>\n",
       "      <td>233.0</td>\n",
       "      <td>1.0</td>\n",
       "      <td>2.0</td>\n",
       "      <td>150.0</td>\n",
       "      <td>0.0</td>\n",
       "      <td>2.3</td>\n",
       "      <td>3.0</td>\n",
       "      <td>0.0</td>\n",
       "      <td>6.0</td>\n",
       "      <td>0</td>\n",
       "    </tr>\n",
       "    <tr>\n",
       "      <th>1</th>\n",
       "      <td>67.0</td>\n",
       "      <td>1.0</td>\n",
       "      <td>4.0</td>\n",
       "      <td>160.0</td>\n",
       "      <td>286.0</td>\n",
       "      <td>0.0</td>\n",
       "      <td>2.0</td>\n",
       "      <td>108.0</td>\n",
       "      <td>1.0</td>\n",
       "      <td>1.5</td>\n",
       "      <td>2.0</td>\n",
       "      <td>3.0</td>\n",
       "      <td>3.0</td>\n",
       "      <td>2</td>\n",
       "    </tr>\n",
       "    <tr>\n",
       "      <th>2</th>\n",
       "      <td>67.0</td>\n",
       "      <td>1.0</td>\n",
       "      <td>4.0</td>\n",
       "      <td>120.0</td>\n",
       "      <td>229.0</td>\n",
       "      <td>0.0</td>\n",
       "      <td>2.0</td>\n",
       "      <td>129.0</td>\n",
       "      <td>1.0</td>\n",
       "      <td>2.6</td>\n",
       "      <td>2.0</td>\n",
       "      <td>2.0</td>\n",
       "      <td>7.0</td>\n",
       "      <td>1</td>\n",
       "    </tr>\n",
       "    <tr>\n",
       "      <th>3</th>\n",
       "      <td>37.0</td>\n",
       "      <td>1.0</td>\n",
       "      <td>3.0</td>\n",
       "      <td>130.0</td>\n",
       "      <td>250.0</td>\n",
       "      <td>0.0</td>\n",
       "      <td>0.0</td>\n",
       "      <td>187.0</td>\n",
       "      <td>0.0</td>\n",
       "      <td>3.5</td>\n",
       "      <td>3.0</td>\n",
       "      <td>0.0</td>\n",
       "      <td>3.0</td>\n",
       "      <td>0</td>\n",
       "    </tr>\n",
       "    <tr>\n",
       "      <th>4</th>\n",
       "      <td>41.0</td>\n",
       "      <td>0.0</td>\n",
       "      <td>2.0</td>\n",
       "      <td>130.0</td>\n",
       "      <td>204.0</td>\n",
       "      <td>0.0</td>\n",
       "      <td>2.0</td>\n",
       "      <td>172.0</td>\n",
       "      <td>0.0</td>\n",
       "      <td>1.4</td>\n",
       "      <td>1.0</td>\n",
       "      <td>0.0</td>\n",
       "      <td>3.0</td>\n",
       "      <td>0</td>\n",
       "    </tr>\n",
       "    <tr>\n",
       "      <th>...</th>\n",
       "      <td>...</td>\n",
       "      <td>...</td>\n",
       "      <td>...</td>\n",
       "      <td>...</td>\n",
       "      <td>...</td>\n",
       "      <td>...</td>\n",
       "      <td>...</td>\n",
       "      <td>...</td>\n",
       "      <td>...</td>\n",
       "      <td>...</td>\n",
       "      <td>...</td>\n",
       "      <td>...</td>\n",
       "      <td>...</td>\n",
       "      <td>...</td>\n",
       "    </tr>\n",
       "    <tr>\n",
       "      <th>298</th>\n",
       "      <td>45.0</td>\n",
       "      <td>1.0</td>\n",
       "      <td>1.0</td>\n",
       "      <td>110.0</td>\n",
       "      <td>264.0</td>\n",
       "      <td>0.0</td>\n",
       "      <td>0.0</td>\n",
       "      <td>132.0</td>\n",
       "      <td>0.0</td>\n",
       "      <td>1.2</td>\n",
       "      <td>2.0</td>\n",
       "      <td>0.0</td>\n",
       "      <td>7.0</td>\n",
       "      <td>1</td>\n",
       "    </tr>\n",
       "    <tr>\n",
       "      <th>299</th>\n",
       "      <td>68.0</td>\n",
       "      <td>1.0</td>\n",
       "      <td>4.0</td>\n",
       "      <td>144.0</td>\n",
       "      <td>193.0</td>\n",
       "      <td>1.0</td>\n",
       "      <td>0.0</td>\n",
       "      <td>141.0</td>\n",
       "      <td>0.0</td>\n",
       "      <td>3.4</td>\n",
       "      <td>2.0</td>\n",
       "      <td>2.0</td>\n",
       "      <td>7.0</td>\n",
       "      <td>2</td>\n",
       "    </tr>\n",
       "    <tr>\n",
       "      <th>300</th>\n",
       "      <td>57.0</td>\n",
       "      <td>1.0</td>\n",
       "      <td>4.0</td>\n",
       "      <td>130.0</td>\n",
       "      <td>131.0</td>\n",
       "      <td>0.0</td>\n",
       "      <td>0.0</td>\n",
       "      <td>115.0</td>\n",
       "      <td>1.0</td>\n",
       "      <td>1.2</td>\n",
       "      <td>2.0</td>\n",
       "      <td>1.0</td>\n",
       "      <td>7.0</td>\n",
       "      <td>3</td>\n",
       "    </tr>\n",
       "    <tr>\n",
       "      <th>301</th>\n",
       "      <td>57.0</td>\n",
       "      <td>0.0</td>\n",
       "      <td>2.0</td>\n",
       "      <td>130.0</td>\n",
       "      <td>236.0</td>\n",
       "      <td>0.0</td>\n",
       "      <td>2.0</td>\n",
       "      <td>174.0</td>\n",
       "      <td>0.0</td>\n",
       "      <td>0.0</td>\n",
       "      <td>2.0</td>\n",
       "      <td>1.0</td>\n",
       "      <td>3.0</td>\n",
       "      <td>1</td>\n",
       "    </tr>\n",
       "    <tr>\n",
       "      <th>302</th>\n",
       "      <td>38.0</td>\n",
       "      <td>1.0</td>\n",
       "      <td>3.0</td>\n",
       "      <td>138.0</td>\n",
       "      <td>175.0</td>\n",
       "      <td>0.0</td>\n",
       "      <td>0.0</td>\n",
       "      <td>173.0</td>\n",
       "      <td>0.0</td>\n",
       "      <td>0.0</td>\n",
       "      <td>1.0</td>\n",
       "      <td>?</td>\n",
       "      <td>3.0</td>\n",
       "      <td>0</td>\n",
       "    </tr>\n",
       "  </tbody>\n",
       "</table>\n",
       "<p>303 rows × 14 columns</p>\n",
       "</div>"
      ],
      "text/plain": [
       "      age  sex   cp  trestbps   chol  fbs  restecg  thalach  exang  oldpeak  \\\n",
       "0    63.0  1.0  1.0     145.0  233.0  1.0      2.0    150.0    0.0      2.3   \n",
       "1    67.0  1.0  4.0     160.0  286.0  0.0      2.0    108.0    1.0      1.5   \n",
       "2    67.0  1.0  4.0     120.0  229.0  0.0      2.0    129.0    1.0      2.6   \n",
       "3    37.0  1.0  3.0     130.0  250.0  0.0      0.0    187.0    0.0      3.5   \n",
       "4    41.0  0.0  2.0     130.0  204.0  0.0      2.0    172.0    0.0      1.4   \n",
       "..    ...  ...  ...       ...    ...  ...      ...      ...    ...      ...   \n",
       "298  45.0  1.0  1.0     110.0  264.0  0.0      0.0    132.0    0.0      1.2   \n",
       "299  68.0  1.0  4.0     144.0  193.0  1.0      0.0    141.0    0.0      3.4   \n",
       "300  57.0  1.0  4.0     130.0  131.0  0.0      0.0    115.0    1.0      1.2   \n",
       "301  57.0  0.0  2.0     130.0  236.0  0.0      2.0    174.0    0.0      0.0   \n",
       "302  38.0  1.0  3.0     138.0  175.0  0.0      0.0    173.0    0.0      0.0   \n",
       "\n",
       "     slope   ca thal  target  \n",
       "0      3.0  0.0  6.0       0  \n",
       "1      2.0  3.0  3.0       2  \n",
       "2      2.0  2.0  7.0       1  \n",
       "3      3.0  0.0  3.0       0  \n",
       "4      1.0  0.0  3.0       0  \n",
       "..     ...  ...  ...     ...  \n",
       "298    2.0  0.0  7.0       1  \n",
       "299    2.0  2.0  7.0       2  \n",
       "300    2.0  1.0  7.0       3  \n",
       "301    2.0  1.0  3.0       1  \n",
       "302    1.0    ?  3.0       0  \n",
       "\n",
       "[303 rows x 14 columns]"
      ]
     },
     "execution_count": 6,
     "metadata": {},
     "output_type": "execute_result"
    }
   ],
   "source": [
    "# Loading kaggle data csv\n",
    "dataset_url = \"Dataset/processed.cleveland.data\"\n",
    "dataset = pd.read_csv(dataset_url,names = [\"age\", \"sex\", \"cp\", \"trestbps\", \"chol\", \"fbs\", \"restecg\", \"thalach\", \"exang\", \"oldpeak\", \"slope\", \"ca\", \"thal\", \"target\"])\n",
    "dataset"
   ]
  },
  {
   "cell_type": "code",
   "execution_count": 7,
   "metadata": {
    "id": "BNFM3FcW90V7"
   },
   "outputs": [
    {
     "name": "stdout",
     "output_type": "stream",
     "text": [
      "Data rows and columns: (303, 14)\n"
     ]
    }
   ],
   "source": [
    "print(\"Data rows and columns:\", dataset.shape)"
   ]
  },
  {
   "cell_type": "markdown",
   "metadata": {
    "id": "1S45ye_ZVjSV"
   },
   "source": [
    "#### Dataset Analysis:"
   ]
  },
  {
   "cell_type": "markdown",
   "metadata": {
    "id": "Tno84pnFvIW-"
   },
   "source": [
    "The given code performs dataset analysis on a dataset that contains information about diseases and their corresponding features. Here are the key points"
   ]
  },
  {
   "cell_type": "code",
   "execution_count": 8,
   "metadata": {
    "id": "xxyE-aJ39-RO"
   },
   "outputs": [
    {
     "data": {
      "text/html": [
       "<div>\n",
       "<style scoped>\n",
       "    .dataframe tbody tr th:only-of-type {\n",
       "        vertical-align: middle;\n",
       "    }\n",
       "\n",
       "    .dataframe tbody tr th {\n",
       "        vertical-align: top;\n",
       "    }\n",
       "\n",
       "    .dataframe thead th {\n",
       "        text-align: right;\n",
       "    }\n",
       "</style>\n",
       "<table border=\"1\" class=\"dataframe\">\n",
       "  <thead>\n",
       "    <tr style=\"text-align: right;\">\n",
       "      <th></th>\n",
       "      <th>age</th>\n",
       "      <th>sex</th>\n",
       "      <th>cp</th>\n",
       "      <th>trestbps</th>\n",
       "      <th>chol</th>\n",
       "      <th>fbs</th>\n",
       "      <th>restecg</th>\n",
       "      <th>thalach</th>\n",
       "      <th>exang</th>\n",
       "      <th>oldpeak</th>\n",
       "      <th>slope</th>\n",
       "      <th>target</th>\n",
       "    </tr>\n",
       "  </thead>\n",
       "  <tbody>\n",
       "    <tr>\n",
       "      <th>count</th>\n",
       "      <td>303.000000</td>\n",
       "      <td>303.000000</td>\n",
       "      <td>303.000000</td>\n",
       "      <td>303.000000</td>\n",
       "      <td>303.000000</td>\n",
       "      <td>303.000000</td>\n",
       "      <td>303.000000</td>\n",
       "      <td>303.000000</td>\n",
       "      <td>303.000000</td>\n",
       "      <td>303.000000</td>\n",
       "      <td>303.000000</td>\n",
       "      <td>303.000000</td>\n",
       "    </tr>\n",
       "    <tr>\n",
       "      <th>mean</th>\n",
       "      <td>54.438944</td>\n",
       "      <td>0.679868</td>\n",
       "      <td>3.158416</td>\n",
       "      <td>131.689769</td>\n",
       "      <td>246.693069</td>\n",
       "      <td>0.148515</td>\n",
       "      <td>0.990099</td>\n",
       "      <td>149.607261</td>\n",
       "      <td>0.326733</td>\n",
       "      <td>1.039604</td>\n",
       "      <td>1.600660</td>\n",
       "      <td>0.937294</td>\n",
       "    </tr>\n",
       "    <tr>\n",
       "      <th>std</th>\n",
       "      <td>9.038662</td>\n",
       "      <td>0.467299</td>\n",
       "      <td>0.960126</td>\n",
       "      <td>17.599748</td>\n",
       "      <td>51.776918</td>\n",
       "      <td>0.356198</td>\n",
       "      <td>0.994971</td>\n",
       "      <td>22.875003</td>\n",
       "      <td>0.469794</td>\n",
       "      <td>1.161075</td>\n",
       "      <td>0.616226</td>\n",
       "      <td>1.228536</td>\n",
       "    </tr>\n",
       "    <tr>\n",
       "      <th>min</th>\n",
       "      <td>29.000000</td>\n",
       "      <td>0.000000</td>\n",
       "      <td>1.000000</td>\n",
       "      <td>94.000000</td>\n",
       "      <td>126.000000</td>\n",
       "      <td>0.000000</td>\n",
       "      <td>0.000000</td>\n",
       "      <td>71.000000</td>\n",
       "      <td>0.000000</td>\n",
       "      <td>0.000000</td>\n",
       "      <td>1.000000</td>\n",
       "      <td>0.000000</td>\n",
       "    </tr>\n",
       "    <tr>\n",
       "      <th>25%</th>\n",
       "      <td>48.000000</td>\n",
       "      <td>0.000000</td>\n",
       "      <td>3.000000</td>\n",
       "      <td>120.000000</td>\n",
       "      <td>211.000000</td>\n",
       "      <td>0.000000</td>\n",
       "      <td>0.000000</td>\n",
       "      <td>133.500000</td>\n",
       "      <td>0.000000</td>\n",
       "      <td>0.000000</td>\n",
       "      <td>1.000000</td>\n",
       "      <td>0.000000</td>\n",
       "    </tr>\n",
       "    <tr>\n",
       "      <th>50%</th>\n",
       "      <td>56.000000</td>\n",
       "      <td>1.000000</td>\n",
       "      <td>3.000000</td>\n",
       "      <td>130.000000</td>\n",
       "      <td>241.000000</td>\n",
       "      <td>0.000000</td>\n",
       "      <td>1.000000</td>\n",
       "      <td>153.000000</td>\n",
       "      <td>0.000000</td>\n",
       "      <td>0.800000</td>\n",
       "      <td>2.000000</td>\n",
       "      <td>0.000000</td>\n",
       "    </tr>\n",
       "    <tr>\n",
       "      <th>75%</th>\n",
       "      <td>61.000000</td>\n",
       "      <td>1.000000</td>\n",
       "      <td>4.000000</td>\n",
       "      <td>140.000000</td>\n",
       "      <td>275.000000</td>\n",
       "      <td>0.000000</td>\n",
       "      <td>2.000000</td>\n",
       "      <td>166.000000</td>\n",
       "      <td>1.000000</td>\n",
       "      <td>1.600000</td>\n",
       "      <td>2.000000</td>\n",
       "      <td>2.000000</td>\n",
       "    </tr>\n",
       "    <tr>\n",
       "      <th>max</th>\n",
       "      <td>77.000000</td>\n",
       "      <td>1.000000</td>\n",
       "      <td>4.000000</td>\n",
       "      <td>200.000000</td>\n",
       "      <td>564.000000</td>\n",
       "      <td>1.000000</td>\n",
       "      <td>2.000000</td>\n",
       "      <td>202.000000</td>\n",
       "      <td>1.000000</td>\n",
       "      <td>6.200000</td>\n",
       "      <td>3.000000</td>\n",
       "      <td>4.000000</td>\n",
       "    </tr>\n",
       "  </tbody>\n",
       "</table>\n",
       "</div>"
      ],
      "text/plain": [
       "              age         sex          cp    trestbps        chol         fbs  \\\n",
       "count  303.000000  303.000000  303.000000  303.000000  303.000000  303.000000   \n",
       "mean    54.438944    0.679868    3.158416  131.689769  246.693069    0.148515   \n",
       "std      9.038662    0.467299    0.960126   17.599748   51.776918    0.356198   \n",
       "min     29.000000    0.000000    1.000000   94.000000  126.000000    0.000000   \n",
       "25%     48.000000    0.000000    3.000000  120.000000  211.000000    0.000000   \n",
       "50%     56.000000    1.000000    3.000000  130.000000  241.000000    0.000000   \n",
       "75%     61.000000    1.000000    4.000000  140.000000  275.000000    0.000000   \n",
       "max     77.000000    1.000000    4.000000  200.000000  564.000000    1.000000   \n",
       "\n",
       "          restecg     thalach       exang     oldpeak       slope      target  \n",
       "count  303.000000  303.000000  303.000000  303.000000  303.000000  303.000000  \n",
       "mean     0.990099  149.607261    0.326733    1.039604    1.600660    0.937294  \n",
       "std      0.994971   22.875003    0.469794    1.161075    0.616226    1.228536  \n",
       "min      0.000000   71.000000    0.000000    0.000000    1.000000    0.000000  \n",
       "25%      0.000000  133.500000    0.000000    0.000000    1.000000    0.000000  \n",
       "50%      1.000000  153.000000    0.000000    0.800000    2.000000    0.000000  \n",
       "75%      2.000000  166.000000    1.000000    1.600000    2.000000    2.000000  \n",
       "max      2.000000  202.000000    1.000000    6.200000    3.000000    4.000000  "
      ]
     },
     "execution_count": 8,
     "metadata": {},
     "output_type": "execute_result"
    }
   ],
   "source": [
    "dataset.describe()"
   ]
  },
  {
   "cell_type": "markdown",
   "metadata": {
    "id": "xSBQP_P8AdVm"
   },
   "source": [
    "1. age: The person's age in years\n",
    "\n",
    "2. sex: The person's sex (1 = male, 0 = female)\n",
    "\n",
    "3. cp: The chest pain experienced (Value 1: typical angina, Value 2: atypical angina, Value 3: non-anginal pain, Value 4: asymptomatic)\n",
    "\n",
    "4. trestbps: The person's resting blood pressure (mm Hg on admission to the hospital)\n",
    "\n",
    "5. chol: The person's cholesterol measurement in mg/dl\n",
    "\n",
    "6. fbs: The person's fasting blood sugar (> 120 mg/dl, 1 = true; 0 = false)\n",
    "\n",
    "7. restecg: Resting electrocardiographic measurement (0 = normal, 1 = having ST-T wave abnormality, 2 = showing probable or definite left ventricular hypertrophy by Estes' criteria)\n",
    "\n",
    "8. thalach: The person's maximum heart rate achieved\n",
    "\n",
    "9. exang: Exercise induced angina (1 = yes; 0 = no)\n",
    "\n",
    "10. oldpeak: ST depression induced by exercise relative to rest ('ST' relates to positions on the ECG plot. See more here)\n",
    "\n",
    "11. slope: the slope of the peak exercise ST segment (Value 1: upsloping, Value 2: flat, Value 3: downsloping)\n",
    "\n",
    "12. ca: The number of major vessels (0-3)\n",
    "\n",
    "13. thal: A blood disorder called thalassemia (3 = normal; 6 = fixed defect; 7 = reversable defect)\n",
    "\n",
    "14. target: Heart disease (0 = no, 1-4 = heart rate scale)"
   ]
  },
  {
   "cell_type": "markdown",
   "metadata": {
    "id": "bM1_0oUGvIW_"
   },
   "source": [
    "Calculating the number of samples of individual category of heart disease. "
   ]
  },
  {
   "cell_type": "code",
   "execution_count": 9,
   "metadata": {
    "id": "P87opuiHvIW_",
    "scrolled": false
   },
   "outputs": [
    {
     "data": {
      "text/html": [
       "<div>\n",
       "<style scoped>\n",
       "    .dataframe tbody tr th:only-of-type {\n",
       "        vertical-align: middle;\n",
       "    }\n",
       "\n",
       "    .dataframe tbody tr th {\n",
       "        vertical-align: top;\n",
       "    }\n",
       "\n",
       "    .dataframe thead th {\n",
       "        text-align: right;\n",
       "    }\n",
       "</style>\n",
       "<table border=\"1\" class=\"dataframe\">\n",
       "  <thead>\n",
       "    <tr style=\"text-align: right;\">\n",
       "      <th></th>\n",
       "      <th>index</th>\n",
       "      <th>target</th>\n",
       "    </tr>\n",
       "  </thead>\n",
       "  <tbody>\n",
       "    <tr>\n",
       "      <th>0</th>\n",
       "      <td>0</td>\n",
       "      <td>164</td>\n",
       "    </tr>\n",
       "    <tr>\n",
       "      <th>1</th>\n",
       "      <td>1</td>\n",
       "      <td>55</td>\n",
       "    </tr>\n",
       "    <tr>\n",
       "      <th>2</th>\n",
       "      <td>2</td>\n",
       "      <td>36</td>\n",
       "    </tr>\n",
       "    <tr>\n",
       "      <th>3</th>\n",
       "      <td>3</td>\n",
       "      <td>35</td>\n",
       "    </tr>\n",
       "    <tr>\n",
       "      <th>4</th>\n",
       "      <td>4</td>\n",
       "      <td>13</td>\n",
       "    </tr>\n",
       "  </tbody>\n",
       "</table>\n",
       "</div>"
      ],
      "text/plain": [
       "   index  target\n",
       "0      0     164\n",
       "1      1      55\n",
       "2      2      36\n",
       "3      3      35\n",
       "4      4      13"
      ]
     },
     "execution_count": 9,
     "metadata": {},
     "output_type": "execute_result"
    }
   ],
   "source": [
    "disease_count = pd.DataFrame(dataset['target'].value_counts()).reset_index()\n",
    "disease_count"
   ]
  },
  {
   "cell_type": "markdown",
   "metadata": {
    "id": "5DXxnf3f8fLL"
   },
   "source": [
    "In above code:\n",
    "\n",
    "Here we creates a new DataFrame called \"disease_count\" which counts the number of occurrences of each value in the \"target\" column of an existing DataFrame called \"dataset\". It uses the \"value_counts()\" method to count the occurrences of each unique value in the \"target\" column and the \"reset_index()\" method to reset the index of the new DataFrame. The result is a DataFrame called \"disease_count\" that shows how many times each unique value appears in the \"target\" column of the original DataFrame."
   ]
  },
  {
   "cell_type": "markdown",
   "metadata": {
    "id": "FYJftTssvIXA"
   },
   "source": [
    "#### Removing non numerical values:"
   ]
  },
  {
   "cell_type": "code",
   "execution_count": 10,
   "metadata": {
    "colab": {
     "base_uri": "https://localhost:8080/"
    },
    "id": "zEYVUuXcvIXA",
    "outputId": "78d9e9e6-1bd6-43cc-9d60-dd0cd9f9cc18"
   },
   "outputs": [
    {
     "name": "stdout",
     "output_type": "stream",
     "text": [
      "age         0\n",
      "sex         0\n",
      "cp          0\n",
      "trestbps    0\n",
      "chol        0\n",
      "fbs         0\n",
      "restecg     0\n",
      "thalach     0\n",
      "exang       0\n",
      "oldpeak     0\n",
      "slope       0\n",
      "ca          4\n",
      "thal        2\n",
      "target      0\n",
      "dtype: int64\n"
     ]
    }
   ],
   "source": [
    "dataset.loc[dataset.ca==\"?\",'ca']=np.nan\n",
    "dataset.loc[dataset.thal==\"?\",'thal']=np.nan\n",
    "\n",
    "print(dataset.isnull().sum())"
   ]
  },
  {
   "cell_type": "code",
   "execution_count": 11,
   "metadata": {
    "id": "RF4X-z_GvIXA"
   },
   "outputs": [],
   "source": [
    "dataset = dataset.astype(float)\n"
   ]
  },
  {
   "cell_type": "code",
   "execution_count": 12,
   "metadata": {
    "id": "a30kdKgfvIXB"
   },
   "outputs": [],
   "source": [
    "# REPLACING WITH mean of the column\n",
    "for x in dataset.columns:\n",
    "    mean_of_column = dataset[x].mean()\n",
    "    dataset[x].fillna(mean_of_column, inplace = True)"
   ]
  },
  {
   "cell_type": "code",
   "execution_count": 13,
   "metadata": {
    "id": "RV_hlm_2vIXB",
    "outputId": "bb0ac1ef-edfc-4683-9723-f7bcbb167a55"
   },
   "outputs": [
    {
     "data": {
      "text/plain": [
       "age         0\n",
       "sex         0\n",
       "cp          0\n",
       "trestbps    0\n",
       "chol        0\n",
       "fbs         0\n",
       "restecg     0\n",
       "thalach     0\n",
       "exang       0\n",
       "oldpeak     0\n",
       "slope       0\n",
       "ca          0\n",
       "thal        0\n",
       "target      0\n",
       "dtype: int64"
      ]
     },
     "execution_count": 13,
     "metadata": {},
     "output_type": "execute_result"
    }
   ],
   "source": [
    "# no nan value found in current data\n",
    "dataset.isnull().sum()"
   ]
  },
  {
   "cell_type": "code",
   "execution_count": 14,
   "metadata": {
    "colab": {
     "base_uri": "https://localhost:8080/"
    },
    "id": "HmeIp2Y7vIXB",
    "outputId": "d72ca2e7-1e9c-4b0b-ed65-48da6db68e91"
   },
   "outputs": [
    {
     "name": "stdout",
     "output_type": "stream",
     "text": [
      "target      1.000000\n",
      "ca          0.517390\n",
      "thal        0.508799\n",
      "oldpeak     0.504092\n",
      "thalach     0.415040\n",
      "cp          0.407075\n",
      "exang       0.397057\n",
      "slope       0.377957\n",
      "sex         0.224469\n",
      "age         0.222853\n",
      "restecg     0.183696\n",
      "trestbps    0.157754\n",
      "chol        0.070909\n",
      "fbs         0.059186\n",
      "Name: target, dtype: float64\n"
     ]
    }
   ],
   "source": [
    "# Calculating correlation between target of heart disease and other features.\n",
    "print(dataset.corr()[\"target\"].abs().sort_values(ascending=False))"
   ]
  },
  {
   "cell_type": "code",
   "execution_count": 15,
   "metadata": {
    "id": "TTN7g1gTvIXB",
    "scrolled": true
   },
   "outputs": [
    {
     "name": "stdout",
     "output_type": "stream",
     "text": [
      "Percentage of patience without heart problems: 0.46\n",
      "Percentage of patience with heart problems: 0.54\n"
     ]
    }
   ],
   "source": [
    "print(f\"Percentage of patience without heart problems: {round(np.count_nonzero(dataset['target'])/len(dataset['target']),2)}\")\n",
    "print(f\"Percentage of patience with heart problems: {round(np.count_nonzero(dataset['target']==0)/len(dataset['target']),2)}\")"
   ]
  },
  {
   "cell_type": "markdown",
   "metadata": {
    "id": "qTx0dgPrvIXC"
   },
   "source": [
    "#### Training dataset preparation:\n",
    "\n",
    "- Load the dataset and split it into features and target.\n",
    "- Normalize the numerical columns using StandardScaler.\n",
    "- Spliting the dataset into training and testing."
   ]
  },
  {
   "cell_type": "code",
   "execution_count": 16,
   "metadata": {
    "id": "_tDhteVCvIXC"
   },
   "outputs": [],
   "source": [
    "# Split the data into features and target\n",
    "X = dataset.drop(['target'], axis=1)\n",
    "y = dataset['target']\n",
    "\n",
    "# Normalize the numerical columns\n",
    "scaler = StandardScaler()\n",
    "X = scaler.fit_transform(X)\n",
    "\n",
    "classes_n = len(np.unique(y))"
   ]
  },
  {
   "cell_type": "markdown",
   "metadata": {
    "id": "iXhkLdN4vIXC"
   },
   "source": [
    "## Step 2: Model evaluation method:\n",
    "\n",
    "- **Train/Test Split:** The dataset split into training and testing sets, with the model being trained on the training set and evaluated on the testing set. This will be done using the train_test_split function from scikit-learn library.\n",
    "\n",
    "- **Confusion Matrix:** A confusion matrix can be used to evaluate the performance of a classification model. It shows the number of true positives, true negatives, false positives, and false negatives, and can be used to calculate various performance metrics such as precision, recall, and F1-score."
   ]
  },
  {
   "cell_type": "code",
   "execution_count": 17,
   "metadata": {
    "id": "qvQKX6KDvIXC"
   },
   "outputs": [],
   "source": [
    "# Split the data into training and testing sets\n",
    "X_train, X_test, y_train, y_test = train_test_split(X, y, test_size=0.20, random_state=42)"
   ]
  },
  {
   "cell_type": "code",
   "execution_count": 18,
   "metadata": {},
   "outputs": [
    {
     "name": "stdout",
     "output_type": "stream",
     "text": [
      "[flaml.automl.automl: 03-22 03:50:38] {2726} INFO - task = classification\n",
      "[flaml.automl.automl: 03-22 03:50:38] {2728} INFO - Data split method: stratified\n",
      "[flaml.automl.automl: 03-22 03:50:38] {2731} INFO - Evaluation method: cv\n",
      "[flaml.automl.automl: 03-22 03:50:38] {1316} INFO - class 4 augmented from 9 to 27\n",
      "[flaml.automl.automl: 03-22 03:50:38] {2858} INFO - Minimizing error metric: 1-accuracy\n",
      "[flaml.automl.automl: 03-22 03:50:38] {3004} INFO - List of ML learners in AutoML Run: ['lgbm', 'rf', 'xgboost', 'extra_tree', 'xgb_limitdepth', 'lrl1']\n",
      "[flaml.automl.automl: 03-22 03:50:38] {3334} INFO - iteration 0, current learner lgbm\n",
      "[flaml.automl.automl: 03-22 03:50:39] {3472} INFO - Estimated sufficient time budget=7101s. Estimated necessary time budget=164s.\n",
      "[flaml.automl.automl: 03-22 03:50:39] {3519} INFO -  at 0.8s,\testimator lgbm's best error=0.4808,\tbest estimator lgbm's best error=0.4808\n",
      "[flaml.automl.automl: 03-22 03:50:39] {3334} INFO - iteration 1, current learner lgbm\n",
      "[flaml.automl.automl: 03-22 03:50:39] {3519} INFO -  at 1.4s,\testimator lgbm's best error=0.4808,\tbest estimator lgbm's best error=0.4808\n",
      "[flaml.automl.automl: 03-22 03:50:39] {3334} INFO - iteration 2, current learner lgbm\n",
      "[flaml.automl.automl: 03-22 03:50:40] {3519} INFO -  at 1.9s,\testimator lgbm's best error=0.4038,\tbest estimator lgbm's best error=0.4038\n",
      "[flaml.automl.automl: 03-22 03:50:40] {3334} INFO - iteration 3, current learner lgbm\n",
      "[flaml.automl.automl: 03-22 03:50:41] {3519} INFO -  at 2.6s,\testimator lgbm's best error=0.3615,\tbest estimator lgbm's best error=0.3615\n",
      "[flaml.automl.automl: 03-22 03:50:41] {3334} INFO - iteration 4, current learner lgbm\n",
      "[flaml.automl.automl: 03-22 03:50:41] {3519} INFO -  at 3.0s,\testimator lgbm's best error=0.3615,\tbest estimator lgbm's best error=0.3615\n",
      "[flaml.automl.automl: 03-22 03:50:41] {3334} INFO - iteration 5, current learner lgbm\n",
      "[flaml.automl.automl: 03-22 03:50:42] {3519} INFO -  at 3.6s,\testimator lgbm's best error=0.3615,\tbest estimator lgbm's best error=0.3615\n",
      "[flaml.automl.automl: 03-22 03:50:42] {3334} INFO - iteration 6, current learner lgbm\n",
      "[flaml.automl.automl: 03-22 03:50:42] {3519} INFO -  at 4.2s,\testimator lgbm's best error=0.3615,\tbest estimator lgbm's best error=0.3615\n",
      "[flaml.automl.automl: 03-22 03:50:42] {3334} INFO - iteration 7, current learner xgboost\n"
     ]
    },
    {
     "name": "stderr",
     "output_type": "stream",
     "text": [
      "c:\\Users\\HAIER\\miniconda3\\envs\\disease\\lib\\site-packages\\xgboost\\sklearn.py:1395: UserWarning: `use_label_encoder` is deprecated in 1.7.0.\n",
      "  warnings.warn(\"`use_label_encoder` is deprecated in 1.7.0.\")\n",
      "c:\\Users\\HAIER\\miniconda3\\envs\\disease\\lib\\site-packages\\xgboost\\sklearn.py:1395: UserWarning: `use_label_encoder` is deprecated in 1.7.0.\n",
      "  warnings.warn(\"`use_label_encoder` is deprecated in 1.7.0.\")\n",
      "c:\\Users\\HAIER\\miniconda3\\envs\\disease\\lib\\site-packages\\xgboost\\sklearn.py:1395: UserWarning: `use_label_encoder` is deprecated in 1.7.0.\n",
      "  warnings.warn(\"`use_label_encoder` is deprecated in 1.7.0.\")\n",
      "c:\\Users\\HAIER\\miniconda3\\envs\\disease\\lib\\site-packages\\xgboost\\sklearn.py:1395: UserWarning: `use_label_encoder` is deprecated in 1.7.0.\n",
      "  warnings.warn(\"`use_label_encoder` is deprecated in 1.7.0.\")\n",
      "c:\\Users\\HAIER\\miniconda3\\envs\\disease\\lib\\site-packages\\xgboost\\sklearn.py:1395: UserWarning: `use_label_encoder` is deprecated in 1.7.0.\n",
      "  warnings.warn(\"`use_label_encoder` is deprecated in 1.7.0.\")\n"
     ]
    },
    {
     "name": "stdout",
     "output_type": "stream",
     "text": [
      "[flaml.automl.automl: 03-22 03:50:43] {3519} INFO -  at 4.8s,\testimator xgboost's best error=0.4154,\tbest estimator lgbm's best error=0.3615\n",
      "[flaml.automl.automl: 03-22 03:50:43] {3334} INFO - iteration 8, current learner lgbm\n",
      "[flaml.automl.automl: 03-22 03:50:44] {3519} INFO -  at 5.7s,\testimator lgbm's best error=0.3538,\tbest estimator lgbm's best error=0.3538\n",
      "[flaml.automl.automl: 03-22 03:50:44] {3334} INFO - iteration 9, current learner xgboost\n"
     ]
    },
    {
     "name": "stderr",
     "output_type": "stream",
     "text": [
      "c:\\Users\\HAIER\\miniconda3\\envs\\disease\\lib\\site-packages\\xgboost\\sklearn.py:1395: UserWarning: `use_label_encoder` is deprecated in 1.7.0.\n",
      "  warnings.warn(\"`use_label_encoder` is deprecated in 1.7.0.\")\n",
      "c:\\Users\\HAIER\\miniconda3\\envs\\disease\\lib\\site-packages\\xgboost\\sklearn.py:1395: UserWarning: `use_label_encoder` is deprecated in 1.7.0.\n",
      "  warnings.warn(\"`use_label_encoder` is deprecated in 1.7.0.\")\n",
      "c:\\Users\\HAIER\\miniconda3\\envs\\disease\\lib\\site-packages\\xgboost\\sklearn.py:1395: UserWarning: `use_label_encoder` is deprecated in 1.7.0.\n",
      "  warnings.warn(\"`use_label_encoder` is deprecated in 1.7.0.\")\n",
      "c:\\Users\\HAIER\\miniconda3\\envs\\disease\\lib\\site-packages\\xgboost\\sklearn.py:1395: UserWarning: `use_label_encoder` is deprecated in 1.7.0.\n",
      "  warnings.warn(\"`use_label_encoder` is deprecated in 1.7.0.\")\n",
      "c:\\Users\\HAIER\\miniconda3\\envs\\disease\\lib\\site-packages\\xgboost\\sklearn.py:1395: UserWarning: `use_label_encoder` is deprecated in 1.7.0.\n",
      "  warnings.warn(\"`use_label_encoder` is deprecated in 1.7.0.\")\n"
     ]
    },
    {
     "name": "stdout",
     "output_type": "stream",
     "text": [
      "[flaml.automl.automl: 03-22 03:50:45] {3519} INFO -  at 6.7s,\testimator xgboost's best error=0.3846,\tbest estimator lgbm's best error=0.3538\n",
      "[flaml.automl.automl: 03-22 03:50:45] {3334} INFO - iteration 10, current learner extra_tree\n",
      "[flaml.automl.automl: 03-22 03:50:46] {3519} INFO -  at 7.7s,\testimator extra_tree's best error=0.4538,\tbest estimator lgbm's best error=0.3538\n",
      "[flaml.automl.automl: 03-22 03:50:46] {3334} INFO - iteration 11, current learner xgboost\n"
     ]
    },
    {
     "name": "stderr",
     "output_type": "stream",
     "text": [
      "c:\\Users\\HAIER\\miniconda3\\envs\\disease\\lib\\site-packages\\xgboost\\sklearn.py:1395: UserWarning: `use_label_encoder` is deprecated in 1.7.0.\n",
      "  warnings.warn(\"`use_label_encoder` is deprecated in 1.7.0.\")\n",
      "c:\\Users\\HAIER\\miniconda3\\envs\\disease\\lib\\site-packages\\xgboost\\sklearn.py:1395: UserWarning: `use_label_encoder` is deprecated in 1.7.0.\n",
      "  warnings.warn(\"`use_label_encoder` is deprecated in 1.7.0.\")\n",
      "c:\\Users\\HAIER\\miniconda3\\envs\\disease\\lib\\site-packages\\xgboost\\sklearn.py:1395: UserWarning: `use_label_encoder` is deprecated in 1.7.0.\n",
      "  warnings.warn(\"`use_label_encoder` is deprecated in 1.7.0.\")\n",
      "c:\\Users\\HAIER\\miniconda3\\envs\\disease\\lib\\site-packages\\xgboost\\sklearn.py:1395: UserWarning: `use_label_encoder` is deprecated in 1.7.0.\n",
      "  warnings.warn(\"`use_label_encoder` is deprecated in 1.7.0.\")\n",
      "c:\\Users\\HAIER\\miniconda3\\envs\\disease\\lib\\site-packages\\xgboost\\sklearn.py:1395: UserWarning: `use_label_encoder` is deprecated in 1.7.0.\n",
      "  warnings.warn(\"`use_label_encoder` is deprecated in 1.7.0.\")\n"
     ]
    },
    {
     "name": "stdout",
     "output_type": "stream",
     "text": [
      "[flaml.automl.automl: 03-22 03:50:46] {3519} INFO -  at 8.3s,\testimator xgboost's best error=0.3846,\tbest estimator lgbm's best error=0.3538\n",
      "[flaml.automl.automl: 03-22 03:50:46] {3334} INFO - iteration 12, current learner extra_tree\n",
      "[flaml.automl.automl: 03-22 03:50:47] {3519} INFO -  at 8.8s,\testimator extra_tree's best error=0.4500,\tbest estimator lgbm's best error=0.3538\n",
      "[flaml.automl.automl: 03-22 03:50:47] {3334} INFO - iteration 13, current learner rf\n",
      "[flaml.automl.automl: 03-22 03:50:48] {3519} INFO -  at 9.6s,\testimator rf's best error=0.4500,\tbest estimator lgbm's best error=0.3538\n",
      "[flaml.automl.automl: 03-22 03:50:48] {3334} INFO - iteration 14, current learner rf\n",
      "[flaml.automl.automl: 03-22 03:50:48] {3519} INFO -  at 10.3s,\testimator rf's best error=0.4385,\tbest estimator lgbm's best error=0.3538\n",
      "[flaml.automl.automl: 03-22 03:50:48] {3334} INFO - iteration 15, current learner xgboost\n"
     ]
    },
    {
     "name": "stderr",
     "output_type": "stream",
     "text": [
      "c:\\Users\\HAIER\\miniconda3\\envs\\disease\\lib\\site-packages\\xgboost\\sklearn.py:1395: UserWarning: `use_label_encoder` is deprecated in 1.7.0.\n",
      "  warnings.warn(\"`use_label_encoder` is deprecated in 1.7.0.\")\n",
      "c:\\Users\\HAIER\\miniconda3\\envs\\disease\\lib\\site-packages\\xgboost\\sklearn.py:1395: UserWarning: `use_label_encoder` is deprecated in 1.7.0.\n",
      "  warnings.warn(\"`use_label_encoder` is deprecated in 1.7.0.\")\n",
      "c:\\Users\\HAIER\\miniconda3\\envs\\disease\\lib\\site-packages\\xgboost\\sklearn.py:1395: UserWarning: `use_label_encoder` is deprecated in 1.7.0.\n",
      "  warnings.warn(\"`use_label_encoder` is deprecated in 1.7.0.\")\n",
      "c:\\Users\\HAIER\\miniconda3\\envs\\disease\\lib\\site-packages\\xgboost\\sklearn.py:1395: UserWarning: `use_label_encoder` is deprecated in 1.7.0.\n",
      "  warnings.warn(\"`use_label_encoder` is deprecated in 1.7.0.\")\n",
      "c:\\Users\\HAIER\\miniconda3\\envs\\disease\\lib\\site-packages\\xgboost\\sklearn.py:1395: UserWarning: `use_label_encoder` is deprecated in 1.7.0.\n",
      "  warnings.warn(\"`use_label_encoder` is deprecated in 1.7.0.\")\n"
     ]
    },
    {
     "name": "stdout",
     "output_type": "stream",
     "text": [
      "[flaml.automl.automl: 03-22 03:50:49] {3519} INFO -  at 10.8s,\testimator xgboost's best error=0.3846,\tbest estimator lgbm's best error=0.3538\n",
      "[flaml.automl.automl: 03-22 03:50:49] {3334} INFO - iteration 16, current learner lgbm\n",
      "[flaml.automl.automl: 03-22 03:50:50] {3519} INFO -  at 11.5s,\testimator lgbm's best error=0.3538,\tbest estimator lgbm's best error=0.3538\n",
      "[flaml.automl.automl: 03-22 03:50:50] {3334} INFO - iteration 17, current learner xgboost\n"
     ]
    },
    {
     "name": "stderr",
     "output_type": "stream",
     "text": [
      "c:\\Users\\HAIER\\miniconda3\\envs\\disease\\lib\\site-packages\\xgboost\\sklearn.py:1395: UserWarning: `use_label_encoder` is deprecated in 1.7.0.\n",
      "  warnings.warn(\"`use_label_encoder` is deprecated in 1.7.0.\")\n",
      "c:\\Users\\HAIER\\miniconda3\\envs\\disease\\lib\\site-packages\\xgboost\\sklearn.py:1395: UserWarning: `use_label_encoder` is deprecated in 1.7.0.\n",
      "  warnings.warn(\"`use_label_encoder` is deprecated in 1.7.0.\")\n",
      "c:\\Users\\HAIER\\miniconda3\\envs\\disease\\lib\\site-packages\\xgboost\\sklearn.py:1395: UserWarning: `use_label_encoder` is deprecated in 1.7.0.\n",
      "  warnings.warn(\"`use_label_encoder` is deprecated in 1.7.0.\")\n",
      "c:\\Users\\HAIER\\miniconda3\\envs\\disease\\lib\\site-packages\\xgboost\\sklearn.py:1395: UserWarning: `use_label_encoder` is deprecated in 1.7.0.\n",
      "  warnings.warn(\"`use_label_encoder` is deprecated in 1.7.0.\")\n"
     ]
    },
    {
     "name": "stdout",
     "output_type": "stream",
     "text": [
      "[flaml.automl.automl: 03-22 03:50:50] {3519} INFO -  at 12.1s,\testimator xgboost's best error=0.3846,\tbest estimator lgbm's best error=0.3538\n",
      "[flaml.automl.automl: 03-22 03:50:50] {3334} INFO - iteration 18, current learner lgbm\n"
     ]
    },
    {
     "name": "stderr",
     "output_type": "stream",
     "text": [
      "c:\\Users\\HAIER\\miniconda3\\envs\\disease\\lib\\site-packages\\xgboost\\sklearn.py:1395: UserWarning: `use_label_encoder` is deprecated in 1.7.0.\n",
      "  warnings.warn(\"`use_label_encoder` is deprecated in 1.7.0.\")\n"
     ]
    },
    {
     "name": "stdout",
     "output_type": "stream",
     "text": [
      "[flaml.automl.automl: 03-22 03:50:51] {3519} INFO -  at 12.5s,\testimator lgbm's best error=0.3538,\tbest estimator lgbm's best error=0.3538\n",
      "[flaml.automl.automl: 03-22 03:50:51] {3334} INFO - iteration 19, current learner rf\n",
      "[flaml.automl.automl: 03-22 03:50:51] {3519} INFO -  at 13.4s,\testimator rf's best error=0.4385,\tbest estimator lgbm's best error=0.3538\n",
      "[flaml.automl.automl: 03-22 03:50:51] {3334} INFO - iteration 20, current learner lgbm\n",
      "[flaml.automl.automl: 03-22 03:50:52] {3519} INFO -  at 14.1s,\testimator lgbm's best error=0.3538,\tbest estimator lgbm's best error=0.3538\n",
      "[flaml.automl.automl: 03-22 03:50:52] {3334} INFO - iteration 21, current learner lgbm\n",
      "[flaml.automl.automl: 03-22 03:50:53] {3519} INFO -  at 14.6s,\testimator lgbm's best error=0.3538,\tbest estimator lgbm's best error=0.3538\n",
      "[flaml.automl.automl: 03-22 03:50:53] {3334} INFO - iteration 22, current learner lgbm\n",
      "[flaml.automl.automl: 03-22 03:50:53] {3519} INFO -  at 15.0s,\testimator lgbm's best error=0.3538,\tbest estimator lgbm's best error=0.3538\n",
      "[flaml.automl.automl: 03-22 03:50:53] {3334} INFO - iteration 23, current learner lgbm\n",
      "[flaml.automl.automl: 03-22 03:50:54] {3519} INFO -  at 15.5s,\testimator lgbm's best error=0.3538,\tbest estimator lgbm's best error=0.3538\n",
      "[flaml.automl.automl: 03-22 03:50:54] {3334} INFO - iteration 24, current learner xgboost\n"
     ]
    },
    {
     "name": "stderr",
     "output_type": "stream",
     "text": [
      "c:\\Users\\HAIER\\miniconda3\\envs\\disease\\lib\\site-packages\\xgboost\\sklearn.py:1395: UserWarning: `use_label_encoder` is deprecated in 1.7.0.\n",
      "  warnings.warn(\"`use_label_encoder` is deprecated in 1.7.0.\")\n",
      "c:\\Users\\HAIER\\miniconda3\\envs\\disease\\lib\\site-packages\\xgboost\\sklearn.py:1395: UserWarning: `use_label_encoder` is deprecated in 1.7.0.\n",
      "  warnings.warn(\"`use_label_encoder` is deprecated in 1.7.0.\")\n",
      "c:\\Users\\HAIER\\miniconda3\\envs\\disease\\lib\\site-packages\\xgboost\\sklearn.py:1395: UserWarning: `use_label_encoder` is deprecated in 1.7.0.\n",
      "  warnings.warn(\"`use_label_encoder` is deprecated in 1.7.0.\")\n",
      "c:\\Users\\HAIER\\miniconda3\\envs\\disease\\lib\\site-packages\\xgboost\\sklearn.py:1395: UserWarning: `use_label_encoder` is deprecated in 1.7.0.\n",
      "  warnings.warn(\"`use_label_encoder` is deprecated in 1.7.0.\")\n"
     ]
    },
    {
     "name": "stdout",
     "output_type": "stream",
     "text": [
      "[flaml.automl.automl: 03-22 03:50:54] {3519} INFO -  at 16.2s,\testimator xgboost's best error=0.3846,\tbest estimator lgbm's best error=0.3538\n",
      "[flaml.automl.automl: 03-22 03:50:54] {3334} INFO - iteration 25, current learner extra_tree\n"
     ]
    },
    {
     "name": "stderr",
     "output_type": "stream",
     "text": [
      "c:\\Users\\HAIER\\miniconda3\\envs\\disease\\lib\\site-packages\\xgboost\\sklearn.py:1395: UserWarning: `use_label_encoder` is deprecated in 1.7.0.\n",
      "  warnings.warn(\"`use_label_encoder` is deprecated in 1.7.0.\")\n"
     ]
    },
    {
     "name": "stdout",
     "output_type": "stream",
     "text": [
      "[flaml.automl.automl: 03-22 03:50:55] {3519} INFO -  at 16.9s,\testimator extra_tree's best error=0.4500,\tbest estimator lgbm's best error=0.3538\n",
      "[flaml.automl.automl: 03-22 03:50:55] {3334} INFO - iteration 26, current learner lgbm\n",
      "[flaml.automl.automl: 03-22 03:50:56] {3519} INFO -  at 17.8s,\testimator lgbm's best error=0.3538,\tbest estimator lgbm's best error=0.3538\n",
      "[flaml.automl.automl: 03-22 03:50:56] {3334} INFO - iteration 27, current learner xgboost\n"
     ]
    },
    {
     "name": "stderr",
     "output_type": "stream",
     "text": [
      "c:\\Users\\HAIER\\miniconda3\\envs\\disease\\lib\\site-packages\\xgboost\\sklearn.py:1395: UserWarning: `use_label_encoder` is deprecated in 1.7.0.\n",
      "  warnings.warn(\"`use_label_encoder` is deprecated in 1.7.0.\")\n",
      "c:\\Users\\HAIER\\miniconda3\\envs\\disease\\lib\\site-packages\\xgboost\\sklearn.py:1395: UserWarning: `use_label_encoder` is deprecated in 1.7.0.\n",
      "  warnings.warn(\"`use_label_encoder` is deprecated in 1.7.0.\")\n",
      "c:\\Users\\HAIER\\miniconda3\\envs\\disease\\lib\\site-packages\\xgboost\\sklearn.py:1395: UserWarning: `use_label_encoder` is deprecated in 1.7.0.\n",
      "  warnings.warn(\"`use_label_encoder` is deprecated in 1.7.0.\")\n",
      "c:\\Users\\HAIER\\miniconda3\\envs\\disease\\lib\\site-packages\\xgboost\\sklearn.py:1395: UserWarning: `use_label_encoder` is deprecated in 1.7.0.\n",
      "  warnings.warn(\"`use_label_encoder` is deprecated in 1.7.0.\")\n"
     ]
    },
    {
     "name": "stdout",
     "output_type": "stream",
     "text": [
      "[flaml.automl.automl: 03-22 03:50:57] {3519} INFO -  at 18.5s,\testimator xgboost's best error=0.3846,\tbest estimator lgbm's best error=0.3538\n",
      "[flaml.automl.automl: 03-22 03:50:57] {3334} INFO - iteration 28, current learner xgboost\n"
     ]
    },
    {
     "name": "stderr",
     "output_type": "stream",
     "text": [
      "c:\\Users\\HAIER\\miniconda3\\envs\\disease\\lib\\site-packages\\xgboost\\sklearn.py:1395: UserWarning: `use_label_encoder` is deprecated in 1.7.0.\n",
      "  warnings.warn(\"`use_label_encoder` is deprecated in 1.7.0.\")\n",
      "c:\\Users\\HAIER\\miniconda3\\envs\\disease\\lib\\site-packages\\xgboost\\sklearn.py:1395: UserWarning: `use_label_encoder` is deprecated in 1.7.0.\n",
      "  warnings.warn(\"`use_label_encoder` is deprecated in 1.7.0.\")\n",
      "c:\\Users\\HAIER\\miniconda3\\envs\\disease\\lib\\site-packages\\xgboost\\sklearn.py:1395: UserWarning: `use_label_encoder` is deprecated in 1.7.0.\n",
      "  warnings.warn(\"`use_label_encoder` is deprecated in 1.7.0.\")\n",
      "c:\\Users\\HAIER\\miniconda3\\envs\\disease\\lib\\site-packages\\xgboost\\sklearn.py:1395: UserWarning: `use_label_encoder` is deprecated in 1.7.0.\n",
      "  warnings.warn(\"`use_label_encoder` is deprecated in 1.7.0.\")\n",
      "c:\\Users\\HAIER\\miniconda3\\envs\\disease\\lib\\site-packages\\xgboost\\sklearn.py:1395: UserWarning: `use_label_encoder` is deprecated in 1.7.0.\n",
      "  warnings.warn(\"`use_label_encoder` is deprecated in 1.7.0.\")\n"
     ]
    },
    {
     "name": "stdout",
     "output_type": "stream",
     "text": [
      "[flaml.automl.automl: 03-22 03:50:57] {3519} INFO -  at 19.0s,\testimator xgboost's best error=0.3846,\tbest estimator lgbm's best error=0.3538\n",
      "[flaml.automl.automl: 03-22 03:50:57] {3334} INFO - iteration 29, current learner xgboost\n"
     ]
    },
    {
     "name": "stderr",
     "output_type": "stream",
     "text": [
      "c:\\Users\\HAIER\\miniconda3\\envs\\disease\\lib\\site-packages\\xgboost\\sklearn.py:1395: UserWarning: `use_label_encoder` is deprecated in 1.7.0.\n",
      "  warnings.warn(\"`use_label_encoder` is deprecated in 1.7.0.\")\n",
      "c:\\Users\\HAIER\\miniconda3\\envs\\disease\\lib\\site-packages\\xgboost\\sklearn.py:1395: UserWarning: `use_label_encoder` is deprecated in 1.7.0.\n",
      "  warnings.warn(\"`use_label_encoder` is deprecated in 1.7.0.\")\n",
      "c:\\Users\\HAIER\\miniconda3\\envs\\disease\\lib\\site-packages\\xgboost\\sklearn.py:1395: UserWarning: `use_label_encoder` is deprecated in 1.7.0.\n",
      "  warnings.warn(\"`use_label_encoder` is deprecated in 1.7.0.\")\n",
      "c:\\Users\\HAIER\\miniconda3\\envs\\disease\\lib\\site-packages\\xgboost\\sklearn.py:1395: UserWarning: `use_label_encoder` is deprecated in 1.7.0.\n",
      "  warnings.warn(\"`use_label_encoder` is deprecated in 1.7.0.\")\n",
      "c:\\Users\\HAIER\\miniconda3\\envs\\disease\\lib\\site-packages\\xgboost\\sklearn.py:1395: UserWarning: `use_label_encoder` is deprecated in 1.7.0.\n",
      "  warnings.warn(\"`use_label_encoder` is deprecated in 1.7.0.\")\n",
      "c:\\Users\\HAIER\\miniconda3\\envs\\disease\\lib\\site-packages\\xgboost\\sklearn.py:1395: UserWarning: `use_label_encoder` is deprecated in 1.7.0.\n",
      "  warnings.warn(\"`use_label_encoder` is deprecated in 1.7.0.\")\n"
     ]
    },
    {
     "name": "stdout",
     "output_type": "stream",
     "text": [
      "[flaml.automl.automl: 03-22 03:50:58] {3519} INFO -  at 19.6s,\testimator xgboost's best error=0.3846,\tbest estimator lgbm's best error=0.3538\n",
      "[flaml.automl.automl: 03-22 03:50:58] {3334} INFO - iteration 30, current learner lgbm\n",
      "[flaml.automl.automl: 03-22 03:50:58] {3519} INFO -  at 20.1s,\testimator lgbm's best error=0.3308,\tbest estimator lgbm's best error=0.3308\n",
      "[flaml.automl.automl: 03-22 03:50:58] {3334} INFO - iteration 31, current learner lgbm\n",
      "[flaml.automl.automl: 03-22 03:50:59] {3519} INFO -  at 20.6s,\testimator lgbm's best error=0.3308,\tbest estimator lgbm's best error=0.3308\n",
      "[flaml.automl.automl: 03-22 03:50:59] {3334} INFO - iteration 32, current learner lgbm\n",
      "[flaml.automl.automl: 03-22 03:50:59] {3519} INFO -  at 21.2s,\testimator lgbm's best error=0.3308,\tbest estimator lgbm's best error=0.3308\n",
      "[flaml.automl.automl: 03-22 03:50:59] {3334} INFO - iteration 33, current learner xgboost\n"
     ]
    },
    {
     "name": "stderr",
     "output_type": "stream",
     "text": [
      "c:\\Users\\HAIER\\miniconda3\\envs\\disease\\lib\\site-packages\\xgboost\\sklearn.py:1395: UserWarning: `use_label_encoder` is deprecated in 1.7.0.\n",
      "  warnings.warn(\"`use_label_encoder` is deprecated in 1.7.0.\")\n",
      "c:\\Users\\HAIER\\miniconda3\\envs\\disease\\lib\\site-packages\\xgboost\\sklearn.py:1395: UserWarning: `use_label_encoder` is deprecated in 1.7.0.\n",
      "  warnings.warn(\"`use_label_encoder` is deprecated in 1.7.0.\")\n",
      "c:\\Users\\HAIER\\miniconda3\\envs\\disease\\lib\\site-packages\\xgboost\\sklearn.py:1395: UserWarning: `use_label_encoder` is deprecated in 1.7.0.\n",
      "  warnings.warn(\"`use_label_encoder` is deprecated in 1.7.0.\")\n",
      "c:\\Users\\HAIER\\miniconda3\\envs\\disease\\lib\\site-packages\\xgboost\\sklearn.py:1395: UserWarning: `use_label_encoder` is deprecated in 1.7.0.\n",
      "  warnings.warn(\"`use_label_encoder` is deprecated in 1.7.0.\")\n",
      "c:\\Users\\HAIER\\miniconda3\\envs\\disease\\lib\\site-packages\\xgboost\\sklearn.py:1395: UserWarning: `use_label_encoder` is deprecated in 1.7.0.\n",
      "  warnings.warn(\"`use_label_encoder` is deprecated in 1.7.0.\")\n"
     ]
    },
    {
     "name": "stdout",
     "output_type": "stream",
     "text": [
      "[flaml.automl.automl: 03-22 03:51:03] {3519} INFO -  at 24.7s,\testimator xgboost's best error=0.3846,\tbest estimator lgbm's best error=0.3308\n",
      "[flaml.automl.automl: 03-22 03:51:03] {3334} INFO - iteration 34, current learner lgbm\n",
      "[flaml.automl.automl: 03-22 03:51:04] {3519} INFO -  at 25.5s,\testimator lgbm's best error=0.3308,\tbest estimator lgbm's best error=0.3308\n",
      "[flaml.automl.automl: 03-22 03:51:04] {3334} INFO - iteration 35, current learner lgbm\n",
      "[flaml.automl.automl: 03-22 03:51:05] {3519} INFO -  at 26.7s,\testimator lgbm's best error=0.3308,\tbest estimator lgbm's best error=0.3308\n",
      "[flaml.automl.automl: 03-22 03:51:05] {3334} INFO - iteration 36, current learner extra_tree\n",
      "[flaml.automl.automl: 03-22 03:51:06] {3519} INFO -  at 27.5s,\testimator extra_tree's best error=0.4346,\tbest estimator lgbm's best error=0.3308\n",
      "[flaml.automl.automl: 03-22 03:51:06] {3334} INFO - iteration 37, current learner lgbm\n",
      "[flaml.automl.automl: 03-22 03:51:07] {3519} INFO -  at 28.6s,\testimator lgbm's best error=0.3308,\tbest estimator lgbm's best error=0.3308\n",
      "[flaml.automl.automl: 03-22 03:51:07] {3334} INFO - iteration 38, current learner rf\n",
      "[flaml.automl.automl: 03-22 03:51:07] {3519} INFO -  at 29.2s,\testimator rf's best error=0.4077,\tbest estimator lgbm's best error=0.3308\n",
      "[flaml.automl.automl: 03-22 03:51:07] {3334} INFO - iteration 39, current learner lgbm\n",
      "[flaml.automl.automl: 03-22 03:51:08] {3519} INFO -  at 30.2s,\testimator lgbm's best error=0.3308,\tbest estimator lgbm's best error=0.3308\n",
      "[flaml.automl.automl: 03-22 03:51:08] {3334} INFO - iteration 40, current learner rf\n",
      "[flaml.automl.automl: 03-22 03:51:09] {3519} INFO -  at 30.8s,\testimator rf's best error=0.4077,\tbest estimator lgbm's best error=0.3308\n",
      "[flaml.automl.automl: 03-22 03:51:09] {3334} INFO - iteration 41, current learner xgboost\n"
     ]
    },
    {
     "name": "stderr",
     "output_type": "stream",
     "text": [
      "c:\\Users\\HAIER\\miniconda3\\envs\\disease\\lib\\site-packages\\xgboost\\sklearn.py:1395: UserWarning: `use_label_encoder` is deprecated in 1.7.0.\n",
      "  warnings.warn(\"`use_label_encoder` is deprecated in 1.7.0.\")\n",
      "c:\\Users\\HAIER\\miniconda3\\envs\\disease\\lib\\site-packages\\xgboost\\sklearn.py:1395: UserWarning: `use_label_encoder` is deprecated in 1.7.0.\n",
      "  warnings.warn(\"`use_label_encoder` is deprecated in 1.7.0.\")\n",
      "c:\\Users\\HAIER\\miniconda3\\envs\\disease\\lib\\site-packages\\xgboost\\sklearn.py:1395: UserWarning: `use_label_encoder` is deprecated in 1.7.0.\n",
      "  warnings.warn(\"`use_label_encoder` is deprecated in 1.7.0.\")\n",
      "c:\\Users\\HAIER\\miniconda3\\envs\\disease\\lib\\site-packages\\xgboost\\sklearn.py:1395: UserWarning: `use_label_encoder` is deprecated in 1.7.0.\n",
      "  warnings.warn(\"`use_label_encoder` is deprecated in 1.7.0.\")\n",
      "c:\\Users\\HAIER\\miniconda3\\envs\\disease\\lib\\site-packages\\xgboost\\sklearn.py:1395: UserWarning: `use_label_encoder` is deprecated in 1.7.0.\n",
      "  warnings.warn(\"`use_label_encoder` is deprecated in 1.7.0.\")\n"
     ]
    },
    {
     "name": "stdout",
     "output_type": "stream",
     "text": [
      "[flaml.automl.automl: 03-22 03:51:10] {3519} INFO -  at 31.4s,\testimator xgboost's best error=0.3846,\tbest estimator lgbm's best error=0.3308\n",
      "[flaml.automl.automl: 03-22 03:51:10] {3334} INFO - iteration 42, current learner lgbm\n",
      "[flaml.automl.automl: 03-22 03:51:10] {3519} INFO -  at 31.9s,\testimator lgbm's best error=0.3308,\tbest estimator lgbm's best error=0.3308\n",
      "[flaml.automl.automl: 03-22 03:51:10] {3334} INFO - iteration 43, current learner rf\n",
      "[flaml.automl.automl: 03-22 03:51:11] {3519} INFO -  at 32.9s,\testimator rf's best error=0.3962,\tbest estimator lgbm's best error=0.3308\n",
      "[flaml.automl.automl: 03-22 03:51:11] {3334} INFO - iteration 44, current learner extra_tree\n",
      "[flaml.automl.automl: 03-22 03:51:12] {3519} INFO -  at 33.7s,\testimator extra_tree's best error=0.4346,\tbest estimator lgbm's best error=0.3308\n",
      "[flaml.automl.automl: 03-22 03:51:12] {3334} INFO - iteration 45, current learner rf\n",
      "[flaml.automl.automl: 03-22 03:51:13] {3519} INFO -  at 34.8s,\testimator rf's best error=0.3962,\tbest estimator lgbm's best error=0.3308\n",
      "[flaml.automl.automl: 03-22 03:51:13] {3334} INFO - iteration 46, current learner lgbm\n",
      "[flaml.automl.automl: 03-22 03:51:14] {3519} INFO -  at 36.3s,\testimator lgbm's best error=0.3308,\tbest estimator lgbm's best error=0.3308\n",
      "[flaml.automl.automl: 03-22 03:51:14] {3334} INFO - iteration 47, current learner xgboost\n"
     ]
    },
    {
     "name": "stderr",
     "output_type": "stream",
     "text": [
      "c:\\Users\\HAIER\\miniconda3\\envs\\disease\\lib\\site-packages\\xgboost\\sklearn.py:1395: UserWarning: `use_label_encoder` is deprecated in 1.7.0.\n",
      "  warnings.warn(\"`use_label_encoder` is deprecated in 1.7.0.\")\n",
      "c:\\Users\\HAIER\\miniconda3\\envs\\disease\\lib\\site-packages\\xgboost\\sklearn.py:1395: UserWarning: `use_label_encoder` is deprecated in 1.7.0.\n",
      "  warnings.warn(\"`use_label_encoder` is deprecated in 1.7.0.\")\n",
      "c:\\Users\\HAIER\\miniconda3\\envs\\disease\\lib\\site-packages\\xgboost\\sklearn.py:1395: UserWarning: `use_label_encoder` is deprecated in 1.7.0.\n",
      "  warnings.warn(\"`use_label_encoder` is deprecated in 1.7.0.\")\n",
      "c:\\Users\\HAIER\\miniconda3\\envs\\disease\\lib\\site-packages\\xgboost\\sklearn.py:1395: UserWarning: `use_label_encoder` is deprecated in 1.7.0.\n",
      "  warnings.warn(\"`use_label_encoder` is deprecated in 1.7.0.\")\n",
      "c:\\Users\\HAIER\\miniconda3\\envs\\disease\\lib\\site-packages\\xgboost\\sklearn.py:1395: UserWarning: `use_label_encoder` is deprecated in 1.7.0.\n",
      "  warnings.warn(\"`use_label_encoder` is deprecated in 1.7.0.\")\n"
     ]
    },
    {
     "name": "stdout",
     "output_type": "stream",
     "text": [
      "[flaml.automl.automl: 03-22 03:51:16] {3519} INFO -  at 37.9s,\testimator xgboost's best error=0.3846,\tbest estimator lgbm's best error=0.3308\n",
      "[flaml.automl.automl: 03-22 03:51:16] {3334} INFO - iteration 48, current learner lgbm\n",
      "[flaml.automl.automl: 03-22 03:51:17] {3519} INFO -  at 38.8s,\testimator lgbm's best error=0.3308,\tbest estimator lgbm's best error=0.3308\n",
      "[flaml.automl.automl: 03-22 03:51:17] {3334} INFO - iteration 49, current learner lgbm\n",
      "[flaml.automl.automl: 03-22 03:51:18] {3519} INFO -  at 40.0s,\testimator lgbm's best error=0.3308,\tbest estimator lgbm's best error=0.3308\n",
      "[flaml.automl.automl: 03-22 03:51:18] {3334} INFO - iteration 50, current learner extra_tree\n",
      "[flaml.automl.automl: 03-22 03:51:19] {3519} INFO -  at 41.2s,\testimator extra_tree's best error=0.4346,\tbest estimator lgbm's best error=0.3308\n",
      "[flaml.automl.automl: 03-22 03:51:19] {3334} INFO - iteration 51, current learner lgbm\n",
      "[flaml.automl.automl: 03-22 03:51:20] {3519} INFO -  at 41.7s,\testimator lgbm's best error=0.3308,\tbest estimator lgbm's best error=0.3308\n",
      "[flaml.automl.automl: 03-22 03:51:20] {3334} INFO - iteration 52, current learner lgbm\n",
      "[flaml.automl.automl: 03-22 03:51:21] {3519} INFO -  at 42.4s,\testimator lgbm's best error=0.3308,\tbest estimator lgbm's best error=0.3308\n",
      "[flaml.automl.automl: 03-22 03:51:21] {3334} INFO - iteration 53, current learner lgbm\n",
      "[flaml.automl.automl: 03-22 03:51:21] {3519} INFO -  at 42.9s,\testimator lgbm's best error=0.3308,\tbest estimator lgbm's best error=0.3308\n",
      "[flaml.automl.automl: 03-22 03:51:21] {3334} INFO - iteration 54, current learner lgbm\n",
      "[flaml.automl.automl: 03-22 03:51:21] {3519} INFO -  at 43.3s,\testimator lgbm's best error=0.3308,\tbest estimator lgbm's best error=0.3308\n",
      "[flaml.automl.automl: 03-22 03:51:21] {3334} INFO - iteration 55, current learner rf\n",
      "[flaml.automl.automl: 03-22 03:51:23] {3519} INFO -  at 45.0s,\testimator rf's best error=0.3962,\tbest estimator lgbm's best error=0.3308\n",
      "[flaml.automl.automl: 03-22 03:51:23] {3334} INFO - iteration 56, current learner lgbm\n",
      "[flaml.automl.automl: 03-22 03:51:24] {3519} INFO -  at 45.6s,\testimator lgbm's best error=0.3308,\tbest estimator lgbm's best error=0.3308\n",
      "[flaml.automl.automl: 03-22 03:51:24] {3334} INFO - iteration 57, current learner lgbm\n",
      "[flaml.automl.automl: 03-22 03:51:25] {3519} INFO -  at 46.7s,\testimator lgbm's best error=0.3308,\tbest estimator lgbm's best error=0.3308\n",
      "[flaml.automl.automl: 03-22 03:51:25] {3334} INFO - iteration 58, current learner lgbm\n",
      "[flaml.automl.automl: 03-22 03:51:25] {3519} INFO -  at 47.4s,\testimator lgbm's best error=0.3308,\tbest estimator lgbm's best error=0.3308\n",
      "[flaml.automl.automl: 03-22 03:51:25] {3334} INFO - iteration 59, current learner lgbm\n",
      "[flaml.automl.automl: 03-22 03:51:26] {3519} INFO -  at 47.9s,\testimator lgbm's best error=0.3308,\tbest estimator lgbm's best error=0.3308\n",
      "[flaml.automl.automl: 03-22 03:51:26] {3334} INFO - iteration 60, current learner rf\n",
      "[flaml.automl.automl: 03-22 03:51:27] {3519} INFO -  at 48.7s,\testimator rf's best error=0.3962,\tbest estimator lgbm's best error=0.3308\n",
      "[flaml.automl.automl: 03-22 03:51:27] {3334} INFO - iteration 61, current learner lgbm\n",
      "[flaml.automl.automl: 03-22 03:51:27] {3519} INFO -  at 49.4s,\testimator lgbm's best error=0.3308,\tbest estimator lgbm's best error=0.3308\n",
      "[flaml.automl.automl: 03-22 03:51:27] {3334} INFO - iteration 62, current learner rf\n",
      "[flaml.automl.automl: 03-22 03:51:29] {3519} INFO -  at 51.2s,\testimator rf's best error=0.3962,\tbest estimator lgbm's best error=0.3308\n",
      "[flaml.automl.automl: 03-22 03:51:29] {3334} INFO - iteration 63, current learner xgboost\n"
     ]
    },
    {
     "name": "stderr",
     "output_type": "stream",
     "text": [
      "c:\\Users\\HAIER\\miniconda3\\envs\\disease\\lib\\site-packages\\xgboost\\sklearn.py:1395: UserWarning: `use_label_encoder` is deprecated in 1.7.0.\n",
      "  warnings.warn(\"`use_label_encoder` is deprecated in 1.7.0.\")\n",
      "c:\\Users\\HAIER\\miniconda3\\envs\\disease\\lib\\site-packages\\xgboost\\sklearn.py:1395: UserWarning: `use_label_encoder` is deprecated in 1.7.0.\n",
      "  warnings.warn(\"`use_label_encoder` is deprecated in 1.7.0.\")\n",
      "c:\\Users\\HAIER\\miniconda3\\envs\\disease\\lib\\site-packages\\xgboost\\sklearn.py:1395: UserWarning: `use_label_encoder` is deprecated in 1.7.0.\n",
      "  warnings.warn(\"`use_label_encoder` is deprecated in 1.7.0.\")\n",
      "c:\\Users\\HAIER\\miniconda3\\envs\\disease\\lib\\site-packages\\xgboost\\sklearn.py:1395: UserWarning: `use_label_encoder` is deprecated in 1.7.0.\n",
      "  warnings.warn(\"`use_label_encoder` is deprecated in 1.7.0.\")\n"
     ]
    },
    {
     "name": "stdout",
     "output_type": "stream",
     "text": [
      "[flaml.automl.automl: 03-22 03:51:30] {3519} INFO -  at 51.9s,\testimator xgboost's best error=0.3846,\tbest estimator lgbm's best error=0.3308\n",
      "[flaml.automl.automl: 03-22 03:51:30] {3334} INFO - iteration 64, current learner lgbm\n"
     ]
    },
    {
     "name": "stderr",
     "output_type": "stream",
     "text": [
      "c:\\Users\\HAIER\\miniconda3\\envs\\disease\\lib\\site-packages\\xgboost\\sklearn.py:1395: UserWarning: `use_label_encoder` is deprecated in 1.7.0.\n",
      "  warnings.warn(\"`use_label_encoder` is deprecated in 1.7.0.\")\n"
     ]
    },
    {
     "name": "stdout",
     "output_type": "stream",
     "text": [
      "[flaml.automl.automl: 03-22 03:51:31] {3519} INFO -  at 53.3s,\testimator lgbm's best error=0.3308,\tbest estimator lgbm's best error=0.3308\n",
      "[flaml.automl.automl: 03-22 03:51:31] {3334} INFO - iteration 65, current learner lgbm\n",
      "[flaml.automl.automl: 03-22 03:51:32] {3519} INFO -  at 54.0s,\testimator lgbm's best error=0.3308,\tbest estimator lgbm's best error=0.3308\n",
      "[flaml.automl.automl: 03-22 03:51:32] {3334} INFO - iteration 66, current learner xgboost\n"
     ]
    },
    {
     "name": "stderr",
     "output_type": "stream",
     "text": [
      "c:\\Users\\HAIER\\miniconda3\\envs\\disease\\lib\\site-packages\\xgboost\\sklearn.py:1395: UserWarning: `use_label_encoder` is deprecated in 1.7.0.\n",
      "  warnings.warn(\"`use_label_encoder` is deprecated in 1.7.0.\")\n",
      "c:\\Users\\HAIER\\miniconda3\\envs\\disease\\lib\\site-packages\\xgboost\\sklearn.py:1395: UserWarning: `use_label_encoder` is deprecated in 1.7.0.\n",
      "  warnings.warn(\"`use_label_encoder` is deprecated in 1.7.0.\")\n",
      "c:\\Users\\HAIER\\miniconda3\\envs\\disease\\lib\\site-packages\\xgboost\\sklearn.py:1395: UserWarning: `use_label_encoder` is deprecated in 1.7.0.\n",
      "  warnings.warn(\"`use_label_encoder` is deprecated in 1.7.0.\")\n",
      "c:\\Users\\HAIER\\miniconda3\\envs\\disease\\lib\\site-packages\\xgboost\\sklearn.py:1395: UserWarning: `use_label_encoder` is deprecated in 1.7.0.\n",
      "  warnings.warn(\"`use_label_encoder` is deprecated in 1.7.0.\")\n",
      "c:\\Users\\HAIER\\miniconda3\\envs\\disease\\lib\\site-packages\\xgboost\\sklearn.py:1395: UserWarning: `use_label_encoder` is deprecated in 1.7.0.\n",
      "  warnings.warn(\"`use_label_encoder` is deprecated in 1.7.0.\")\n"
     ]
    },
    {
     "name": "stdout",
     "output_type": "stream",
     "text": [
      "[flaml.automl.automl: 03-22 03:51:34] {3519} INFO -  at 55.6s,\testimator xgboost's best error=0.3846,\tbest estimator lgbm's best error=0.3308\n",
      "[flaml.automl.automl: 03-22 03:51:34] {3334} INFO - iteration 67, current learner lgbm\n",
      "[flaml.automl.automl: 03-22 03:51:35] {3519} INFO -  at 57.0s,\testimator lgbm's best error=0.3308,\tbest estimator lgbm's best error=0.3308\n",
      "[flaml.automl.automl: 03-22 03:51:35] {3334} INFO - iteration 68, current learner lgbm\n",
      "[flaml.automl.automl: 03-22 03:51:36] {3519} INFO -  at 58.0s,\testimator lgbm's best error=0.3308,\tbest estimator lgbm's best error=0.3308\n",
      "[flaml.automl.automl: 03-22 03:51:36] {3334} INFO - iteration 69, current learner rf\n",
      "[flaml.automl.automl: 03-22 03:51:37] {3519} INFO -  at 58.6s,\testimator rf's best error=0.3962,\tbest estimator lgbm's best error=0.3308\n",
      "[flaml.automl.automl: 03-22 03:51:37] {3334} INFO - iteration 70, current learner xgboost\n"
     ]
    },
    {
     "name": "stderr",
     "output_type": "stream",
     "text": [
      "c:\\Users\\HAIER\\miniconda3\\envs\\disease\\lib\\site-packages\\xgboost\\sklearn.py:1395: UserWarning: `use_label_encoder` is deprecated in 1.7.0.\n",
      "  warnings.warn(\"`use_label_encoder` is deprecated in 1.7.0.\")\n",
      "c:\\Users\\HAIER\\miniconda3\\envs\\disease\\lib\\site-packages\\xgboost\\sklearn.py:1395: UserWarning: `use_label_encoder` is deprecated in 1.7.0.\n",
      "  warnings.warn(\"`use_label_encoder` is deprecated in 1.7.0.\")\n",
      "c:\\Users\\HAIER\\miniconda3\\envs\\disease\\lib\\site-packages\\xgboost\\sklearn.py:1395: UserWarning: `use_label_encoder` is deprecated in 1.7.0.\n",
      "  warnings.warn(\"`use_label_encoder` is deprecated in 1.7.0.\")\n",
      "c:\\Users\\HAIER\\miniconda3\\envs\\disease\\lib\\site-packages\\xgboost\\sklearn.py:1395: UserWarning: `use_label_encoder` is deprecated in 1.7.0.\n",
      "  warnings.warn(\"`use_label_encoder` is deprecated in 1.7.0.\")\n",
      "c:\\Users\\HAIER\\miniconda3\\envs\\disease\\lib\\site-packages\\xgboost\\sklearn.py:1395: UserWarning: `use_label_encoder` is deprecated in 1.7.0.\n",
      "  warnings.warn(\"`use_label_encoder` is deprecated in 1.7.0.\")\n"
     ]
    },
    {
     "name": "stdout",
     "output_type": "stream",
     "text": [
      "[flaml.automl.automl: 03-22 03:51:38] {3519} INFO -  at 59.7s,\testimator xgboost's best error=0.3692,\tbest estimator lgbm's best error=0.3308\n",
      "[flaml.automl.automl: 03-22 03:51:38] {3334} INFO - iteration 71, current learner xgb_limitdepth\n"
     ]
    },
    {
     "name": "stderr",
     "output_type": "stream",
     "text": [
      "c:\\Users\\HAIER\\miniconda3\\envs\\disease\\lib\\site-packages\\xgboost\\sklearn.py:1395: UserWarning: `use_label_encoder` is deprecated in 1.7.0.\n",
      "  warnings.warn(\"`use_label_encoder` is deprecated in 1.7.0.\")\n",
      "c:\\Users\\HAIER\\miniconda3\\envs\\disease\\lib\\site-packages\\xgboost\\sklearn.py:1395: UserWarning: `use_label_encoder` is deprecated in 1.7.0.\n",
      "  warnings.warn(\"`use_label_encoder` is deprecated in 1.7.0.\")\n",
      "c:\\Users\\HAIER\\miniconda3\\envs\\disease\\lib\\site-packages\\xgboost\\sklearn.py:1395: UserWarning: `use_label_encoder` is deprecated in 1.7.0.\n",
      "  warnings.warn(\"`use_label_encoder` is deprecated in 1.7.0.\")\n"
     ]
    },
    {
     "name": "stdout",
     "output_type": "stream",
     "text": [
      "[flaml.automl.automl: 03-22 03:51:38] {3519} INFO -  at 60.0s,\testimator xgb_limitdepth's best error=0.3526,\tbest estimator lgbm's best error=0.3308\n",
      "[flaml.automl.automl: 03-22 03:51:38] {3783} INFO - retrain lgbm for 0.1s\n",
      "[flaml.automl.automl: 03-22 03:51:38] {3790} INFO - retrained model: LGBMClassifier(learning_rate=1.0, max_bin=1023, min_child_samples=10,\n",
      "               n_estimators=4, num_leaves=8, reg_alpha=0.01719388664268001,\n",
      "               reg_lambda=1.9981776453463136, verbose=-1)\n",
      "[flaml.automl.automl: 03-22 03:51:38] {3034} INFO - fit succeeded\n",
      "[flaml.automl.automl: 03-22 03:51:38] {3035} INFO - Time taken to find the best model: 20.12616753578186\n",
      "BEST MODEL:\n",
      "LGBMClassifier(learning_rate=1.0, max_bin=1023, min_child_samples=10,\n",
      "               n_estimators=4, num_leaves=8, reg_alpha=0.01719388664268001,\n",
      "               reg_lambda=1.9981776453463136, verbose=-1)\n",
      "ACCURACY SCORE: 0.5081967213114754\n"
     ]
    }
   ],
   "source": [
    "from flaml import AutoML\n",
    "\n",
    "\n",
    "automl_settings = {\n",
    "    \"time_budget\": 60,  # Seconds\n",
    "    \"metric\": 'accuracy', # Evaluation Metric\n",
    "    \"task\": 'classification' # Supervised ML Task\n",
    "}\n",
    "autoML = AutoML()\n",
    "autoML.fit(X_train, y_train, **automl_settings)\n",
    "\n",
    "print(f\"BEST MODEL:\\n{autoML.model.estimator}\")\n",
    "print(f\"ACCURACY SCORE: {autoML.score(X_test, y_test)}\")"
   ]
  },
  {
   "cell_type": "code",
   "execution_count": 14,
   "metadata": {},
   "outputs": [
    {
     "name": "stdout",
     "output_type": "stream",
     "text": [
      "Accuracy: 0.5409836065573771\n"
     ]
    }
   ],
   "source": [
    "from sklearn.model_selection import train_test_split\n",
    "from sklearn.linear_model import LogisticRegression\n",
    "from sklearn.metrics import accuracy_score\n",
    "\n",
    "# Split the dataset into training and testing sets\n",
    "X_train, X_test, y_train, y_test = train_test_split(X, y, test_size=0.2, random_state=42)\n",
    "\n",
    "# Create a logistic regression model\n",
    "model = LogisticRegression()\n",
    "\n",
    "# Fit the model on the training data\n",
    "model.fit(X_train, y_train)\n",
    "\n",
    "# Make predictions on the testing data\n",
    "y_pred = model.predict(X_test)\n",
    "\n",
    "# Compute the accuracy of the model\n",
    "accuracy = accuracy_score(y_test, y_pred)\n",
    "\n",
    "print(\"Accuracy:\", accuracy)"
   ]
  },
  {
   "cell_type": "code",
   "execution_count": 15,
   "metadata": {},
   "outputs": [
    {
     "name": "stdout",
     "output_type": "stream",
     "text": [
      "Accuracy: 0.5573770491803278\n"
     ]
    }
   ],
   "source": [
    "from sklearn.model_selection import train_test_split\n",
    "from sklearn.svm import SVC\n",
    "from sklearn.metrics import accuracy_score\n",
    "\n",
    "# Split the dataset into training and testing sets\n",
    "X_train, X_test, y_train, y_test = train_test_split(X, y, test_size=0.2, random_state=42)\n",
    "\n",
    "# Create an SVM model\n",
    "model = SVC(kernel='linear', C=1, random_state=42)\n",
    "\n",
    "# Fit the model on the training data\n",
    "model.fit(X_train, y_train)\n",
    "\n",
    "# Make predictions on the testing data\n",
    "y_pred = model.predict(X_test)\n",
    "\n",
    "# Compute the accuracy of the model\n",
    "accuracy = accuracy_score(y_test, y_pred)\n",
    "\n",
    "print(\"Accuracy:\", accuracy)"
   ]
  },
  {
   "cell_type": "code",
   "execution_count": 16,
   "metadata": {},
   "outputs": [
    {
     "name": "stdout",
     "output_type": "stream",
     "text": [
      "Accuracy: 0.3114754098360656\n"
     ]
    }
   ],
   "source": [
    "from sklearn.model_selection import train_test_split\n",
    "from sklearn.naive_bayes import GaussianNB\n",
    "from sklearn.metrics import accuracy_score\n",
    "\n",
    "# Split the dataset into training and testing sets\n",
    "X_train, X_test, y_train, y_test = train_test_split(X, y, test_size=0.2, random_state=42)\n",
    "\n",
    "# Create a Naive Bayes model\n",
    "model = GaussianNB()\n",
    "\n",
    "# Fit the model on the training data\n",
    "model.fit(X_train, y_train)\n",
    "\n",
    "# Make predictions on the testing data\n",
    "y_pred = model.predict(X_test)\n",
    "\n",
    "# Compute the accuracy of the model\n",
    "accuracy = accuracy_score(y_test, y_pred)\n",
    "\n",
    "print(\"Accuracy:\", accuracy)"
   ]
  },
  {
   "cell_type": "code",
   "execution_count": 17,
   "metadata": {},
   "outputs": [
    {
     "name": "stdout",
     "output_type": "stream",
     "text": [
      "Logistic Regression Accuracy: 0.5409836065573771\n",
      "Decision Tree Accuracy: 0.47540983606557374\n",
      "Random Forest Accuracy: 0.47540983606557374\n",
      "SVM Accuracy: 0.5245901639344263\n",
      "Naive Bayes Accuracy: 0.3114754098360656\n"
     ]
    }
   ],
   "source": [
    "from sklearn.model_selection import train_test_split\n",
    "from sklearn.linear_model import LogisticRegression\n",
    "from sklearn.tree import DecisionTreeClassifier\n",
    "from sklearn.ensemble import RandomForestClassifier\n",
    "from sklearn.svm import SVC\n",
    "from sklearn.naive_bayes import GaussianNB\n",
    "from sklearn.metrics import accuracy_score\n",
    "\n",
    "# Split the dataset into training and testing sets\n",
    "X_train, X_test, y_train, y_test = train_test_split(X, y, test_size=0.2, random_state=42)\n",
    "\n",
    "# Create the models\n",
    "lr_model = LogisticRegression()\n",
    "dt_model = DecisionTreeClassifier()\n",
    "rf_model = RandomForestClassifier()\n",
    "svm_model = SVC()\n",
    "nb_model = GaussianNB()\n",
    "\n",
    "# Fit the models on the training data\n",
    "lr_model.fit(X_train, y_train)\n",
    "dt_model.fit(X_train, y_train)\n",
    "rf_model.fit(X_train, y_train)\n",
    "svm_model.fit(X_train, y_train)\n",
    "nb_model.fit(X_train, y_train)\n",
    "\n",
    "# Make predictions on the testing data\n",
    "lr_pred = lr_model.predict(X_test)\n",
    "dt_pred = dt_model.predict(X_test)\n",
    "rf_pred = rf_model.predict(X_test)\n",
    "svm_pred = svm_model.predict(X_test)\n",
    "nb_pred = nb_model.predict(X_test)\n",
    "\n",
    "# Compute the accuracy of the models\n",
    "lr_accuracy = accuracy_score(y_test, lr_pred)\n",
    "dt_accuracy = accuracy_score(y_test, dt_pred)\n",
    "rf_accuracy = accuracy_score(y_test, rf_pred)\n",
    "svm_accuracy = accuracy_score(y_test, svm_pred)\n",
    "nb_accuracy = accuracy_score(y_test, nb_pred)\n",
    "\n",
    "print(\"Logistic Regression Accuracy:\", lr_accuracy)\n",
    "print(\"Decision Tree Accuracy:\", dt_accuracy)\n",
    "print(\"Random Forest Accuracy:\", rf_accuracy)\n",
    "print(\"SVM Accuracy:\", svm_accuracy)\n",
    "print(\"Naive Bayes Accuracy:\", nb_accuracy)"
   ]
  },
  {
   "cell_type": "code",
   "execution_count": 18,
   "metadata": {},
   "outputs": [
    {
     "name": "stdout",
     "output_type": "stream",
     "text": [
      "Number of false predictions: 27\n",
      "Example 1\n",
      "True label: 3.0\n",
      "Predicted label: 0.0\n",
      "Features: age          54.0\n",
      "sex           1.0\n",
      "cp            4.0\n",
      "trestbps    110.0\n",
      "chol        206.0\n",
      "fbs           0.0\n",
      "restecg       2.0\n",
      "thalach     108.0\n",
      "exang         1.0\n",
      "oldpeak       0.0\n",
      "slope         2.0\n",
      "ca            1.0\n",
      "thal          3.0\n",
      "Name: 228, dtype: float64\n",
      "\n",
      "Example 2\n",
      "True label: 1.0\n",
      "Predicted label: 0.0\n",
      "Features: age          56.0\n",
      "sex           1.0\n",
      "cp            4.0\n",
      "trestbps    125.0\n",
      "chol        249.0\n",
      "fbs           1.0\n",
      "restecg       2.0\n",
      "thalach     144.0\n",
      "exang         1.0\n",
      "oldpeak       1.2\n",
      "slope         2.0\n",
      "ca            1.0\n",
      "thal          3.0\n",
      "Name: 111, dtype: float64\n",
      "\n",
      "Example 3\n",
      "True label: 2.0\n",
      "Predicted label: 1.0\n",
      "Features: age          58.0\n",
      "sex           1.0\n",
      "cp            4.0\n",
      "trestbps    100.0\n",
      "chol        234.0\n",
      "fbs           0.0\n",
      "restecg       0.0\n",
      "thalach     156.0\n",
      "exang         0.0\n",
      "oldpeak       0.1\n",
      "slope         1.0\n",
      "ca            1.0\n",
      "thal          7.0\n",
      "Name: 246, dtype: float64\n",
      "\n",
      "Example 4\n",
      "True label: 2.0\n",
      "Predicted label: 1.0\n",
      "Features: age          51.0\n",
      "sex           0.0\n",
      "cp            4.0\n",
      "trestbps    130.0\n",
      "chol        305.0\n",
      "fbs           0.0\n",
      "restecg       0.0\n",
      "thalach     142.0\n",
      "exang         1.0\n",
      "oldpeak       1.2\n",
      "slope         2.0\n",
      "ca            0.0\n",
      "thal          7.0\n",
      "Name: 60, dtype: float64\n",
      "\n",
      "Example 5\n",
      "True label: 1.0\n",
      "Predicted label: 3.0\n",
      "Features: age          53.0\n",
      "sex           1.0\n",
      "cp            4.0\n",
      "trestbps    140.0\n",
      "chol        203.0\n",
      "fbs           1.0\n",
      "restecg       2.0\n",
      "thalach     155.0\n",
      "exang         1.0\n",
      "oldpeak       3.1\n",
      "slope         3.0\n",
      "ca            0.0\n",
      "thal          7.0\n",
      "Name: 9, dtype: float64\n",
      "\n"
     ]
    },
    {
     "name": "stderr",
     "output_type": "stream",
     "text": [
      "e:\\ana\\envs\\streamlit\\lib\\site-packages\\sklearn\\linear_model\\_logistic.py:458: ConvergenceWarning: lbfgs failed to converge (status=1):\n",
      "STOP: TOTAL NO. of ITERATIONS REACHED LIMIT.\n",
      "\n",
      "Increase the number of iterations (max_iter) or scale the data as shown in:\n",
      "    https://scikit-learn.org/stable/modules/preprocessing.html\n",
      "Please also refer to the documentation for alternative solver options:\n",
      "    https://scikit-learn.org/stable/modules/linear_model.html#logistic-regression\n",
      "  n_iter_i = _check_optimize_result(\n"
     ]
    }
   ],
   "source": [
    "from sklearn.model_selection import train_test_split\n",
    "from sklearn.linear_model import LogisticRegression\n",
    "from sklearn.metrics import confusion_matrix\n",
    "\n",
    "# Split the dataset into training and testing sets\n",
    "X_train, X_test, y_train, y_test = train_test_split(dataset.drop('target', axis=1), dataset['target'], test_size=0.2, random_state=42)\n",
    "\n",
    "# Train a logistic regression model on the training set\n",
    "lr_model = LogisticRegression(random_state=42)\n",
    "lr_model.fit(X_train, y_train)\n",
    "\n",
    "# Make predictions on the testing data\n",
    "y_pred = lr_model.predict(X_test)\n",
    "\n",
    "# Compute the confusion matrix\n",
    "confusion_mat = confusion_matrix(y_test, y_pred)\n",
    "\n",
    "# Identify the false predictions\n",
    "false_preds = []\n",
    "for i in range(len(X_test)):\n",
    "    if y_test.iloc[i] != y_pred[i]:\n",
    "        false_preds.append(i)\n",
    "\n",
    "# Print the number of false predictions\n",
    "print(\"Number of false predictions:\", len(false_preds))\n",
    "\n",
    "# Print some examples of false predictions\n",
    "for i in range(min(5, len(false_preds))):\n",
    "    idx = false_preds[i]\n",
    "    print(\"Example\", i+1)\n",
    "    print(\"True label:\", y_test.iloc[idx])\n",
    "    print(\"Predicted label:\", y_pred[idx])\n",
    "    print(\"Features:\", X_test.iloc[idx])\n",
    "    print()"
   ]
  },
  {
   "cell_type": "markdown",
   "metadata": {
    "id": "GYrPLjFnvIXD"
   },
   "source": [
    "## Step 3: Develop the First Model\n",
    "- Import required libraries such as tensorflow and keras.\n",
    "- Create a sequential model with three dense layers using relu and softmax activation functions.\n",
    "- Compile the model with 'adam' optimizer, 'sparse_categorical_crossentropy' loss function, and 'accuracy' metric."
   ]
  },
  {
   "cell_type": "code",
   "execution_count": 20,
   "metadata": {
    "id": "vohztMlp_Ebb"
   },
   "outputs": [
    {
     "name": "stdout",
     "output_type": "stream",
     "text": [
      "Model: \"sequential_2\"\n",
      "_________________________________________________________________\n",
      " Layer (type)                Output Shape              Param #   \n",
      "=================================================================\n",
      " dense_6 (Dense)             (None, 64)                896       \n",
      "                                                                 \n",
      " dense_7 (Dense)             (None, 32)                2080      \n",
      "                                                                 \n",
      " dense_8 (Dense)             (None, 5)                 165       \n",
      "                                                                 \n",
      "=================================================================\n",
      "Total params: 3,141\n",
      "Trainable params: 3,141\n",
      "Non-trainable params: 0\n",
      "_________________________________________________________________\n"
     ]
    }
   ],
   "source": [
    "import tensorflow as tf\n",
    "from tensorflow.keras.models import Sequential  # for initializing the neural network\n",
    "from tensorflow.keras.layers import Dense  # for building the layers of the neural network\n",
    "\n",
    "# Create the model\n",
    "model = Sequential([\n",
    "    Dense(64, activation='relu', input_shape=(X_train.shape[1],)),  # input layer\n",
    "    Dense(32, activation='relu'),  # hidden layer\n",
    "    Dense(classes_n, activation='softmax')  # output layer\n",
    "])\n",
    "\n",
    "\n",
    "# Compile the model\n",
    "model.compile(optimizer='adam', # adam is a type of gradient descent\n",
    "              loss='sparse_categorical_crossentropy',  # loss function\n",
    "              metrics=['accuracy'])    # metric to evaluate model\n",
    "model.summary()   # This line outputs a summary of the model architecture, \n",
    "                  #including the number of parameters in each layer and the total number of trainable parameters in the model."
   ]
  },
  {
   "cell_type": "markdown",
   "metadata": {
    "id": "Wbr_IgWEDhks"
   },
   "source": [
    "In the above line of code: We imports TensorFlow library which is used to build machine learning models. The second and third line import modules from TensorFlow library that are used to create neural network models. The fourth to sixth line defines the model architecture using a sequential model with three fully connected layers. The first layer has 64 neurons, second layer has 32 neurons and the output layer has a number of neurons equal to the number of classes in the target variable with softmax activation. The seventh to ninth line compile the model with optimizer as 'adam', loss as 'sparse_categorical_crossentropy' and accuracy as the evaluation metric. The last line prints the summary of the model architecture."
   ]
  },
  {
   "cell_type": "markdown",
   "metadata": {
    "id": "1brcYjUxvIXD"
   },
   "source": [
    "\n",
    "- Fit the model on the training dataset with 200 epochs, batch size of 32, and a validation split of 0.1."
   ]
  },
  {
   "cell_type": "code",
   "execution_count": 21,
   "metadata": {
    "id": "EQXCxCstlOjG",
    "scrolled": true
   },
   "outputs": [
    {
     "name": "stdout",
     "output_type": "stream",
     "text": [
      "Epoch 1/200\n",
      "7/7 [==============================] - 3s 103ms/step - loss: 1.6940 - accuracy: 0.1613 - val_loss: 1.4733 - val_accuracy: 0.5200\n",
      "Epoch 2/200\n",
      "7/7 [==============================] - 0s 10ms/step - loss: 1.5114 - accuracy: 0.3456 - val_loss: 1.3292 - val_accuracy: 0.5600\n",
      "Epoch 3/200\n",
      "7/7 [==============================] - 0s 11ms/step - loss: 1.3605 - accuracy: 0.5576 - val_loss: 1.2058 - val_accuracy: 0.5200\n",
      "Epoch 4/200\n",
      "7/7 [==============================] - 0s 10ms/step - loss: 1.2378 - accuracy: 0.5806 - val_loss: 1.1101 - val_accuracy: 0.6800\n",
      "Epoch 5/200\n",
      "7/7 [==============================] - 0s 11ms/step - loss: 1.1360 - accuracy: 0.6267 - val_loss: 1.0377 - val_accuracy: 0.6800\n",
      "Epoch 6/200\n",
      "7/7 [==============================] - 0s 10ms/step - loss: 1.0582 - accuracy: 0.6175 - val_loss: 0.9802 - val_accuracy: 0.6800\n",
      "Epoch 7/200\n",
      "7/7 [==============================] - 0s 10ms/step - loss: 1.0041 - accuracy: 0.6313 - val_loss: 0.9367 - val_accuracy: 0.6800\n",
      "Epoch 8/200\n",
      "7/7 [==============================] - 0s 10ms/step - loss: 0.9608 - accuracy: 0.6313 - val_loss: 0.9082 - val_accuracy: 0.7200\n",
      "Epoch 9/200\n",
      "7/7 [==============================] - 0s 17ms/step - loss: 0.9267 - accuracy: 0.6452 - val_loss: 0.8880 - val_accuracy: 0.7200\n",
      "Epoch 10/200\n",
      "7/7 [==============================] - 0s 12ms/step - loss: 0.8969 - accuracy: 0.6452 - val_loss: 0.8734 - val_accuracy: 0.7200\n",
      "Epoch 11/200\n",
      "7/7 [==============================] - 0s 11ms/step - loss: 0.8706 - accuracy: 0.6498 - val_loss: 0.8569 - val_accuracy: 0.7200\n",
      "Epoch 12/200\n",
      "7/7 [==============================] - 0s 10ms/step - loss: 0.8483 - accuracy: 0.6544 - val_loss: 0.8465 - val_accuracy: 0.7200\n",
      "Epoch 13/200\n",
      "7/7 [==============================] - 0s 10ms/step - loss: 0.8274 - accuracy: 0.6590 - val_loss: 0.8373 - val_accuracy: 0.6800\n",
      "Epoch 14/200\n",
      "7/7 [==============================] - 0s 9ms/step - loss: 0.8082 - accuracy: 0.6636 - val_loss: 0.8297 - val_accuracy: 0.6800\n",
      "Epoch 15/200\n",
      "7/7 [==============================] - 0s 11ms/step - loss: 0.7906 - accuracy: 0.7005 - val_loss: 0.8272 - val_accuracy: 0.6800\n",
      "Epoch 16/200\n",
      "7/7 [==============================] - 0s 10ms/step - loss: 0.7760 - accuracy: 0.7143 - val_loss: 0.8240 - val_accuracy: 0.6800\n",
      "Epoch 17/200\n",
      "7/7 [==============================] - 0s 10ms/step - loss: 0.7596 - accuracy: 0.7143 - val_loss: 0.8212 - val_accuracy: 0.6800\n",
      "Epoch 18/200\n",
      "7/7 [==============================] - 0s 12ms/step - loss: 0.7446 - accuracy: 0.7189 - val_loss: 0.8162 - val_accuracy: 0.6400\n",
      "Epoch 19/200\n",
      "7/7 [==============================] - 0s 10ms/step - loss: 0.7303 - accuracy: 0.7281 - val_loss: 0.8170 - val_accuracy: 0.6400\n",
      "Epoch 20/200\n",
      "7/7 [==============================] - 0s 11ms/step - loss: 0.7178 - accuracy: 0.7327 - val_loss: 0.8232 - val_accuracy: 0.6400\n",
      "Epoch 21/200\n",
      "7/7 [==============================] - 0s 10ms/step - loss: 0.7039 - accuracy: 0.7465 - val_loss: 0.8313 - val_accuracy: 0.6800\n",
      "Epoch 22/200\n",
      "7/7 [==============================] - 0s 11ms/step - loss: 0.6922 - accuracy: 0.7465 - val_loss: 0.8341 - val_accuracy: 0.6800\n",
      "Epoch 23/200\n",
      "7/7 [==============================] - 0s 11ms/step - loss: 0.6788 - accuracy: 0.7465 - val_loss: 0.8361 - val_accuracy: 0.6800\n",
      "Epoch 24/200\n",
      "7/7 [==============================] - 0s 16ms/step - loss: 0.6674 - accuracy: 0.7465 - val_loss: 0.8481 - val_accuracy: 0.7200\n",
      "Epoch 25/200\n",
      "7/7 [==============================] - 0s 22ms/step - loss: 0.6553 - accuracy: 0.7558 - val_loss: 0.8491 - val_accuracy: 0.7200\n",
      "Epoch 26/200\n",
      "7/7 [==============================] - 0s 10ms/step - loss: 0.6424 - accuracy: 0.7650 - val_loss: 0.8607 - val_accuracy: 0.7200\n",
      "Epoch 27/200\n",
      "7/7 [==============================] - 0s 10ms/step - loss: 0.6329 - accuracy: 0.7696 - val_loss: 0.8653 - val_accuracy: 0.6800\n",
      "Epoch 28/200\n",
      "7/7 [==============================] - 0s 9ms/step - loss: 0.6213 - accuracy: 0.7742 - val_loss: 0.8800 - val_accuracy: 0.6800\n",
      "Epoch 29/200\n",
      "7/7 [==============================] - 0s 11ms/step - loss: 0.6107 - accuracy: 0.7788 - val_loss: 0.8842 - val_accuracy: 0.6800\n",
      "Epoch 30/200\n",
      "7/7 [==============================] - 0s 11ms/step - loss: 0.5995 - accuracy: 0.7788 - val_loss: 0.8875 - val_accuracy: 0.6800\n",
      "Epoch 31/200\n",
      "7/7 [==============================] - 0s 9ms/step - loss: 0.5869 - accuracy: 0.7834 - val_loss: 0.9016 - val_accuracy: 0.6800\n",
      "Epoch 32/200\n",
      "7/7 [==============================] - 0s 9ms/step - loss: 0.5773 - accuracy: 0.7880 - val_loss: 0.9151 - val_accuracy: 0.6000\n",
      "Epoch 33/200\n",
      "7/7 [==============================] - 0s 9ms/step - loss: 0.5669 - accuracy: 0.7926 - val_loss: 0.9253 - val_accuracy: 0.6000\n",
      "Epoch 34/200\n",
      "7/7 [==============================] - 0s 10ms/step - loss: 0.5568 - accuracy: 0.7972 - val_loss: 0.9284 - val_accuracy: 0.6000\n",
      "Epoch 35/200\n",
      "7/7 [==============================] - 0s 9ms/step - loss: 0.5475 - accuracy: 0.8065 - val_loss: 0.9379 - val_accuracy: 0.6000\n",
      "Epoch 36/200\n",
      "7/7 [==============================] - 0s 11ms/step - loss: 0.5378 - accuracy: 0.8065 - val_loss: 0.9474 - val_accuracy: 0.6000\n",
      "Epoch 37/200\n",
      "7/7 [==============================] - 0s 9ms/step - loss: 0.5278 - accuracy: 0.8065 - val_loss: 0.9551 - val_accuracy: 0.6000\n",
      "Epoch 38/200\n",
      "7/7 [==============================] - 0s 9ms/step - loss: 0.5196 - accuracy: 0.8249 - val_loss: 0.9676 - val_accuracy: 0.6000\n",
      "Epoch 39/200\n",
      "7/7 [==============================] - 0s 9ms/step - loss: 0.5088 - accuracy: 0.8295 - val_loss: 0.9804 - val_accuracy: 0.6000\n",
      "Epoch 40/200\n",
      "7/7 [==============================] - 0s 10ms/step - loss: 0.5000 - accuracy: 0.8433 - val_loss: 0.9853 - val_accuracy: 0.6000\n",
      "Epoch 41/200\n",
      "7/7 [==============================] - 0s 9ms/step - loss: 0.4902 - accuracy: 0.8433 - val_loss: 0.9990 - val_accuracy: 0.6000\n",
      "Epoch 42/200\n",
      "7/7 [==============================] - 0s 10ms/step - loss: 0.4815 - accuracy: 0.8525 - val_loss: 1.0084 - val_accuracy: 0.6000\n",
      "Epoch 43/200\n",
      "7/7 [==============================] - 0s 9ms/step - loss: 0.4741 - accuracy: 0.8525 - val_loss: 1.0216 - val_accuracy: 0.6000\n",
      "Epoch 44/200\n",
      "7/7 [==============================] - 0s 9ms/step - loss: 0.4643 - accuracy: 0.8571 - val_loss: 1.0301 - val_accuracy: 0.6000\n",
      "Epoch 45/200\n",
      "7/7 [==============================] - 0s 16ms/step - loss: 0.4554 - accuracy: 0.8618 - val_loss: 1.0419 - val_accuracy: 0.6000\n",
      "Epoch 46/200\n",
      "7/7 [==============================] - 0s 13ms/step - loss: 0.4475 - accuracy: 0.8664 - val_loss: 1.0534 - val_accuracy: 0.6000\n",
      "Epoch 47/200\n",
      "7/7 [==============================] - 0s 12ms/step - loss: 0.4392 - accuracy: 0.8664 - val_loss: 1.0700 - val_accuracy: 0.6000\n",
      "Epoch 48/200\n",
      "7/7 [==============================] - 0s 12ms/step - loss: 0.4298 - accuracy: 0.8664 - val_loss: 1.0799 - val_accuracy: 0.6000\n",
      "Epoch 49/200\n",
      "7/7 [==============================] - 0s 11ms/step - loss: 0.4218 - accuracy: 0.8802 - val_loss: 1.0934 - val_accuracy: 0.6000\n",
      "Epoch 50/200\n",
      "7/7 [==============================] - 0s 20ms/step - loss: 0.4146 - accuracy: 0.8802 - val_loss: 1.1044 - val_accuracy: 0.6000\n",
      "Epoch 51/200\n",
      "7/7 [==============================] - 0s 13ms/step - loss: 0.4055 - accuracy: 0.8802 - val_loss: 1.1075 - val_accuracy: 0.6000\n",
      "Epoch 52/200\n",
      "7/7 [==============================] - 0s 10ms/step - loss: 0.3989 - accuracy: 0.8756 - val_loss: 1.1158 - val_accuracy: 0.6000\n",
      "Epoch 53/200\n",
      "7/7 [==============================] - 0s 11ms/step - loss: 0.3906 - accuracy: 0.8802 - val_loss: 1.1363 - val_accuracy: 0.6000\n",
      "Epoch 54/200\n",
      "7/7 [==============================] - 0s 9ms/step - loss: 0.3840 - accuracy: 0.8802 - val_loss: 1.1568 - val_accuracy: 0.6000\n",
      "Epoch 55/200\n",
      "7/7 [==============================] - 0s 9ms/step - loss: 0.3747 - accuracy: 0.8802 - val_loss: 1.1572 - val_accuracy: 0.6000\n",
      "Epoch 56/200\n",
      "7/7 [==============================] - 0s 9ms/step - loss: 0.3699 - accuracy: 0.8802 - val_loss: 1.1687 - val_accuracy: 0.6000\n",
      "Epoch 57/200\n",
      "7/7 [==============================] - 0s 10ms/step - loss: 0.3623 - accuracy: 0.8802 - val_loss: 1.1934 - val_accuracy: 0.6000\n",
      "Epoch 58/200\n",
      "7/7 [==============================] - 0s 9ms/step - loss: 0.3547 - accuracy: 0.8848 - val_loss: 1.2023 - val_accuracy: 0.6000\n",
      "Epoch 59/200\n",
      "7/7 [==============================] - 0s 9ms/step - loss: 0.3478 - accuracy: 0.8848 - val_loss: 1.2098 - val_accuracy: 0.6000\n",
      "Epoch 60/200\n",
      "7/7 [==============================] - 0s 10ms/step - loss: 0.3412 - accuracy: 0.8848 - val_loss: 1.2211 - val_accuracy: 0.6000\n",
      "Epoch 61/200\n",
      "7/7 [==============================] - 0s 9ms/step - loss: 0.3324 - accuracy: 0.8940 - val_loss: 1.2383 - val_accuracy: 0.6000\n",
      "Epoch 62/200\n",
      "7/7 [==============================] - 0s 11ms/step - loss: 0.3263 - accuracy: 0.9032 - val_loss: 1.2543 - val_accuracy: 0.6000\n",
      "Epoch 63/200\n",
      "7/7 [==============================] - 0s 12ms/step - loss: 0.3201 - accuracy: 0.8986 - val_loss: 1.2727 - val_accuracy: 0.6000\n",
      "Epoch 64/200\n",
      "7/7 [==============================] - 0s 10ms/step - loss: 0.3134 - accuracy: 0.9078 - val_loss: 1.2829 - val_accuracy: 0.6000\n",
      "Epoch 65/200\n",
      "7/7 [==============================] - 0s 10ms/step - loss: 0.3059 - accuracy: 0.9078 - val_loss: 1.2974 - val_accuracy: 0.5600\n",
      "Epoch 66/200\n",
      "7/7 [==============================] - 0s 10ms/step - loss: 0.2996 - accuracy: 0.9078 - val_loss: 1.3112 - val_accuracy: 0.5600\n",
      "Epoch 67/200\n",
      "7/7 [==============================] - 0s 11ms/step - loss: 0.2944 - accuracy: 0.9124 - val_loss: 1.3223 - val_accuracy: 0.5600\n",
      "Epoch 68/200\n",
      "7/7 [==============================] - 0s 10ms/step - loss: 0.2869 - accuracy: 0.9124 - val_loss: 1.3476 - val_accuracy: 0.5600\n",
      "Epoch 69/200\n",
      "7/7 [==============================] - 0s 9ms/step - loss: 0.2805 - accuracy: 0.9217 - val_loss: 1.3651 - val_accuracy: 0.5600\n",
      "Epoch 70/200\n",
      "7/7 [==============================] - 0s 9ms/step - loss: 0.2745 - accuracy: 0.9263 - val_loss: 1.3792 - val_accuracy: 0.5600\n",
      "Epoch 71/200\n",
      "7/7 [==============================] - 0s 10ms/step - loss: 0.2691 - accuracy: 0.9355 - val_loss: 1.3873 - val_accuracy: 0.5600\n",
      "Epoch 72/200\n",
      "7/7 [==============================] - 0s 9ms/step - loss: 0.2626 - accuracy: 0.9355 - val_loss: 1.3967 - val_accuracy: 0.5600\n",
      "Epoch 73/200\n",
      "7/7 [==============================] - 0s 9ms/step - loss: 0.2565 - accuracy: 0.9401 - val_loss: 1.4146 - val_accuracy: 0.5600\n",
      "Epoch 74/200\n",
      "7/7 [==============================] - 0s 21ms/step - loss: 0.2514 - accuracy: 0.9493 - val_loss: 1.4315 - val_accuracy: 0.5600\n",
      "Epoch 75/200\n",
      "7/7 [==============================] - 0s 10ms/step - loss: 0.2450 - accuracy: 0.9539 - val_loss: 1.4428 - val_accuracy: 0.5600\n",
      "Epoch 76/200\n",
      "7/7 [==============================] - 0s 9ms/step - loss: 0.2400 - accuracy: 0.9631 - val_loss: 1.4600 - val_accuracy: 0.5600\n",
      "Epoch 77/200\n",
      "7/7 [==============================] - 0s 10ms/step - loss: 0.2350 - accuracy: 0.9677 - val_loss: 1.4747 - val_accuracy: 0.5600\n",
      "Epoch 78/200\n",
      "7/7 [==============================] - 0s 9ms/step - loss: 0.2299 - accuracy: 0.9677 - val_loss: 1.4960 - val_accuracy: 0.5600\n",
      "Epoch 79/200\n",
      "7/7 [==============================] - 0s 9ms/step - loss: 0.2257 - accuracy: 0.9677 - val_loss: 1.5047 - val_accuracy: 0.5600\n",
      "Epoch 80/200\n",
      "7/7 [==============================] - 0s 16ms/step - loss: 0.2209 - accuracy: 0.9724 - val_loss: 1.5237 - val_accuracy: 0.5600\n",
      "Epoch 81/200\n",
      "7/7 [==============================] - 0s 10ms/step - loss: 0.2152 - accuracy: 0.9724 - val_loss: 1.5300 - val_accuracy: 0.5600\n",
      "Epoch 82/200\n",
      "7/7 [==============================] - 0s 10ms/step - loss: 0.2099 - accuracy: 0.9724 - val_loss: 1.5537 - val_accuracy: 0.5600\n",
      "Epoch 83/200\n",
      "7/7 [==============================] - 0s 9ms/step - loss: 0.2055 - accuracy: 0.9724 - val_loss: 1.5675 - val_accuracy: 0.5600\n",
      "Epoch 84/200\n",
      "7/7 [==============================] - 0s 9ms/step - loss: 0.2028 - accuracy: 0.9724 - val_loss: 1.5885 - val_accuracy: 0.5600\n",
      "Epoch 85/200\n",
      "7/7 [==============================] - 0s 10ms/step - loss: 0.1970 - accuracy: 0.9724 - val_loss: 1.5900 - val_accuracy: 0.5600\n",
      "Epoch 86/200\n",
      "7/7 [==============================] - 0s 10ms/step - loss: 0.1923 - accuracy: 0.9770 - val_loss: 1.6094 - val_accuracy: 0.5600\n",
      "Epoch 87/200\n",
      "7/7 [==============================] - 0s 11ms/step - loss: 0.1884 - accuracy: 0.9770 - val_loss: 1.6255 - val_accuracy: 0.5600\n",
      "Epoch 88/200\n",
      "7/7 [==============================] - 0s 9ms/step - loss: 0.1846 - accuracy: 0.9770 - val_loss: 1.6378 - val_accuracy: 0.5600\n",
      "Epoch 89/200\n",
      "7/7 [==============================] - 0s 10ms/step - loss: 0.1795 - accuracy: 0.9770 - val_loss: 1.6539 - val_accuracy: 0.5600\n",
      "Epoch 90/200\n",
      "7/7 [==============================] - 0s 9ms/step - loss: 0.1757 - accuracy: 0.9770 - val_loss: 1.6779 - val_accuracy: 0.5600\n",
      "Epoch 91/200\n",
      "7/7 [==============================] - 0s 9ms/step - loss: 0.1720 - accuracy: 0.9770 - val_loss: 1.6922 - val_accuracy: 0.5200\n",
      "Epoch 92/200\n",
      "7/7 [==============================] - 0s 9ms/step - loss: 0.1683 - accuracy: 0.9862 - val_loss: 1.7009 - val_accuracy: 0.5600\n",
      "Epoch 93/200\n",
      "7/7 [==============================] - 0s 9ms/step - loss: 0.1636 - accuracy: 0.9862 - val_loss: 1.7215 - val_accuracy: 0.5200\n",
      "Epoch 94/200\n",
      "7/7 [==============================] - 0s 9ms/step - loss: 0.1610 - accuracy: 0.9908 - val_loss: 1.7426 - val_accuracy: 0.5200\n",
      "Epoch 95/200\n",
      "7/7 [==============================] - 0s 9ms/step - loss: 0.1575 - accuracy: 0.9908 - val_loss: 1.7497 - val_accuracy: 0.5200\n",
      "Epoch 96/200\n",
      "7/7 [==============================] - 0s 10ms/step - loss: 0.1534 - accuracy: 0.9908 - val_loss: 1.7717 - val_accuracy: 0.5200\n",
      "Epoch 97/200\n",
      "7/7 [==============================] - 0s 19ms/step - loss: 0.1505 - accuracy: 0.9908 - val_loss: 1.7899 - val_accuracy: 0.5200\n",
      "Epoch 98/200\n",
      "7/7 [==============================] - 0s 13ms/step - loss: 0.1480 - accuracy: 0.9908 - val_loss: 1.8090 - val_accuracy: 0.5200\n",
      "Epoch 99/200\n",
      "7/7 [==============================] - 0s 10ms/step - loss: 0.1440 - accuracy: 0.9908 - val_loss: 1.8254 - val_accuracy: 0.5200\n",
      "Epoch 100/200\n",
      "7/7 [==============================] - 0s 9ms/step - loss: 0.1409 - accuracy: 0.9954 - val_loss: 1.8342 - val_accuracy: 0.5200\n",
      "Epoch 101/200\n",
      "7/7 [==============================] - 0s 9ms/step - loss: 0.1383 - accuracy: 0.9908 - val_loss: 1.8374 - val_accuracy: 0.5200\n",
      "Epoch 102/200\n",
      "7/7 [==============================] - 0s 9ms/step - loss: 0.1343 - accuracy: 0.9908 - val_loss: 1.8634 - val_accuracy: 0.5200\n",
      "Epoch 103/200\n",
      "7/7 [==============================] - 0s 9ms/step - loss: 0.1312 - accuracy: 0.9908 - val_loss: 1.8855 - val_accuracy: 0.5200\n",
      "Epoch 104/200\n",
      "7/7 [==============================] - 0s 9ms/step - loss: 0.1281 - accuracy: 0.9954 - val_loss: 1.9013 - val_accuracy: 0.5200\n",
      "Epoch 105/200\n",
      "7/7 [==============================] - 0s 10ms/step - loss: 0.1258 - accuracy: 0.9954 - val_loss: 1.9107 - val_accuracy: 0.5200\n",
      "Epoch 106/200\n",
      "7/7 [==============================] - 0s 9ms/step - loss: 0.1225 - accuracy: 0.9954 - val_loss: 1.9254 - val_accuracy: 0.5200\n",
      "Epoch 107/200\n",
      "7/7 [==============================] - 0s 9ms/step - loss: 0.1200 - accuracy: 0.9954 - val_loss: 1.9411 - val_accuracy: 0.5200\n",
      "Epoch 108/200\n",
      "7/7 [==============================] - 0s 14ms/step - loss: 0.1181 - accuracy: 0.9954 - val_loss: 1.9598 - val_accuracy: 0.5200\n",
      "Epoch 109/200\n",
      "7/7 [==============================] - 0s 10ms/step - loss: 0.1144 - accuracy: 0.9954 - val_loss: 1.9760 - val_accuracy: 0.5200\n",
      "Epoch 110/200\n",
      "7/7 [==============================] - 0s 12ms/step - loss: 0.1143 - accuracy: 0.9954 - val_loss: 1.9944 - val_accuracy: 0.5200\n",
      "Epoch 111/200\n",
      "7/7 [==============================] - 0s 11ms/step - loss: 0.1109 - accuracy: 0.9954 - val_loss: 1.9958 - val_accuracy: 0.5200\n",
      "Epoch 112/200\n",
      "7/7 [==============================] - 0s 10ms/step - loss: 0.1075 - accuracy: 0.9954 - val_loss: 2.0110 - val_accuracy: 0.5200\n",
      "Epoch 113/200\n",
      "7/7 [==============================] - 0s 10ms/step - loss: 0.1052 - accuracy: 0.9954 - val_loss: 2.0391 - val_accuracy: 0.5200\n",
      "Epoch 114/200\n",
      "7/7 [==============================] - 0s 10ms/step - loss: 0.1024 - accuracy: 0.9954 - val_loss: 2.0530 - val_accuracy: 0.5200\n",
      "Epoch 115/200\n",
      "7/7 [==============================] - 0s 9ms/step - loss: 0.1009 - accuracy: 0.9954 - val_loss: 2.0646 - val_accuracy: 0.5200\n",
      "Epoch 116/200\n",
      "7/7 [==============================] - 0s 9ms/step - loss: 0.0986 - accuracy: 0.9954 - val_loss: 2.0831 - val_accuracy: 0.5200\n",
      "Epoch 117/200\n",
      "7/7 [==============================] - 0s 10ms/step - loss: 0.0965 - accuracy: 0.9954 - val_loss: 2.0880 - val_accuracy: 0.5200\n",
      "Epoch 118/200\n",
      "7/7 [==============================] - 0s 22ms/step - loss: 0.0943 - accuracy: 0.9954 - val_loss: 2.0978 - val_accuracy: 0.5200\n",
      "Epoch 119/200\n",
      "7/7 [==============================] - 0s 11ms/step - loss: 0.0929 - accuracy: 0.9954 - val_loss: 2.1181 - val_accuracy: 0.5200\n",
      "Epoch 120/200\n",
      "7/7 [==============================] - 0s 10ms/step - loss: 0.0908 - accuracy: 0.9954 - val_loss: 2.1384 - val_accuracy: 0.5200\n",
      "Epoch 121/200\n",
      "7/7 [==============================] - 0s 9ms/step - loss: 0.0890 - accuracy: 0.9954 - val_loss: 2.1396 - val_accuracy: 0.5200\n",
      "Epoch 122/200\n",
      "7/7 [==============================] - 0s 10ms/step - loss: 0.0871 - accuracy: 0.9954 - val_loss: 2.1585 - val_accuracy: 0.5200\n",
      "Epoch 123/200\n",
      "7/7 [==============================] - 0s 10ms/step - loss: 0.0846 - accuracy: 0.9954 - val_loss: 2.1704 - val_accuracy: 0.5200\n",
      "Epoch 124/200\n",
      "7/7 [==============================] - 0s 9ms/step - loss: 0.0831 - accuracy: 0.9954 - val_loss: 2.1845 - val_accuracy: 0.5200\n",
      "Epoch 125/200\n",
      "7/7 [==============================] - 0s 10ms/step - loss: 0.0813 - accuracy: 0.9954 - val_loss: 2.2168 - val_accuracy: 0.5200\n",
      "Epoch 126/200\n",
      "7/7 [==============================] - 0s 9ms/step - loss: 0.0795 - accuracy: 0.9954 - val_loss: 2.2311 - val_accuracy: 0.5200\n",
      "Epoch 127/200\n",
      "7/7 [==============================] - 0s 10ms/step - loss: 0.0778 - accuracy: 0.9954 - val_loss: 2.2396 - val_accuracy: 0.5200\n",
      "Epoch 128/200\n",
      "7/7 [==============================] - 0s 9ms/step - loss: 0.0758 - accuracy: 0.9954 - val_loss: 2.2467 - val_accuracy: 0.5200\n",
      "Epoch 129/200\n",
      "7/7 [==============================] - 0s 9ms/step - loss: 0.0744 - accuracy: 0.9954 - val_loss: 2.2634 - val_accuracy: 0.5200\n",
      "Epoch 130/200\n",
      "7/7 [==============================] - 0s 10ms/step - loss: 0.0730 - accuracy: 0.9954 - val_loss: 2.2794 - val_accuracy: 0.5200\n",
      "Epoch 131/200\n",
      "7/7 [==============================] - 0s 9ms/step - loss: 0.0715 - accuracy: 0.9954 - val_loss: 2.2913 - val_accuracy: 0.5200\n",
      "Epoch 132/200\n",
      "7/7 [==============================] - 0s 10ms/step - loss: 0.0705 - accuracy: 0.9954 - val_loss: 2.3016 - val_accuracy: 0.5200\n",
      "Epoch 133/200\n",
      "7/7 [==============================] - 0s 9ms/step - loss: 0.0682 - accuracy: 0.9954 - val_loss: 2.3208 - val_accuracy: 0.5200\n",
      "Epoch 134/200\n",
      "7/7 [==============================] - 0s 9ms/step - loss: 0.0674 - accuracy: 0.9954 - val_loss: 2.3396 - val_accuracy: 0.5200\n",
      "Epoch 135/200\n",
      "7/7 [==============================] - 0s 11ms/step - loss: 0.0658 - accuracy: 1.0000 - val_loss: 2.3458 - val_accuracy: 0.5200\n",
      "Epoch 136/200\n",
      "7/7 [==============================] - 0s 12ms/step - loss: 0.0642 - accuracy: 1.0000 - val_loss: 2.3582 - val_accuracy: 0.5200\n",
      "Epoch 137/200\n",
      "7/7 [==============================] - 0s 23ms/step - loss: 0.0628 - accuracy: 1.0000 - val_loss: 2.3700 - val_accuracy: 0.5200\n",
      "Epoch 138/200\n",
      "7/7 [==============================] - 0s 12ms/step - loss: 0.0620 - accuracy: 1.0000 - val_loss: 2.3826 - val_accuracy: 0.5200\n",
      "Epoch 139/200\n",
      "7/7 [==============================] - 0s 9ms/step - loss: 0.0610 - accuracy: 1.0000 - val_loss: 2.4092 - val_accuracy: 0.5200\n",
      "Epoch 140/200\n",
      "7/7 [==============================] - 0s 9ms/step - loss: 0.0595 - accuracy: 1.0000 - val_loss: 2.4142 - val_accuracy: 0.5200\n",
      "Epoch 141/200\n",
      "7/7 [==============================] - 0s 14ms/step - loss: 0.0582 - accuracy: 1.0000 - val_loss: 2.4298 - val_accuracy: 0.5200\n",
      "Epoch 142/200\n",
      "7/7 [==============================] - 0s 9ms/step - loss: 0.0572 - accuracy: 1.0000 - val_loss: 2.4488 - val_accuracy: 0.5200\n",
      "Epoch 143/200\n",
      "7/7 [==============================] - 0s 9ms/step - loss: 0.0562 - accuracy: 1.0000 - val_loss: 2.4523 - val_accuracy: 0.5200\n",
      "Epoch 144/200\n",
      "7/7 [==============================] - 0s 9ms/step - loss: 0.0558 - accuracy: 1.0000 - val_loss: 2.4663 - val_accuracy: 0.5200\n",
      "Epoch 145/200\n",
      "7/7 [==============================] - 0s 9ms/step - loss: 0.0537 - accuracy: 1.0000 - val_loss: 2.4835 - val_accuracy: 0.5200\n",
      "Epoch 146/200\n",
      "7/7 [==============================] - 0s 10ms/step - loss: 0.0529 - accuracy: 1.0000 - val_loss: 2.4975 - val_accuracy: 0.5200\n",
      "Epoch 147/200\n",
      "7/7 [==============================] - 0s 9ms/step - loss: 0.0518 - accuracy: 1.0000 - val_loss: 2.5072 - val_accuracy: 0.5200\n",
      "Epoch 148/200\n",
      "7/7 [==============================] - 0s 10ms/step - loss: 0.0510 - accuracy: 1.0000 - val_loss: 2.5263 - val_accuracy: 0.5200\n",
      "Epoch 149/200\n",
      "7/7 [==============================] - 0s 9ms/step - loss: 0.0497 - accuracy: 1.0000 - val_loss: 2.5359 - val_accuracy: 0.5200\n",
      "Epoch 150/200\n",
      "7/7 [==============================] - 0s 9ms/step - loss: 0.0490 - accuracy: 1.0000 - val_loss: 2.5477 - val_accuracy: 0.5200\n",
      "Epoch 151/200\n",
      "7/7 [==============================] - 0s 11ms/step - loss: 0.0482 - accuracy: 1.0000 - val_loss: 2.5566 - val_accuracy: 0.5200\n",
      "Epoch 152/200\n",
      "7/7 [==============================] - 0s 10ms/step - loss: 0.0471 - accuracy: 1.0000 - val_loss: 2.5658 - val_accuracy: 0.5200\n",
      "Epoch 153/200\n",
      "7/7 [==============================] - 0s 9ms/step - loss: 0.0464 - accuracy: 1.0000 - val_loss: 2.5868 - val_accuracy: 0.5200\n",
      "Epoch 154/200\n",
      "7/7 [==============================] - 0s 9ms/step - loss: 0.0455 - accuracy: 1.0000 - val_loss: 2.6016 - val_accuracy: 0.5200\n",
      "Epoch 155/200\n",
      "7/7 [==============================] - 0s 9ms/step - loss: 0.0447 - accuracy: 1.0000 - val_loss: 2.6127 - val_accuracy: 0.5200\n",
      "Epoch 156/200\n",
      "7/7 [==============================] - 0s 10ms/step - loss: 0.0438 - accuracy: 1.0000 - val_loss: 2.6213 - val_accuracy: 0.5200\n",
      "Epoch 157/200\n",
      "7/7 [==============================] - 0s 10ms/step - loss: 0.0431 - accuracy: 1.0000 - val_loss: 2.6335 - val_accuracy: 0.5200\n",
      "Epoch 158/200\n",
      "7/7 [==============================] - 0s 20ms/step - loss: 0.0421 - accuracy: 1.0000 - val_loss: 2.6549 - val_accuracy: 0.5200\n",
      "Epoch 159/200\n",
      "7/7 [==============================] - 0s 11ms/step - loss: 0.0413 - accuracy: 1.0000 - val_loss: 2.6707 - val_accuracy: 0.5200\n",
      "Epoch 160/200\n",
      "7/7 [==============================] - 0s 9ms/step - loss: 0.0407 - accuracy: 1.0000 - val_loss: 2.6853 - val_accuracy: 0.5200\n",
      "Epoch 161/200\n",
      "7/7 [==============================] - 0s 10ms/step - loss: 0.0403 - accuracy: 1.0000 - val_loss: 2.6838 - val_accuracy: 0.5200\n",
      "Epoch 162/200\n",
      "7/7 [==============================] - 0s 9ms/step - loss: 0.0390 - accuracy: 1.0000 - val_loss: 2.6953 - val_accuracy: 0.5200\n",
      "Epoch 163/200\n",
      "7/7 [==============================] - 0s 9ms/step - loss: 0.0387 - accuracy: 1.0000 - val_loss: 2.7119 - val_accuracy: 0.5600\n",
      "Epoch 164/200\n",
      "7/7 [==============================] - 0s 9ms/step - loss: 0.0379 - accuracy: 1.0000 - val_loss: 2.7237 - val_accuracy: 0.5600\n",
      "Epoch 165/200\n",
      "7/7 [==============================] - 0s 9ms/step - loss: 0.0372 - accuracy: 1.0000 - val_loss: 2.7361 - val_accuracy: 0.5200\n",
      "Epoch 166/200\n",
      "7/7 [==============================] - 0s 9ms/step - loss: 0.0367 - accuracy: 1.0000 - val_loss: 2.7526 - val_accuracy: 0.5200\n",
      "Epoch 167/200\n",
      "7/7 [==============================] - 0s 9ms/step - loss: 0.0360 - accuracy: 1.0000 - val_loss: 2.7706 - val_accuracy: 0.5200\n",
      "Epoch 168/200\n",
      "7/7 [==============================] - 0s 13ms/step - loss: 0.0353 - accuracy: 1.0000 - val_loss: 2.7800 - val_accuracy: 0.5200\n",
      "Epoch 169/200\n",
      "7/7 [==============================] - 0s 10ms/step - loss: 0.0346 - accuracy: 1.0000 - val_loss: 2.7852 - val_accuracy: 0.5200\n",
      "Epoch 170/200\n",
      "7/7 [==============================] - 0s 9ms/step - loss: 0.0342 - accuracy: 1.0000 - val_loss: 2.7942 - val_accuracy: 0.5600\n",
      "Epoch 171/200\n",
      "7/7 [==============================] - 0s 9ms/step - loss: 0.0335 - accuracy: 1.0000 - val_loss: 2.8071 - val_accuracy: 0.5200\n",
      "Epoch 172/200\n",
      "7/7 [==============================] - 0s 9ms/step - loss: 0.0329 - accuracy: 1.0000 - val_loss: 2.8229 - val_accuracy: 0.5600\n",
      "Epoch 173/200\n",
      "7/7 [==============================] - 0s 10ms/step - loss: 0.0326 - accuracy: 1.0000 - val_loss: 2.8403 - val_accuracy: 0.5600\n",
      "Epoch 174/200\n",
      "7/7 [==============================] - 0s 9ms/step - loss: 0.0316 - accuracy: 1.0000 - val_loss: 2.8502 - val_accuracy: 0.5200\n",
      "Epoch 175/200\n",
      "7/7 [==============================] - 0s 9ms/step - loss: 0.0313 - accuracy: 1.0000 - val_loss: 2.8584 - val_accuracy: 0.5200\n",
      "Epoch 176/200\n",
      "7/7 [==============================] - 0s 9ms/step - loss: 0.0307 - accuracy: 1.0000 - val_loss: 2.8654 - val_accuracy: 0.5200\n",
      "Epoch 177/200\n",
      "7/7 [==============================] - 0s 9ms/step - loss: 0.0302 - accuracy: 1.0000 - val_loss: 2.8811 - val_accuracy: 0.5600\n",
      "Epoch 178/200\n",
      "7/7 [==============================] - 0s 23ms/step - loss: 0.0299 - accuracy: 1.0000 - val_loss: 2.8968 - val_accuracy: 0.5600\n",
      "Epoch 179/200\n",
      "7/7 [==============================] - 0s 11ms/step - loss: 0.0294 - accuracy: 1.0000 - val_loss: 2.9024 - val_accuracy: 0.5200\n",
      "Epoch 180/200\n",
      "7/7 [==============================] - 0s 12ms/step - loss: 0.0288 - accuracy: 1.0000 - val_loss: 2.9166 - val_accuracy: 0.5200\n",
      "Epoch 181/200\n",
      "7/7 [==============================] - 0s 10ms/step - loss: 0.0284 - accuracy: 1.0000 - val_loss: 2.9314 - val_accuracy: 0.5600\n",
      "Epoch 182/200\n",
      "7/7 [==============================] - 0s 9ms/step - loss: 0.0279 - accuracy: 1.0000 - val_loss: 2.9375 - val_accuracy: 0.5600\n",
      "Epoch 183/200\n",
      "7/7 [==============================] - 0s 10ms/step - loss: 0.0275 - accuracy: 1.0000 - val_loss: 2.9472 - val_accuracy: 0.5200\n",
      "Epoch 184/200\n",
      "7/7 [==============================] - 0s 9ms/step - loss: 0.0270 - accuracy: 1.0000 - val_loss: 2.9619 - val_accuracy: 0.5200\n",
      "Epoch 185/200\n",
      "7/7 [==============================] - 0s 9ms/step - loss: 0.0266 - accuracy: 1.0000 - val_loss: 2.9713 - val_accuracy: 0.5200\n",
      "Epoch 186/200\n",
      "7/7 [==============================] - 0s 10ms/step - loss: 0.0261 - accuracy: 1.0000 - val_loss: 2.9853 - val_accuracy: 0.5600\n",
      "Epoch 187/200\n",
      "7/7 [==============================] - 0s 9ms/step - loss: 0.0258 - accuracy: 1.0000 - val_loss: 2.9926 - val_accuracy: 0.5600\n",
      "Epoch 188/200\n",
      "7/7 [==============================] - 0s 11ms/step - loss: 0.0254 - accuracy: 1.0000 - val_loss: 3.0086 - val_accuracy: 0.5600\n",
      "Epoch 189/200\n",
      "7/7 [==============================] - 0s 9ms/step - loss: 0.0249 - accuracy: 1.0000 - val_loss: 3.0163 - val_accuracy: 0.5200\n",
      "Epoch 190/200\n",
      "7/7 [==============================] - 0s 9ms/step - loss: 0.0245 - accuracy: 1.0000 - val_loss: 3.0207 - val_accuracy: 0.5600\n",
      "Epoch 191/200\n",
      "7/7 [==============================] - 0s 9ms/step - loss: 0.0243 - accuracy: 1.0000 - val_loss: 3.0314 - val_accuracy: 0.5600\n",
      "Epoch 192/200\n",
      "7/7 [==============================] - 0s 15ms/step - loss: 0.0238 - accuracy: 1.0000 - val_loss: 3.0414 - val_accuracy: 0.5600\n",
      "Epoch 193/200\n",
      "7/7 [==============================] - 0s 9ms/step - loss: 0.0233 - accuracy: 1.0000 - val_loss: 3.0601 - val_accuracy: 0.5200\n",
      "Epoch 194/200\n",
      "7/7 [==============================] - 0s 12ms/step - loss: 0.0230 - accuracy: 1.0000 - val_loss: 3.0683 - val_accuracy: 0.5600\n",
      "Epoch 195/200\n",
      "7/7 [==============================] - 0s 9ms/step - loss: 0.0226 - accuracy: 1.0000 - val_loss: 3.0801 - val_accuracy: 0.5200\n",
      "Epoch 196/200\n",
      "7/7 [==============================] - 0s 10ms/step - loss: 0.0223 - accuracy: 1.0000 - val_loss: 3.0885 - val_accuracy: 0.5600\n",
      "Epoch 197/200\n",
      "7/7 [==============================] - 0s 9ms/step - loss: 0.0219 - accuracy: 1.0000 - val_loss: 3.1018 - val_accuracy: 0.5200\n",
      "Epoch 198/200\n",
      "7/7 [==============================] - 0s 20ms/step - loss: 0.0217 - accuracy: 1.0000 - val_loss: 3.1095 - val_accuracy: 0.5200\n",
      "Epoch 199/200\n",
      "7/7 [==============================] - 0s 12ms/step - loss: 0.0213 - accuracy: 1.0000 - val_loss: 3.1156 - val_accuracy: 0.5600\n",
      "Epoch 200/200\n",
      "7/7 [==============================] - 0s 10ms/step - loss: 0.0210 - accuracy: 1.0000 - val_loss: 3.1276 - val_accuracy: 0.5600\n"
     ]
    }
   ],
   "source": [
    "# Train the model\n",
    "history = model.fit(X_train, y_train.astype(float), epochs=200, batch_size=32, validation_split=0.1)"
   ]
  },
  {
   "cell_type": "code",
   "execution_count": null,
   "metadata": {},
   "outputs": [],
   "source": []
  },
  {
   "cell_type": "code",
   "execution_count": 22,
   "metadata": {
    "id": "RAQnRKqsvIXE"
   },
   "outputs": [
    {
     "data": {
      "image/png": "[encoded data removed]",
      "text/plain": [
       "<Figure size 432x288 with 1 Axes>"
      ]
     },
     "metadata": {
      "needs_background": "light"
     },
     "output_type": "display_data"
    },
    {
     "data": {
      "image/png": "[encoded data removed]",
      "text/plain": [
       "<Figure size 432x288 with 1 Axes>"
      ]
     },
     "metadata": {
      "needs_background": "light"
     },
     "output_type": "display_data"
    }
   ],
   "source": [
    "import matplotlib.pyplot as plt\n",
    "\n",
    "accuracy = history.history['accuracy']\n",
    "loss = history.history['loss']\n",
    "val_accuracy = history.history['val_accuracy']\n",
    "val_loss = history.history['val_loss']\n",
    "\n",
    "epochs = range(1, len(accuracy) + 1)\n",
    "\n",
    "plt.plot(epochs[0:], accuracy[0:], 'bo', label='Training accuracy')\n",
    "plt.plot(epochs[0:], val_accuracy[0:], 'b', label='Validation accuracy')\n",
    "plt.title('Training and validation accuracyuracy')\n",
    "plt.xlabel('Epochs')\n",
    "plt.ylabel('accuracyuracy')\n",
    "plt.margins(0.05)\n",
    "\n",
    "plt.figure()\n",
    "\n",
    "plt.plot(epochs[0:], loss[0:], 'bo', label='Training loss')\n",
    "plt.plot(epochs[0:], val_loss[0:], 'b', label='Validation loss')\n",
    "plt.title('Training and validation loss')\n",
    "plt.xlabel('Epochs')\n",
    "plt.ylabel('Loss')\n",
    "plt.margins(0.05)\n",
    "\n",
    "plt.show()"
   ]
  },
  {
   "cell_type": "markdown",
   "metadata": {
    "id": "oNye35CWEZ0D"
   },
   "source": [
    "In this code we use of the matplotlib library to plot graphs of the training and validation accuracy and loss during the model training process. The accuracy and loss values for both training and validation sets are obtained from the history object, which is the result of the fit() method used for training the model. These values are then plotted against the number of epochs using the plot() function, with different colors and labels assigned to each line. The title(), xlabel(), and ylabel() functions are used to add labels to the graphs. Finally, the show() function is used to display the graphs."
   ]
  },
  {
   "cell_type": "markdown",
   "metadata": {
    "id": "jXs96MhpvIXE"
   },
   "source": [
    "We can measure that the model is overfitting on the dataset."
   ]
  },
  {
   "cell_type": "code",
   "execution_count": 23,
   "metadata": {
    "colab": {
     "base_uri": "https://localhost:8080/"
    },
    "id": "BzrVI02VvIXE",
    "outputId": "d065e768-0bf9-41c9-be38-b2813478b6a3"
   },
   "outputs": [
    {
     "name": "stdout",
     "output_type": "stream",
     "text": [
      "8/8 - 0s - loss: 0.3416 - accuracy: 0.9545 - 51ms/epoch - 6ms/step\n",
      "Train accuracy: 0.9545454382896423\n"
     ]
    }
   ],
   "source": [
    "# Evaluate the model\n",
    "train_loss, train_acc = model.evaluate(X_train, y_train, verbose=2)\n",
    "print('Train accuracy:', train_acc)\n"
   ]
  },
  {
   "cell_type": "code",
   "execution_count": 24,
   "metadata": {
    "colab": {
     "base_uri": "https://localhost:8080/"
    },
    "id": "1je0_5ZBvIXF",
    "outputId": "199c6eae-de6d-4aee-f267-a7e873a30c07"
   },
   "outputs": [
    {
     "name": "stdout",
     "output_type": "stream",
     "text": [
      "2/2 - 0s - loss: 3.1108 - accuracy: 0.4754 - 76ms/epoch - 38ms/step\n",
      "Test accuracy: 0.4754098355770111\n"
     ]
    }
   ],
   "source": [
    "# Evaluate the model\n",
    "test_loss, test_acc = model.evaluate(X_test, y_test, verbose=2)\n",
    "print('Test accuracy:', test_acc)"
   ]
  },
  {
   "cell_type": "code",
   "execution_count": 25,
   "metadata": {
    "id": "LhoBGb_3vIXF"
   },
   "outputs": [
    {
     "name": "stdout",
     "output_type": "stream",
     "text": [
      "2/2 [==============================] - 0s 6ms/step\n",
      "Confusion Matrix:\n"
     ]
    },
    {
     "data": {
      "text/html": [
       "<div>\n",
       "<style scoped>\n",
       "    .dataframe tbody tr th:only-of-type {\n",
       "        vertical-align: middle;\n",
       "    }\n",
       "\n",
       "    .dataframe tbody tr th {\n",
       "        vertical-align: top;\n",
       "    }\n",
       "\n",
       "    .dataframe thead th {\n",
       "        text-align: right;\n",
       "    }\n",
       "</style>\n",
       "<table border=\"1\" class=\"dataframe\">\n",
       "  <thead>\n",
       "    <tr style=\"text-align: right;\">\n",
       "      <th></th>\n",
       "      <th>0</th>\n",
       "      <th>1</th>\n",
       "      <th>2</th>\n",
       "      <th>3</th>\n",
       "      <th>4</th>\n",
       "    </tr>\n",
       "  </thead>\n",
       "  <tbody>\n",
       "    <tr>\n",
       "      <th>0</th>\n",
       "      <td>24</td>\n",
       "      <td>2</td>\n",
       "      <td>2</td>\n",
       "      <td>1</td>\n",
       "      <td>0</td>\n",
       "    </tr>\n",
       "    <tr>\n",
       "      <th>1</th>\n",
       "      <td>4</td>\n",
       "      <td>3</td>\n",
       "      <td>4</td>\n",
       "      <td>1</td>\n",
       "      <td>0</td>\n",
       "    </tr>\n",
       "    <tr>\n",
       "      <th>2</th>\n",
       "      <td>4</td>\n",
       "      <td>1</td>\n",
       "      <td>1</td>\n",
       "      <td>3</td>\n",
       "      <td>0</td>\n",
       "    </tr>\n",
       "    <tr>\n",
       "      <th>3</th>\n",
       "      <td>2</td>\n",
       "      <td>3</td>\n",
       "      <td>1</td>\n",
       "      <td>1</td>\n",
       "      <td>0</td>\n",
       "    </tr>\n",
       "    <tr>\n",
       "      <th>4</th>\n",
       "      <td>0</td>\n",
       "      <td>1</td>\n",
       "      <td>0</td>\n",
       "      <td>3</td>\n",
       "      <td>0</td>\n",
       "    </tr>\n",
       "  </tbody>\n",
       "</table>\n",
       "</div>"
      ],
      "text/plain": [
       "    0  1  2  3  4\n",
       "0  24  2  2  1  0\n",
       "1   4  3  4  1  0\n",
       "2   4  1  1  3  0\n",
       "3   2  3  1  1  0\n",
       "4   0  1  0  3  0"
      ]
     },
     "execution_count": 25,
     "metadata": {},
     "output_type": "execute_result"
    }
   ],
   "source": [
    "from sklearn.metrics import confusion_matrix\n",
    "# Confusion Matrix\n",
    "y_pred = model.predict(X_test)\n",
    "y_pred_classes = np.argmax(y_pred, axis=1)\n",
    "cm = confusion_matrix(y_test, y_pred_classes)\n",
    "print('Confusion Matrix:')\n",
    "pd.DataFrame(cm)"
   ]
  },
  {
   "cell_type": "markdown",
   "metadata": {
    "id": "gItu8NBbE9XC"
   },
   "source": [
    "This code computes the confusion matrix for evaluating the performance of a machine learning model. The predicted values for a test dataset are obtained using the model and compared with the true values. The confusion matrix shows the number of true positive, true negative, false positive, and false negative predictions. It helps to measure the accuracy of a model and identify areas for improvement."
   ]
  },
  {
   "cell_type": "markdown",
   "metadata": {
    "id": "cU5LANSh7TSW"
   },
   "source": [
    "## Step 4: Develop a Model with Dropout\n",
    "\n",
    "In the preceding step, a notable distinction between training and testing accuracy was observed. To address this issue, the introduction of dropout into the model architecture is proposed. Dropout regularization can be implemented within the model to randomly remove inputs during training, effectively reducing overfitting and promoting generalization."
   ]
  },
  {
   "cell_type": "code",
   "execution_count": 26,
   "metadata": {
    "id": "oP0aKgW7vIXG"
   },
   "outputs": [
    {
     "name": "stdout",
     "output_type": "stream",
     "text": [
      "Model: \"sequential_3\"\n",
      "_________________________________________________________________\n",
      " Layer (type)                Output Shape              Param #   \n",
      "=================================================================\n",
      " dense_9 (Dense)             (None, 64)                896       \n",
      "                                                                 \n",
      " dropout (Dropout)           (None, 64)                0         \n",
      "                                                                 \n",
      " dense_10 (Dense)            (None, 32)                2080      \n",
      "                                                                 \n",
      " dense_11 (Dense)            (None, 5)                 165       \n",
      "                                                                 \n",
      "=================================================================\n",
      "Total params: 3,141\n",
      "Trainable params: 3,141\n",
      "Non-trainable params: 0\n",
      "_________________________________________________________________\n"
     ]
    }
   ],
   "source": [
    "from tensorflow.keras.layers import Dropout\n",
    "\n",
    "# Create the model\n",
    "model = Sequential([\n",
    "    Dense(64, activation='relu', input_shape=(X_train.shape[1],)),\n",
    "    Dropout(0.1), #adding dropout in the model\n",
    "    Dense(32, activation='relu'),\n",
    "    Dense(classes_n, activation='softmax')\n",
    "])\n",
    "\n",
    "\n",
    "# Compile the model\n",
    "model.compile(optimizer='adam',\n",
    "              loss='sparse_categorical_crossentropy',\n",
    "              metrics=['accuracy'])\n",
    "model.summary()"
   ]
  },
  {
   "cell_type": "markdown",
   "metadata": {
    "id": "wQW00NGdFP9d"
   },
   "source": [
    "In this code, the Keras library's Dropout layer is added to the neural network model. The Dropout layer helps to reduce overfitting by randomly setting a fraction of input units to 0 during training, thereby forcing the model to learn more robust features. A Dropout rate of 0.1 is set to drop 10% of the input units randomly. The rest of the code is similar to the previous example, where the model is compiled and a summary is printed."
   ]
  },
  {
   "cell_type": "markdown",
   "metadata": {
    "id": "jDXyR9sPvIXG"
   },
   "source": [
    "\n",
    "- Fit the model on the training dataset with 100 epochs, batch size of 32, and a validation split of 0.1."
   ]
  },
  {
   "cell_type": "code",
   "execution_count": 27,
   "metadata": {
    "id": "vaAzJGpyvIXG",
    "scrolled": true
   },
   "outputs": [
    {
     "name": "stdout",
     "output_type": "stream",
     "text": [
      "Epoch 1/200\n",
      "7/7 [==============================] - 1s 50ms/step - loss: 1.4660 - accuracy: 0.4747 - val_loss: 1.3614 - val_accuracy: 0.5200\n",
      "Epoch 2/200\n",
      "7/7 [==============================] - 0s 11ms/step - loss: 1.3151 - accuracy: 0.5806 - val_loss: 1.2173 - val_accuracy: 0.6400\n",
      "Epoch 3/200\n",
      "7/7 [==============================] - 0s 11ms/step - loss: 1.1756 - accuracy: 0.6129 - val_loss: 1.1182 - val_accuracy: 0.6800\n",
      "Epoch 4/200\n",
      "7/7 [==============================] - 0s 10ms/step - loss: 1.0822 - accuracy: 0.6267 - val_loss: 1.0431 - val_accuracy: 0.6800\n",
      "Epoch 5/200\n",
      "7/7 [==============================] - 0s 11ms/step - loss: 0.9831 - accuracy: 0.6636 - val_loss: 0.9969 - val_accuracy: 0.6800\n",
      "Epoch 6/200\n",
      "7/7 [==============================] - 0s 10ms/step - loss: 0.9238 - accuracy: 0.6728 - val_loss: 0.9682 - val_accuracy: 0.6800\n",
      "Epoch 7/200\n",
      "7/7 [==============================] - 0s 10ms/step - loss: 0.9152 - accuracy: 0.6590 - val_loss: 0.9548 - val_accuracy: 0.6800\n",
      "Epoch 8/200\n",
      "7/7 [==============================] - 0s 12ms/step - loss: 0.8838 - accuracy: 0.6406 - val_loss: 0.9474 - val_accuracy: 0.6800\n",
      "Epoch 9/200\n",
      "7/7 [==============================] - 0s 11ms/step - loss: 0.8786 - accuracy: 0.6544 - val_loss: 0.9452 - val_accuracy: 0.6800\n",
      "Epoch 10/200\n",
      "7/7 [==============================] - 0s 10ms/step - loss: 0.8411 - accuracy: 0.6682 - val_loss: 0.9479 - val_accuracy: 0.6800\n",
      "Epoch 11/200\n",
      "7/7 [==============================] - 0s 10ms/step - loss: 0.8266 - accuracy: 0.6682 - val_loss: 0.9570 - val_accuracy: 0.6400\n",
      "Epoch 12/200\n",
      "7/7 [==============================] - 0s 11ms/step - loss: 0.8366 - accuracy: 0.6682 - val_loss: 0.9602 - val_accuracy: 0.6400\n",
      "Epoch 13/200\n",
      "7/7 [==============================] - 0s 11ms/step - loss: 0.8004 - accuracy: 0.6866 - val_loss: 0.9594 - val_accuracy: 0.6400\n",
      "Epoch 14/200\n",
      "7/7 [==============================] - 0s 10ms/step - loss: 0.8034 - accuracy: 0.6866 - val_loss: 0.9554 - val_accuracy: 0.6000\n",
      "Epoch 15/200\n",
      "7/7 [==============================] - 0s 11ms/step - loss: 0.7860 - accuracy: 0.6820 - val_loss: 0.9594 - val_accuracy: 0.5600\n",
      "Epoch 16/200\n",
      "7/7 [==============================] - 0s 11ms/step - loss: 0.7744 - accuracy: 0.7097 - val_loss: 0.9618 - val_accuracy: 0.5600\n",
      "Epoch 17/200\n",
      "7/7 [==============================] - 0s 11ms/step - loss: 0.7522 - accuracy: 0.7189 - val_loss: 0.9657 - val_accuracy: 0.5600\n",
      "Epoch 18/200\n",
      "7/7 [==============================] - 0s 10ms/step - loss: 0.7573 - accuracy: 0.6866 - val_loss: 0.9642 - val_accuracy: 0.5600\n",
      "Epoch 19/200\n",
      "7/7 [==============================] - 0s 10ms/step - loss: 0.7403 - accuracy: 0.7005 - val_loss: 0.9677 - val_accuracy: 0.5600\n",
      "Epoch 20/200\n",
      "7/7 [==============================] - 0s 10ms/step - loss: 0.7302 - accuracy: 0.7005 - val_loss: 0.9710 - val_accuracy: 0.5600\n",
      "Epoch 21/200\n",
      "7/7 [==============================] - 0s 11ms/step - loss: 0.7245 - accuracy: 0.7097 - val_loss: 0.9775 - val_accuracy: 0.5600\n",
      "Epoch 22/200\n",
      "7/7 [==============================] - 0s 13ms/step - loss: 0.7168 - accuracy: 0.7097 - val_loss: 0.9822 - val_accuracy: 0.5600\n",
      "Epoch 23/200\n",
      "7/7 [==============================] - 0s 11ms/step - loss: 0.7092 - accuracy: 0.7465 - val_loss: 0.9862 - val_accuracy: 0.5600\n",
      "Epoch 24/200\n",
      "7/7 [==============================] - 0s 9ms/step - loss: 0.6887 - accuracy: 0.7189 - val_loss: 0.9970 - val_accuracy: 0.5600\n",
      "Epoch 25/200\n",
      "7/7 [==============================] - 0s 25ms/step - loss: 0.6716 - accuracy: 0.7558 - val_loss: 1.0081 - val_accuracy: 0.6000\n",
      "Epoch 26/200\n",
      "7/7 [==============================] - 0s 11ms/step - loss: 0.6681 - accuracy: 0.7281 - val_loss: 1.0138 - val_accuracy: 0.6000\n",
      "Epoch 27/200\n",
      "7/7 [==============================] - 0s 10ms/step - loss: 0.6696 - accuracy: 0.7419 - val_loss: 1.0150 - val_accuracy: 0.6000\n",
      "Epoch 28/200\n",
      "7/7 [==============================] - 0s 15ms/step - loss: 0.6545 - accuracy: 0.7558 - val_loss: 1.0234 - val_accuracy: 0.6000\n",
      "Epoch 29/200\n",
      "7/7 [==============================] - 0s 10ms/step - loss: 0.6388 - accuracy: 0.7281 - val_loss: 1.0238 - val_accuracy: 0.6000\n",
      "Epoch 30/200\n",
      "7/7 [==============================] - 0s 10ms/step - loss: 0.6372 - accuracy: 0.7465 - val_loss: 1.0312 - val_accuracy: 0.6000\n",
      "Epoch 31/200\n",
      "7/7 [==============================] - 0s 10ms/step - loss: 0.6251 - accuracy: 0.7465 - val_loss: 1.0397 - val_accuracy: 0.6000\n",
      "Epoch 32/200\n",
      "7/7 [==============================] - 0s 10ms/step - loss: 0.6401 - accuracy: 0.7512 - val_loss: 1.0457 - val_accuracy: 0.5600\n",
      "Epoch 33/200\n",
      "7/7 [==============================] - 0s 10ms/step - loss: 0.6076 - accuracy: 0.7696 - val_loss: 1.0443 - val_accuracy: 0.5600\n",
      "Epoch 34/200\n",
      "7/7 [==============================] - 0s 10ms/step - loss: 0.6130 - accuracy: 0.7604 - val_loss: 1.0535 - val_accuracy: 0.6000\n",
      "Epoch 35/200\n",
      "7/7 [==============================] - 0s 10ms/step - loss: 0.6080 - accuracy: 0.7558 - val_loss: 1.0646 - val_accuracy: 0.5600\n",
      "Epoch 36/200\n",
      "7/7 [==============================] - 0s 10ms/step - loss: 0.5991 - accuracy: 0.7512 - val_loss: 1.0630 - val_accuracy: 0.5600\n",
      "Epoch 37/200\n",
      "7/7 [==============================] - 0s 10ms/step - loss: 0.5756 - accuracy: 0.7558 - val_loss: 1.0655 - val_accuracy: 0.5600\n",
      "Epoch 38/200\n",
      "7/7 [==============================] - 0s 10ms/step - loss: 0.5815 - accuracy: 0.7650 - val_loss: 1.0740 - val_accuracy: 0.5600\n",
      "Epoch 39/200\n",
      "7/7 [==============================] - 0s 10ms/step - loss: 0.5921 - accuracy: 0.7604 - val_loss: 1.0759 - val_accuracy: 0.5600\n",
      "Epoch 40/200\n",
      "7/7 [==============================] - 0s 10ms/step - loss: 0.5638 - accuracy: 0.7834 - val_loss: 1.0776 - val_accuracy: 0.5600\n",
      "Epoch 41/200\n",
      "7/7 [==============================] - 0s 10ms/step - loss: 0.5375 - accuracy: 0.7788 - val_loss: 1.0814 - val_accuracy: 0.5600\n",
      "Epoch 42/200\n",
      "7/7 [==============================] - 0s 10ms/step - loss: 0.5438 - accuracy: 0.7972 - val_loss: 1.0880 - val_accuracy: 0.5600\n",
      "Epoch 43/200\n",
      "7/7 [==============================] - 0s 10ms/step - loss: 0.5359 - accuracy: 0.7834 - val_loss: 1.0899 - val_accuracy: 0.5600\n",
      "Epoch 44/200\n",
      "7/7 [==============================] - 0s 10ms/step - loss: 0.5164 - accuracy: 0.7880 - val_loss: 1.1038 - val_accuracy: 0.5600\n",
      "Epoch 45/200\n",
      "7/7 [==============================] - 0s 12ms/step - loss: 0.5152 - accuracy: 0.7880 - val_loss: 1.1183 - val_accuracy: 0.5600\n",
      "Epoch 46/200\n",
      "7/7 [==============================] - 0s 11ms/step - loss: 0.5280 - accuracy: 0.7834 - val_loss: 1.1161 - val_accuracy: 0.5600\n",
      "Epoch 47/200\n",
      "7/7 [==============================] - 0s 9ms/step - loss: 0.5299 - accuracy: 0.7834 - val_loss: 1.1172 - val_accuracy: 0.5600\n",
      "Epoch 48/200\n",
      "7/7 [==============================] - 0s 10ms/step - loss: 0.4849 - accuracy: 0.8295 - val_loss: 1.1285 - val_accuracy: 0.5600\n",
      "Epoch 49/200\n",
      "7/7 [==============================] - 0s 10ms/step - loss: 0.4990 - accuracy: 0.8157 - val_loss: 1.1357 - val_accuracy: 0.5600\n",
      "Epoch 50/200\n",
      "7/7 [==============================] - 0s 20ms/step - loss: 0.5001 - accuracy: 0.7926 - val_loss: 1.1342 - val_accuracy: 0.5600\n",
      "Epoch 51/200\n",
      "7/7 [==============================] - 0s 12ms/step - loss: 0.4772 - accuracy: 0.8203 - val_loss: 1.1432 - val_accuracy: 0.5600\n",
      "Epoch 52/200\n",
      "7/7 [==============================] - 0s 9ms/step - loss: 0.4712 - accuracy: 0.8157 - val_loss: 1.1555 - val_accuracy: 0.5600\n",
      "Epoch 53/200\n",
      "7/7 [==============================] - 0s 10ms/step - loss: 0.4659 - accuracy: 0.8295 - val_loss: 1.1541 - val_accuracy: 0.5600\n",
      "Epoch 54/200\n",
      "7/7 [==============================] - 0s 10ms/step - loss: 0.4917 - accuracy: 0.8018 - val_loss: 1.1563 - val_accuracy: 0.5600\n",
      "Epoch 55/200\n",
      "7/7 [==============================] - 0s 10ms/step - loss: 0.4513 - accuracy: 0.8341 - val_loss: 1.1642 - val_accuracy: 0.5600\n",
      "Epoch 56/200\n",
      "7/7 [==============================] - 0s 11ms/step - loss: 0.4518 - accuracy: 0.8295 - val_loss: 1.1678 - val_accuracy: 0.5600\n",
      "Epoch 57/200\n",
      "7/7 [==============================] - 0s 11ms/step - loss: 0.4475 - accuracy: 0.8387 - val_loss: 1.1751 - val_accuracy: 0.5600\n",
      "Epoch 58/200\n",
      "7/7 [==============================] - 0s 10ms/step - loss: 0.4196 - accuracy: 0.8525 - val_loss: 1.1767 - val_accuracy: 0.5600\n",
      "Epoch 59/200\n",
      "7/7 [==============================] - 0s 10ms/step - loss: 0.4370 - accuracy: 0.8341 - val_loss: 1.1934 - val_accuracy: 0.5200\n",
      "Epoch 60/200\n",
      "7/7 [==============================] - 0s 10ms/step - loss: 0.4242 - accuracy: 0.8387 - val_loss: 1.2122 - val_accuracy: 0.5200\n",
      "Epoch 61/200\n",
      "7/7 [==============================] - 0s 9ms/step - loss: 0.4115 - accuracy: 0.8618 - val_loss: 1.2083 - val_accuracy: 0.5600\n",
      "Epoch 62/200\n",
      "7/7 [==============================] - 0s 12ms/step - loss: 0.4207 - accuracy: 0.8341 - val_loss: 1.2288 - val_accuracy: 0.5600\n",
      "Epoch 63/200\n",
      "7/7 [==============================] - 0s 11ms/step - loss: 0.4166 - accuracy: 0.8618 - val_loss: 1.2337 - val_accuracy: 0.5600\n",
      "Epoch 64/200\n",
      "7/7 [==============================] - 0s 9ms/step - loss: 0.3991 - accuracy: 0.8756 - val_loss: 1.2389 - val_accuracy: 0.5600\n",
      "Epoch 65/200\n",
      "7/7 [==============================] - 0s 18ms/step - loss: 0.4085 - accuracy: 0.8525 - val_loss: 1.2561 - val_accuracy: 0.5200\n",
      "Epoch 66/200\n",
      "7/7 [==============================] - 0s 10ms/step - loss: 0.3963 - accuracy: 0.8664 - val_loss: 1.2645 - val_accuracy: 0.5600\n",
      "Epoch 67/200\n",
      "7/7 [==============================] - 0s 10ms/step - loss: 0.4177 - accuracy: 0.8618 - val_loss: 1.2825 - val_accuracy: 0.5600\n",
      "Epoch 68/200\n",
      "7/7 [==============================] - 0s 10ms/step - loss: 0.3798 - accuracy: 0.8756 - val_loss: 1.2824 - val_accuracy: 0.5600\n",
      "Epoch 69/200\n",
      "7/7 [==============================] - 0s 10ms/step - loss: 0.3805 - accuracy: 0.8986 - val_loss: 1.2766 - val_accuracy: 0.5600\n",
      "Epoch 70/200\n",
      "7/7 [==============================] - 0s 10ms/step - loss: 0.3679 - accuracy: 0.8756 - val_loss: 1.2855 - val_accuracy: 0.5600\n",
      "Epoch 71/200\n",
      "7/7 [==============================] - 0s 12ms/step - loss: 0.3858 - accuracy: 0.8664 - val_loss: 1.3005 - val_accuracy: 0.5600\n",
      "Epoch 72/200\n",
      "7/7 [==============================] - 0s 10ms/step - loss: 0.3706 - accuracy: 0.8802 - val_loss: 1.3030 - val_accuracy: 0.5600\n",
      "Epoch 73/200\n",
      "7/7 [==============================] - 0s 11ms/step - loss: 0.3773 - accuracy: 0.8664 - val_loss: 1.3147 - val_accuracy: 0.5600\n",
      "Epoch 74/200\n",
      "7/7 [==============================] - 0s 11ms/step - loss: 0.3604 - accuracy: 0.8710 - val_loss: 1.3301 - val_accuracy: 0.5600\n",
      "Epoch 75/200\n",
      "7/7 [==============================] - 0s 15ms/step - loss: 0.3413 - accuracy: 0.9124 - val_loss: 1.3413 - val_accuracy: 0.5600\n",
      "Epoch 76/200\n",
      "7/7 [==============================] - 0s 11ms/step - loss: 0.3424 - accuracy: 0.9217 - val_loss: 1.3458 - val_accuracy: 0.5600\n",
      "Epoch 77/200\n",
      "7/7 [==============================] - 0s 23ms/step - loss: 0.3269 - accuracy: 0.9263 - val_loss: 1.3458 - val_accuracy: 0.5600\n",
      "Epoch 78/200\n",
      "7/7 [==============================] - 0s 15ms/step - loss: 0.3370 - accuracy: 0.8802 - val_loss: 1.3512 - val_accuracy: 0.5600\n",
      "Epoch 79/200\n",
      "7/7 [==============================] - 0s 10ms/step - loss: 0.3240 - accuracy: 0.8986 - val_loss: 1.3503 - val_accuracy: 0.5600\n",
      "Epoch 80/200\n",
      "7/7 [==============================] - 0s 10ms/step - loss: 0.3084 - accuracy: 0.9124 - val_loss: 1.3526 - val_accuracy: 0.5600\n",
      "Epoch 81/200\n",
      "7/7 [==============================] - 0s 10ms/step - loss: 0.3421 - accuracy: 0.8894 - val_loss: 1.3689 - val_accuracy: 0.5600\n",
      "Epoch 82/200\n",
      "7/7 [==============================] - 0s 9ms/step - loss: 0.3338 - accuracy: 0.8894 - val_loss: 1.3702 - val_accuracy: 0.5600\n",
      "Epoch 83/200\n",
      "7/7 [==============================] - 0s 9ms/step - loss: 0.3133 - accuracy: 0.9078 - val_loss: 1.3702 - val_accuracy: 0.5600\n",
      "Epoch 84/200\n",
      "7/7 [==============================] - 0s 10ms/step - loss: 0.3037 - accuracy: 0.9124 - val_loss: 1.3583 - val_accuracy: 0.5600\n",
      "Epoch 85/200\n",
      "7/7 [==============================] - 0s 9ms/step - loss: 0.3009 - accuracy: 0.9355 - val_loss: 1.3648 - val_accuracy: 0.5600\n",
      "Epoch 86/200\n",
      "7/7 [==============================] - 0s 10ms/step - loss: 0.2844 - accuracy: 0.9309 - val_loss: 1.3718 - val_accuracy: 0.5600\n",
      "Epoch 87/200\n",
      "7/7 [==============================] - 0s 9ms/step - loss: 0.3220 - accuracy: 0.9171 - val_loss: 1.3879 - val_accuracy: 0.5600\n",
      "Epoch 88/200\n",
      "7/7 [==============================] - 0s 12ms/step - loss: 0.2936 - accuracy: 0.9217 - val_loss: 1.3968 - val_accuracy: 0.5600\n",
      "Epoch 89/200\n",
      "7/7 [==============================] - 0s 12ms/step - loss: 0.3034 - accuracy: 0.9032 - val_loss: 1.4080 - val_accuracy: 0.5600\n",
      "Epoch 90/200\n",
      "7/7 [==============================] - 0s 12ms/step - loss: 0.2672 - accuracy: 0.9309 - val_loss: 1.4106 - val_accuracy: 0.5600\n",
      "Epoch 91/200\n",
      "7/7 [==============================] - 0s 11ms/step - loss: 0.2743 - accuracy: 0.9171 - val_loss: 1.4283 - val_accuracy: 0.5600\n",
      "Epoch 92/200\n",
      "7/7 [==============================] - 0s 11ms/step - loss: 0.2950 - accuracy: 0.9171 - val_loss: 1.4381 - val_accuracy: 0.5600\n",
      "Epoch 93/200\n",
      "7/7 [==============================] - 0s 11ms/step - loss: 0.2642 - accuracy: 0.9493 - val_loss: 1.4619 - val_accuracy: 0.5600\n",
      "Epoch 94/200\n",
      "7/7 [==============================] - 0s 11ms/step - loss: 0.2818 - accuracy: 0.9401 - val_loss: 1.4690 - val_accuracy: 0.5600\n",
      "Epoch 95/200\n",
      "7/7 [==============================] - 0s 18ms/step - loss: 0.2512 - accuracy: 0.9401 - val_loss: 1.4669 - val_accuracy: 0.5600\n",
      "Epoch 96/200\n",
      "7/7 [==============================] - 0s 12ms/step - loss: 0.2548 - accuracy: 0.9309 - val_loss: 1.4679 - val_accuracy: 0.5600\n",
      "Epoch 97/200\n",
      "7/7 [==============================] - 0s 9ms/step - loss: 0.2599 - accuracy: 0.9401 - val_loss: 1.4985 - val_accuracy: 0.5600\n",
      "Epoch 98/200\n",
      "7/7 [==============================] - 0s 20ms/step - loss: 0.2599 - accuracy: 0.9401 - val_loss: 1.5012 - val_accuracy: 0.5200\n",
      "Epoch 99/200\n",
      "7/7 [==============================] - 0s 12ms/step - loss: 0.2112 - accuracy: 0.9585 - val_loss: 1.5138 - val_accuracy: 0.5600\n",
      "Epoch 100/200\n",
      "7/7 [==============================] - 0s 10ms/step - loss: 0.2422 - accuracy: 0.9263 - val_loss: 1.5214 - val_accuracy: 0.5600\n",
      "Epoch 101/200\n",
      "7/7 [==============================] - 0s 10ms/step - loss: 0.2490 - accuracy: 0.9263 - val_loss: 1.5334 - val_accuracy: 0.5600\n",
      "Epoch 102/200\n",
      "7/7 [==============================] - 0s 10ms/step - loss: 0.2458 - accuracy: 0.9217 - val_loss: 1.5381 - val_accuracy: 0.5600\n",
      "Epoch 103/200\n",
      "7/7 [==============================] - 0s 9ms/step - loss: 0.2396 - accuracy: 0.9401 - val_loss: 1.5257 - val_accuracy: 0.5600\n",
      "Epoch 104/200\n",
      "7/7 [==============================] - 0s 10ms/step - loss: 0.2229 - accuracy: 0.9401 - val_loss: 1.5152 - val_accuracy: 0.6000\n",
      "Epoch 105/200\n",
      "7/7 [==============================] - 0s 9ms/step - loss: 0.2292 - accuracy: 0.9355 - val_loss: 1.5481 - val_accuracy: 0.6000\n",
      "Epoch 106/200\n",
      "7/7 [==============================] - 0s 9ms/step - loss: 0.2594 - accuracy: 0.9447 - val_loss: 1.5593 - val_accuracy: 0.6000\n",
      "Epoch 107/200\n",
      "7/7 [==============================] - 0s 10ms/step - loss: 0.2342 - accuracy: 0.9401 - val_loss: 1.5630 - val_accuracy: 0.6000\n",
      "Epoch 108/200\n",
      "7/7 [==============================] - 0s 9ms/step - loss: 0.2203 - accuracy: 0.9539 - val_loss: 1.5645 - val_accuracy: 0.6000\n",
      "Epoch 109/200\n",
      "7/7 [==============================] - 0s 9ms/step - loss: 0.2332 - accuracy: 0.9493 - val_loss: 1.5775 - val_accuracy: 0.5600\n",
      "Epoch 110/200\n",
      "7/7 [==============================] - 0s 12ms/step - loss: 0.2063 - accuracy: 0.9585 - val_loss: 1.5935 - val_accuracy: 0.5600\n",
      "Epoch 111/200\n",
      "7/7 [==============================] - 0s 9ms/step - loss: 0.2198 - accuracy: 0.9401 - val_loss: 1.5951 - val_accuracy: 0.5600\n",
      "Epoch 112/200\n",
      "7/7 [==============================] - 0s 14ms/step - loss: 0.1961 - accuracy: 0.9631 - val_loss: 1.6137 - val_accuracy: 0.6000\n",
      "Epoch 113/200\n",
      "7/7 [==============================] - 0s 15ms/step - loss: 0.1766 - accuracy: 0.9770 - val_loss: 1.6213 - val_accuracy: 0.6000\n",
      "Epoch 114/200\n",
      "7/7 [==============================] - 0s 15ms/step - loss: 0.2043 - accuracy: 0.9355 - val_loss: 1.6329 - val_accuracy: 0.5600\n",
      "Epoch 115/200\n",
      "7/7 [==============================] - 0s 11ms/step - loss: 0.1865 - accuracy: 0.9493 - val_loss: 1.6320 - val_accuracy: 0.5600\n",
      "Epoch 116/200\n",
      "7/7 [==============================] - 0s 15ms/step - loss: 0.1870 - accuracy: 0.9631 - val_loss: 1.6378 - val_accuracy: 0.5600\n",
      "Epoch 117/200\n",
      "7/7 [==============================] - 0s 11ms/step - loss: 0.2226 - accuracy: 0.9447 - val_loss: 1.6373 - val_accuracy: 0.5200\n",
      "Epoch 118/200\n",
      "7/7 [==============================] - 0s 23ms/step - loss: 0.1982 - accuracy: 0.9447 - val_loss: 1.6174 - val_accuracy: 0.5600\n",
      "Epoch 119/200\n",
      "7/7 [==============================] - 0s 12ms/step - loss: 0.1951 - accuracy: 0.9401 - val_loss: 1.6053 - val_accuracy: 0.6000\n",
      "Epoch 120/200\n",
      "7/7 [==============================] - 0s 9ms/step - loss: 0.1801 - accuracy: 0.9585 - val_loss: 1.6136 - val_accuracy: 0.6000\n",
      "Epoch 121/200\n",
      "7/7 [==============================] - 0s 9ms/step - loss: 0.1798 - accuracy: 0.9631 - val_loss: 1.6397 - val_accuracy: 0.6000\n",
      "Epoch 122/200\n",
      "7/7 [==============================] - 0s 9ms/step - loss: 0.1842 - accuracy: 0.9447 - val_loss: 1.6555 - val_accuracy: 0.5600\n",
      "Epoch 123/200\n",
      "7/7 [==============================] - 0s 9ms/step - loss: 0.1993 - accuracy: 0.9493 - val_loss: 1.6613 - val_accuracy: 0.5600\n",
      "Epoch 124/200\n",
      "7/7 [==============================] - 0s 10ms/step - loss: 0.1711 - accuracy: 0.9724 - val_loss: 1.6732 - val_accuracy: 0.6000\n",
      "Epoch 125/200\n",
      "7/7 [==============================] - 0s 11ms/step - loss: 0.1810 - accuracy: 0.9585 - val_loss: 1.6752 - val_accuracy: 0.5600\n",
      "Epoch 126/200\n",
      "7/7 [==============================] - 0s 10ms/step - loss: 0.1678 - accuracy: 0.9631 - val_loss: 1.6752 - val_accuracy: 0.5600\n",
      "Epoch 127/200\n",
      "7/7 [==============================] - 0s 10ms/step - loss: 0.1714 - accuracy: 0.9631 - val_loss: 1.7015 - val_accuracy: 0.5600\n",
      "Epoch 128/200\n",
      "7/7 [==============================] - 0s 10ms/step - loss: 0.1787 - accuracy: 0.9539 - val_loss: 1.7004 - val_accuracy: 0.5600\n",
      "Epoch 129/200\n",
      "7/7 [==============================] - 0s 13ms/step - loss: 0.1728 - accuracy: 0.9539 - val_loss: 1.6866 - val_accuracy: 0.5600\n",
      "Epoch 130/200\n",
      "7/7 [==============================] - 0s 9ms/step - loss: 0.1995 - accuracy: 0.9447 - val_loss: 1.6874 - val_accuracy: 0.5600\n",
      "Epoch 131/200\n",
      "7/7 [==============================] - 0s 10ms/step - loss: 0.1669 - accuracy: 0.9493 - val_loss: 1.6834 - val_accuracy: 0.5600\n",
      "Epoch 132/200\n",
      "7/7 [==============================] - 0s 9ms/step - loss: 0.1710 - accuracy: 0.9447 - val_loss: 1.6950 - val_accuracy: 0.5600\n",
      "Epoch 133/200\n",
      "7/7 [==============================] - 0s 9ms/step - loss: 0.1549 - accuracy: 0.9677 - val_loss: 1.6982 - val_accuracy: 0.6000\n",
      "Epoch 134/200\n",
      "7/7 [==============================] - 0s 13ms/step - loss: 0.1654 - accuracy: 0.9677 - val_loss: 1.6942 - val_accuracy: 0.6000\n",
      "Epoch 135/200\n",
      "7/7 [==============================] - 0s 10ms/step - loss: 0.1733 - accuracy: 0.9493 - val_loss: 1.6934 - val_accuracy: 0.6000\n",
      "Epoch 136/200\n",
      "7/7 [==============================] - 0s 9ms/step - loss: 0.1729 - accuracy: 0.9539 - val_loss: 1.7031 - val_accuracy: 0.6000\n",
      "Epoch 137/200\n",
      "7/7 [==============================] - 0s 9ms/step - loss: 0.1839 - accuracy: 0.9539 - val_loss: 1.7278 - val_accuracy: 0.5600\n",
      "Epoch 138/200\n",
      "7/7 [==============================] - 0s 9ms/step - loss: 0.1440 - accuracy: 0.9585 - val_loss: 1.7225 - val_accuracy: 0.5600\n",
      "Epoch 139/200\n",
      "7/7 [==============================] - 0s 20ms/step - loss: 0.1355 - accuracy: 0.9677 - val_loss: 1.7031 - val_accuracy: 0.5600\n",
      "Epoch 140/200\n",
      "7/7 [==============================] - 0s 11ms/step - loss: 0.1486 - accuracy: 0.9770 - val_loss: 1.7098 - val_accuracy: 0.5600\n",
      "Epoch 141/200\n",
      "7/7 [==============================] - 0s 9ms/step - loss: 0.1474 - accuracy: 0.9539 - val_loss: 1.7430 - val_accuracy: 0.5600\n",
      "Epoch 142/200\n",
      "7/7 [==============================] - 0s 10ms/step - loss: 0.1467 - accuracy: 0.9770 - val_loss: 1.7660 - val_accuracy: 0.5200\n",
      "Epoch 143/200\n",
      "7/7 [==============================] - 0s 9ms/step - loss: 0.1536 - accuracy: 0.9724 - val_loss: 1.7485 - val_accuracy: 0.5200\n",
      "Epoch 144/200\n",
      "7/7 [==============================] - 0s 10ms/step - loss: 0.1512 - accuracy: 0.9631 - val_loss: 1.7323 - val_accuracy: 0.5200\n",
      "Epoch 145/200\n",
      "7/7 [==============================] - 0s 9ms/step - loss: 0.1347 - accuracy: 0.9631 - val_loss: 1.7497 - val_accuracy: 0.5200\n",
      "Epoch 146/200\n",
      "7/7 [==============================] - 0s 9ms/step - loss: 0.1377 - accuracy: 0.9631 - val_loss: 1.7319 - val_accuracy: 0.5600\n",
      "Epoch 147/200\n",
      "7/7 [==============================] - 0s 10ms/step - loss: 0.1637 - accuracy: 0.9677 - val_loss: 1.7566 - val_accuracy: 0.5600\n",
      "Epoch 148/200\n",
      "7/7 [==============================] - 0s 10ms/step - loss: 0.1459 - accuracy: 0.9631 - val_loss: 1.7905 - val_accuracy: 0.5200\n",
      "Epoch 149/200\n",
      "7/7 [==============================] - 0s 9ms/step - loss: 0.1356 - accuracy: 0.9724 - val_loss: 1.7816 - val_accuracy: 0.5600\n",
      "Epoch 150/200\n",
      "7/7 [==============================] - 0s 9ms/step - loss: 0.1543 - accuracy: 0.9631 - val_loss: 1.7886 - val_accuracy: 0.5600\n",
      "Epoch 151/200\n",
      "7/7 [==============================] - 0s 10ms/step - loss: 0.1267 - accuracy: 0.9724 - val_loss: 1.8122 - val_accuracy: 0.5600\n",
      "Epoch 152/200\n",
      "7/7 [==============================] - 0s 9ms/step - loss: 0.1366 - accuracy: 0.9816 - val_loss: 1.8263 - val_accuracy: 0.5600\n",
      "Epoch 153/200\n",
      "7/7 [==============================] - 0s 9ms/step - loss: 0.1151 - accuracy: 0.9770 - val_loss: 1.7978 - val_accuracy: 0.5600\n",
      "Epoch 154/200\n",
      "7/7 [==============================] - 0s 9ms/step - loss: 0.1266 - accuracy: 0.9724 - val_loss: 1.8007 - val_accuracy: 0.5200\n",
      "Epoch 155/200\n",
      "7/7 [==============================] - 0s 9ms/step - loss: 0.1170 - accuracy: 0.9816 - val_loss: 1.8212 - val_accuracy: 0.5200\n",
      "Epoch 156/200\n",
      "7/7 [==============================] - 0s 9ms/step - loss: 0.1526 - accuracy: 0.9493 - val_loss: 1.8402 - val_accuracy: 0.5200\n",
      "Epoch 157/200\n",
      "7/7 [==============================] - 0s 11ms/step - loss: 0.0994 - accuracy: 0.9908 - val_loss: 1.8367 - val_accuracy: 0.4800\n",
      "Epoch 158/200\n",
      "7/7 [==============================] - 0s 31ms/step - loss: 0.1333 - accuracy: 0.9631 - val_loss: 1.8390 - val_accuracy: 0.5200\n",
      "Epoch 159/200\n",
      "7/7 [==============================] - 0s 10ms/step - loss: 0.1266 - accuracy: 0.9631 - val_loss: 1.8661 - val_accuracy: 0.5200\n",
      "Epoch 160/200\n",
      "7/7 [==============================] - 0s 10ms/step - loss: 0.1457 - accuracy: 0.9585 - val_loss: 1.9003 - val_accuracy: 0.5200\n",
      "Epoch 161/200\n",
      "7/7 [==============================] - 0s 10ms/step - loss: 0.1240 - accuracy: 0.9677 - val_loss: 1.8758 - val_accuracy: 0.5200\n",
      "Epoch 162/200\n",
      "7/7 [==============================] - 0s 9ms/step - loss: 0.1112 - accuracy: 0.9816 - val_loss: 1.8637 - val_accuracy: 0.5200\n",
      "Epoch 163/200\n",
      "7/7 [==============================] - 0s 10ms/step - loss: 0.1106 - accuracy: 0.9816 - val_loss: 1.8654 - val_accuracy: 0.5200\n",
      "Epoch 164/200\n",
      "7/7 [==============================] - 0s 9ms/step - loss: 0.1226 - accuracy: 0.9770 - val_loss: 1.8647 - val_accuracy: 0.5600\n",
      "Epoch 165/200\n",
      "7/7 [==============================] - 0s 9ms/step - loss: 0.1054 - accuracy: 0.9816 - val_loss: 1.8897 - val_accuracy: 0.5200\n",
      "Epoch 166/200\n",
      "7/7 [==============================] - 0s 11ms/step - loss: 0.1163 - accuracy: 0.9631 - val_loss: 1.8929 - val_accuracy: 0.5200\n",
      "Epoch 167/200\n",
      "7/7 [==============================] - 0s 10ms/step - loss: 0.1199 - accuracy: 0.9724 - val_loss: 1.8991 - val_accuracy: 0.5200\n",
      "Epoch 168/200\n",
      "7/7 [==============================] - 0s 10ms/step - loss: 0.1063 - accuracy: 0.9770 - val_loss: 1.9201 - val_accuracy: 0.5200\n",
      "Epoch 169/200\n",
      "7/7 [==============================] - 0s 9ms/step - loss: 0.1073 - accuracy: 0.9816 - val_loss: 1.9403 - val_accuracy: 0.5200\n",
      "Epoch 170/200\n",
      "7/7 [==============================] - 0s 9ms/step - loss: 0.1167 - accuracy: 0.9677 - val_loss: 1.9676 - val_accuracy: 0.5200\n",
      "Epoch 171/200\n",
      "7/7 [==============================] - 0s 9ms/step - loss: 0.1108 - accuracy: 0.9770 - val_loss: 1.9612 - val_accuracy: 0.5200\n",
      "Epoch 172/200\n",
      "7/7 [==============================] - 0s 9ms/step - loss: 0.1139 - accuracy: 0.9724 - val_loss: 1.9528 - val_accuracy: 0.5200\n",
      "Epoch 173/200\n",
      "7/7 [==============================] - 0s 10ms/step - loss: 0.0990 - accuracy: 0.9724 - val_loss: 1.9684 - val_accuracy: 0.5200\n",
      "Epoch 174/200\n",
      "7/7 [==============================] - 0s 10ms/step - loss: 0.1197 - accuracy: 0.9631 - val_loss: 1.9421 - val_accuracy: 0.5200\n",
      "Epoch 175/200\n",
      "7/7 [==============================] - 0s 10ms/step - loss: 0.0996 - accuracy: 0.9770 - val_loss: 1.9218 - val_accuracy: 0.4800\n",
      "Epoch 176/200\n",
      "7/7 [==============================] - 0s 22ms/step - loss: 0.0917 - accuracy: 0.9816 - val_loss: 1.9350 - val_accuracy: 0.5200\n",
      "Epoch 177/200\n",
      "7/7 [==============================] - 0s 12ms/step - loss: 0.1022 - accuracy: 0.9816 - val_loss: 1.9885 - val_accuracy: 0.5200\n",
      "Epoch 178/200\n",
      "7/7 [==============================] - 0s 9ms/step - loss: 0.1057 - accuracy: 0.9816 - val_loss: 2.0026 - val_accuracy: 0.5200\n",
      "Epoch 179/200\n",
      "7/7 [==============================] - 0s 9ms/step - loss: 0.1084 - accuracy: 0.9816 - val_loss: 2.0521 - val_accuracy: 0.5200\n",
      "Epoch 180/200\n",
      "7/7 [==============================] - 0s 10ms/step - loss: 0.0948 - accuracy: 0.9862 - val_loss: 2.0589 - val_accuracy: 0.5200\n",
      "Epoch 181/200\n",
      "7/7 [==============================] - 0s 9ms/step - loss: 0.1009 - accuracy: 0.9770 - val_loss: 2.0038 - val_accuracy: 0.5200\n",
      "Epoch 182/200\n",
      "7/7 [==============================] - 0s 9ms/step - loss: 0.0942 - accuracy: 1.0000 - val_loss: 2.0119 - val_accuracy: 0.4800\n",
      "Epoch 183/200\n",
      "7/7 [==============================] - 0s 15ms/step - loss: 0.1126 - accuracy: 0.9677 - val_loss: 2.0415 - val_accuracy: 0.4800\n",
      "Epoch 184/200\n",
      "7/7 [==============================] - 0s 10ms/step - loss: 0.0862 - accuracy: 0.9862 - val_loss: 2.0404 - val_accuracy: 0.4800\n",
      "Epoch 185/200\n",
      "7/7 [==============================] - 0s 9ms/step - loss: 0.1006 - accuracy: 0.9770 - val_loss: 2.0098 - val_accuracy: 0.5200\n",
      "Epoch 186/200\n",
      "7/7 [==============================] - 0s 9ms/step - loss: 0.1154 - accuracy: 0.9677 - val_loss: 2.0182 - val_accuracy: 0.5600\n",
      "Epoch 187/200\n",
      "7/7 [==============================] - 0s 11ms/step - loss: 0.1055 - accuracy: 0.9770 - val_loss: 2.0144 - val_accuracy: 0.5200\n",
      "Epoch 188/200\n",
      "7/7 [==============================] - 0s 11ms/step - loss: 0.0938 - accuracy: 0.9724 - val_loss: 2.0591 - val_accuracy: 0.5600\n",
      "Epoch 189/200\n",
      "7/7 [==============================] - 0s 10ms/step - loss: 0.0888 - accuracy: 0.9862 - val_loss: 2.0678 - val_accuracy: 0.5600\n",
      "Epoch 190/200\n",
      "7/7 [==============================] - 0s 9ms/step - loss: 0.1066 - accuracy: 0.9724 - val_loss: 2.0378 - val_accuracy: 0.4800\n",
      "Epoch 191/200\n",
      "7/7 [==============================] - 0s 9ms/step - loss: 0.0789 - accuracy: 0.9908 - val_loss: 2.0277 - val_accuracy: 0.5200\n",
      "Epoch 192/200\n",
      "7/7 [==============================] - 0s 9ms/step - loss: 0.0920 - accuracy: 0.9862 - val_loss: 2.0526 - val_accuracy: 0.5200\n",
      "Epoch 193/200\n",
      "7/7 [==============================] - 0s 9ms/step - loss: 0.0784 - accuracy: 0.9862 - val_loss: 2.0516 - val_accuracy: 0.5600\n",
      "Epoch 194/200\n",
      "7/7 [==============================] - 0s 10ms/step - loss: 0.0801 - accuracy: 0.9862 - val_loss: 2.0533 - val_accuracy: 0.5600\n",
      "Epoch 195/200\n",
      "7/7 [==============================] - 0s 23ms/step - loss: 0.0903 - accuracy: 0.9816 - val_loss: 2.0528 - val_accuracy: 0.6400\n",
      "Epoch 196/200\n",
      "7/7 [==============================] - 0s 11ms/step - loss: 0.0789 - accuracy: 0.9908 - val_loss: 2.0498 - val_accuracy: 0.6000\n",
      "Epoch 197/200\n",
      "7/7 [==============================] - 0s 10ms/step - loss: 0.1058 - accuracy: 0.9724 - val_loss: 2.0334 - val_accuracy: 0.5600\n",
      "Epoch 198/200\n",
      "7/7 [==============================] - 0s 9ms/step - loss: 0.1036 - accuracy: 0.9770 - val_loss: 2.0573 - val_accuracy: 0.5600\n",
      "Epoch 199/200\n",
      "7/7 [==============================] - 0s 13ms/step - loss: 0.0796 - accuracy: 1.0000 - val_loss: 2.0882 - val_accuracy: 0.5600\n",
      "Epoch 200/200\n",
      "7/7 [==============================] - 0s 9ms/step - loss: 0.0785 - accuracy: 0.9954 - val_loss: 2.0864 - val_accuracy: 0.6000\n"
     ]
    }
   ],
   "source": [
    "# Train the model\n",
    "history = model.fit(X_train, y_train, epochs=200, batch_size=32, validation_split=0.1)"
   ]
  },
  {
   "cell_type": "code",
   "execution_count": 28,
   "metadata": {
    "id": "YGeBh8UVvIXG"
   },
   "outputs": [
    {
     "data": {
      "image/png": "[encoded data removed]",
      "text/plain": [
       "<Figure size 432x288 with 1 Axes>"
      ]
     },
     "metadata": {
      "needs_background": "light"
     },
     "output_type": "display_data"
    },
    {
     "data": {
      "image/png": "[encoded data removed]",
      "text/plain": [
       "<Figure size 432x288 with 1 Axes>"
      ]
     },
     "metadata": {
      "needs_background": "light"
     },
     "output_type": "display_data"
    }
   ],
   "source": [
    "import matplotlib.pyplot as plt\n",
    "\n",
    "accuracy = history.history['accuracy']\n",
    "loss = history.history['loss']\n",
    "val_accuracy = history.history['val_accuracy']\n",
    "val_loss = history.history['val_loss']\n",
    "\n",
    "epochs = range(1, len(accuracy) + 1)\n",
    "\n",
    "plt.plot(epochs[0:], accuracy[0:], 'bo', label='Training accuracy')\n",
    "plt.plot(epochs[0:], val_accuracy[0:], 'b', label='Validation accuracy')\n",
    "plt.title('Training and validation accuracyuracy')\n",
    "plt.xlabel('Epochs')\n",
    "plt.ylabel('accuracyuracy')\n",
    "plt.margins(0.05)\n",
    "\n",
    "plt.figure()\n",
    "\n",
    "plt.plot(epochs[0:], loss[0:], 'bo', label='Training loss')\n",
    "plt.plot(epochs[0:], val_loss[0:], 'b', label='Validation loss')\n",
    "plt.title('Training and validation loss')\n",
    "plt.xlabel('Epochs')\n",
    "plt.ylabel('Loss')\n",
    "plt.margins(0.05)\n",
    "\n",
    "plt.show()"
   ]
  },
  {
   "cell_type": "markdown",
   "metadata": {
    "id": "hyMYjRSRFjTp"
   },
   "source": [
    "In the above line of code involves plotting the training and validation accuracy and loss metrics of a model during the training process using matplotlib.pyplot library. The accuracy and loss values are obtained from the model history. The epochs are defined and used as the x-axis of the plots. Finally, the plots are displayed using the show() function."
   ]
  },
  {
   "cell_type": "code",
   "execution_count": 29,
   "metadata": {
    "colab": {
     "base_uri": "https://localhost:8080/"
    },
    "id": "zJsb5BJWvIXH",
    "outputId": "05773404-4a62-416d-a1f0-8f6e03f232e3"
   },
   "outputs": [
    {
     "name": "stdout",
     "output_type": "stream",
     "text": [
      "8/8 - 0s - loss: 0.2547 - accuracy: 0.9587 - 53ms/epoch - 7ms/step\n",
      "Train accuracy: 0.9586777091026306\n"
     ]
    }
   ],
   "source": [
    "# Evaluate the model\n",
    "train_loss, train_acc = model.evaluate(X_train, y_train, verbose=2)\n",
    "print('Train accuracy:', train_acc)\n"
   ]
  },
  {
   "cell_type": "code",
   "execution_count": 30,
   "metadata": {
    "colab": {
     "base_uri": "https://localhost:8080/"
    },
    "id": "-CsYoYxPvIXH",
    "outputId": "d1a333e9-adfb-4530-a3fe-2357558c72f3",
    "scrolled": true
   },
   "outputs": [
    {
     "name": "stdout",
     "output_type": "stream",
     "text": [
      "2/2 - 0s - loss: 2.7719 - accuracy: 0.4590 - 41ms/epoch - 20ms/step\n",
      "Test accuracy: 0.4590163826942444\n"
     ]
    }
   ],
   "source": [
    "# Evaluate the model\n",
    "test_loss, test_acc = model.evaluate(X_test, y_test, verbose=2)\n",
    "print('Test accuracy:', test_acc)\n"
   ]
  },
  {
   "cell_type": "code",
   "execution_count": 31,
   "metadata": {
    "id": "1OqKGcU7vIXH"
   },
   "outputs": [
    {
     "name": "stdout",
     "output_type": "stream",
     "text": [
      "2/2 [==============================] - 0s 3ms/step\n",
      "Confusion Matrix:\n"
     ]
    },
    {
     "data": {
      "text/html": [
       "<div>\n",
       "<style scoped>\n",
       "    .dataframe tbody tr th:only-of-type {\n",
       "        vertical-align: middle;\n",
       "    }\n",
       "\n",
       "    .dataframe tbody tr th {\n",
       "        vertical-align: top;\n",
       "    }\n",
       "\n",
       "    .dataframe thead th {\n",
       "        text-align: right;\n",
       "    }\n",
       "</style>\n",
       "<table border=\"1\" class=\"dataframe\">\n",
       "  <thead>\n",
       "    <tr style=\"text-align: right;\">\n",
       "      <th></th>\n",
       "      <th>0</th>\n",
       "      <th>1</th>\n",
       "      <th>2</th>\n",
       "      <th>3</th>\n",
       "      <th>4</th>\n",
       "    </tr>\n",
       "  </thead>\n",
       "  <tbody>\n",
       "    <tr>\n",
       "      <th>0</th>\n",
       "      <td>24</td>\n",
       "      <td>3</td>\n",
       "      <td>1</td>\n",
       "      <td>1</td>\n",
       "      <td>0</td>\n",
       "    </tr>\n",
       "    <tr>\n",
       "      <th>1</th>\n",
       "      <td>4</td>\n",
       "      <td>1</td>\n",
       "      <td>5</td>\n",
       "      <td>2</td>\n",
       "      <td>0</td>\n",
       "    </tr>\n",
       "    <tr>\n",
       "      <th>2</th>\n",
       "      <td>3</td>\n",
       "      <td>1</td>\n",
       "      <td>2</td>\n",
       "      <td>3</td>\n",
       "      <td>0</td>\n",
       "    </tr>\n",
       "    <tr>\n",
       "      <th>3</th>\n",
       "      <td>0</td>\n",
       "      <td>5</td>\n",
       "      <td>1</td>\n",
       "      <td>1</td>\n",
       "      <td>0</td>\n",
       "    </tr>\n",
       "    <tr>\n",
       "      <th>4</th>\n",
       "      <td>0</td>\n",
       "      <td>1</td>\n",
       "      <td>1</td>\n",
       "      <td>2</td>\n",
       "      <td>0</td>\n",
       "    </tr>\n",
       "  </tbody>\n",
       "</table>\n",
       "</div>"
      ],
      "text/plain": [
       "    0  1  2  3  4\n",
       "0  24  3  1  1  0\n",
       "1   4  1  5  2  0\n",
       "2   3  1  2  3  0\n",
       "3   0  5  1  1  0\n",
       "4   0  1  1  2  0"
      ]
     },
     "execution_count": 31,
     "metadata": {},
     "output_type": "execute_result"
    }
   ],
   "source": [
    "from sklearn.metrics import confusion_matrix\n",
    "# Confusion Matrix\n",
    "y_pred = model.predict(X_test)\n",
    "y_pred_classes = np.argmax(y_pred, axis=1)\n",
    "cm = confusion_matrix(y_test, y_pred_classes)\n",
    "print('Confusion Matrix:')\n",
    "pd.DataFrame(cm)"
   ]
  },
  {
   "cell_type": "markdown",
   "metadata": {
    "id": "IrrfEzKhF7KT"
   },
   "source": [
    "This code calculates and displays a confusion matrix, which is used to evaluate the performance of a classification model. The predictions made by the model are compared to the actual class labels and the resulting matrix shows the number of true/false positives/negatives."
   ]
  },
  {
   "cell_type": "markdown",
   "metadata": {
    "id": "EXPCP7eX7TSX"
   },
   "source": [
    "## Step 5: Regularize the Model and Tune the Hyperparameters\n",
    "\n",
    "This code performs hyperparameter tuning using grid search with cross-validation to find the best combination of hyperparameters for a Keras Sequential model. It also include L2 regularization that help to cater overfitting issue. Overall, this code is an important step in the machine learning workflow that helps to optimize the model's hyperparameters for better performance."
   ]
  },
  {
   "cell_type": "code",
   "execution_count": 33,
   "metadata": {
    "id": "Ld-hhYrCvIXI"
   },
   "outputs": [
    {
     "name": "stderr",
     "output_type": "stream",
     "text": [
      "C:\\Users\\DELL\\AppData\\Local\\Temp\\ipykernel_19004\\2632952920.py:34: DeprecationWarning: KerasClassifier is deprecated, use Sci-Keras (https://github.com/adriangb/scikeras) instead. See https://www.adriangb.com/scikeras/stable/migration.html for help migrating.\n",
      "  model = KerasClassifier(build_fn=create_model, epochs=200, batch_size=32, verbose=0)\n"
     ]
    },
    {
     "name": "stdout",
     "output_type": "stream",
     "text": [
      "Best parameters: {'dropout_rate': 0.4, 'learning_rate': 0.0001, 'units': 64}\n",
      "Best accuracy: 0.6074829995632172\n"
     ]
    }
   ],
   "source": [
    "from tensorflow.keras.layers import Dropout\n",
    "from keras import regularizers\n",
    "from keras.models import Sequential\n",
    "from keras.layers import Dense\n",
    "from keras.wrappers.scikit_learn import KerasClassifier\n",
    "from sklearn.model_selection import GridSearchCV\n",
    "\n",
    "# Define the model creation function with hyperparameters\n",
    "def create_model(units=64, learning_rate=0.01, dropout_rate=0.3):\n",
    "    model = Sequential([\n",
    "        Dense(units, activation='relu', input_shape=(X_train.shape[1],), kernel_regularizer=regularizers.l2(0.001)),\n",
    "        Dropout(dropout_rate),\n",
    "        Dense(units, activation='relu', kernel_regularizer=regularizers.l2(0.001)),\n",
    "        Dropout(dropout_rate),\n",
    "        Dense(classes_n, activation='softmax')\n",
    "    ])\n",
    "    optimizer = tf.keras.optimizers.Adam(learning_rate=learning_rate)\n",
    "    model.compile(optimizer=optimizer,\n",
    "                  loss='sparse_categorical_crossentropy',\n",
    "                  metrics=['accuracy'])\n",
    "    return model\n",
    "\n",
    "\n",
    "#- Fit the model on the training dataset with 100 epochs, batch size of 32, and a validation split of 0.1.\n",
    "\n",
    "# Define the hyperparameters to search\n",
    "param_grid = {\n",
    "    'units': [32, 64, 128],\n",
    "    'learning_rate': [0.01, 0.001, 0.0001],\n",
    "    'dropout_rate': [0.3, 0.4, 0.5]\n",
    "}\n",
    "\n",
    "# Create a KerasClassifier wrapper for use in scikit-learn\n",
    "model = KerasClassifier(build_fn=create_model, epochs=200, batch_size=32, verbose=0)\n",
    "\n",
    "# Perform grid search with cross-validation\n",
    "grid = GridSearchCV(estimator=model, param_grid=param_grid, cv=5)\n",
    "grid_result = grid.fit(X_train, y_train)\n",
    "\n",
    "# Print the best hyperparameters and accuracy\n",
    "print(f'Best parameters: {grid_result.best_params_}')\n",
    "print(f'Best accuracy: {grid_result.best_score_}')"
   ]
  },
  {
   "cell_type": "markdown",
   "metadata": {
    "id": "6zYBSfAjGeSy"
   },
   "source": [
    "This code implements a grid search with cross-validation to find the best hyperparameters for a neural network model. The model is defined with a function that creates a sequential model with hyperparameters such as units, learning rate, and dropout rate. A KerasClassifier wrapper is created for use in scikit-learn and the GridSearchCV function is called with the hyperparameters to search. The best hyperparameters and accuracy are then printed. The model is fit on the training dataset with 200 epochs, batch size of 32, and a validation split of 0.1."
   ]
  },
  {
   "cell_type": "code",
   "execution_count": 34,
   "metadata": {
    "id": "ulrYow64vIXI"
   },
   "outputs": [
    {
     "name": "stdout",
     "output_type": "stream",
     "text": [
      "Epoch 1/200\n",
      "7/7 [==============================] - 1s 42ms/step - loss: 1.9421 - accuracy: 0.1613 - val_loss: 1.7243 - val_accuracy: 0.2400\n",
      "Epoch 2/200\n",
      "7/7 [==============================] - 0s 10ms/step - loss: 1.9288 - accuracy: 0.1521 - val_loss: 1.7015 - val_accuracy: 0.2400\n",
      "Epoch 3/200\n",
      "7/7 [==============================] - 0s 12ms/step - loss: 1.9142 - accuracy: 0.1751 - val_loss: 1.6798 - val_accuracy: 0.2800\n",
      "Epoch 4/200\n",
      "7/7 [==============================] - 0s 11ms/step - loss: 1.8522 - accuracy: 0.1751 - val_loss: 1.6590 - val_accuracy: 0.2800\n",
      "Epoch 5/200\n",
      "7/7 [==============================] - 0s 12ms/step - loss: 1.8263 - accuracy: 0.1613 - val_loss: 1.6388 - val_accuracy: 0.3600\n",
      "Epoch 6/200\n",
      "7/7 [==============================] - 0s 12ms/step - loss: 1.8009 - accuracy: 0.2074 - val_loss: 1.6195 - val_accuracy: 0.3600\n",
      "Epoch 7/200\n",
      "7/7 [==============================] - 0s 11ms/step - loss: 1.8113 - accuracy: 0.1751 - val_loss: 1.6000 - val_accuracy: 0.4000\n",
      "Epoch 8/200\n",
      "7/7 [==============================] - 0s 16ms/step - loss: 1.7715 - accuracy: 0.1797 - val_loss: 1.5812 - val_accuracy: 0.4400\n",
      "Epoch 9/200\n",
      "7/7 [==============================] - 0s 10ms/step - loss: 1.7244 - accuracy: 0.1751 - val_loss: 1.5626 - val_accuracy: 0.4000\n",
      "Epoch 10/200\n",
      "7/7 [==============================] - 0s 11ms/step - loss: 1.8124 - accuracy: 0.1751 - val_loss: 1.5443 - val_accuracy: 0.4000\n",
      "Epoch 11/200\n",
      "7/7 [==============================] - 0s 13ms/step - loss: 1.7439 - accuracy: 0.2442 - val_loss: 1.5259 - val_accuracy: 0.4800\n",
      "Epoch 12/200\n",
      "7/7 [==============================] - 0s 22ms/step - loss: 1.6768 - accuracy: 0.2719 - val_loss: 1.5086 - val_accuracy: 0.4800\n",
      "Epoch 13/200\n",
      "7/7 [==============================] - 0s 14ms/step - loss: 1.6606 - accuracy: 0.2581 - val_loss: 1.4912 - val_accuracy: 0.4800\n",
      "Epoch 14/200\n",
      "7/7 [==============================] - 0s 11ms/step - loss: 1.6466 - accuracy: 0.2673 - val_loss: 1.4738 - val_accuracy: 0.5200\n",
      "Epoch 15/200\n",
      "7/7 [==============================] - 0s 13ms/step - loss: 1.6452 - accuracy: 0.2765 - val_loss: 1.4574 - val_accuracy: 0.5200\n",
      "Epoch 16/200\n",
      "7/7 [==============================] - 0s 11ms/step - loss: 1.6320 - accuracy: 0.3041 - val_loss: 1.4416 - val_accuracy: 0.6000\n",
      "Epoch 17/200\n",
      "7/7 [==============================] - 0s 11ms/step - loss: 1.6183 - accuracy: 0.2719 - val_loss: 1.4259 - val_accuracy: 0.6000\n",
      "Epoch 18/200\n",
      "7/7 [==============================] - 0s 13ms/step - loss: 1.5970 - accuracy: 0.3226 - val_loss: 1.4113 - val_accuracy: 0.6400\n",
      "Epoch 19/200\n",
      "7/7 [==============================] - 0s 17ms/step - loss: 1.5821 - accuracy: 0.3180 - val_loss: 1.3971 - val_accuracy: 0.6400\n",
      "Epoch 20/200\n",
      "7/7 [==============================] - 0s 13ms/step - loss: 1.5694 - accuracy: 0.3180 - val_loss: 1.3830 - val_accuracy: 0.6800\n",
      "Epoch 21/200\n",
      "7/7 [==============================] - 0s 11ms/step - loss: 1.5653 - accuracy: 0.3410 - val_loss: 1.3690 - val_accuracy: 0.7200\n",
      "Epoch 22/200\n",
      "7/7 [==============================] - 0s 10ms/step - loss: 1.5355 - accuracy: 0.3687 - val_loss: 1.3553 - val_accuracy: 0.7200\n",
      "Epoch 23/200\n",
      "7/7 [==============================] - 0s 10ms/step - loss: 1.5338 - accuracy: 0.3548 - val_loss: 1.3427 - val_accuracy: 0.7600\n",
      "Epoch 24/200\n",
      "7/7 [==============================] - 0s 13ms/step - loss: 1.5397 - accuracy: 0.3779 - val_loss: 1.3308 - val_accuracy: 0.7600\n",
      "Epoch 25/200\n",
      "7/7 [==============================] - 0s 12ms/step - loss: 1.5245 - accuracy: 0.4101 - val_loss: 1.3182 - val_accuracy: 0.7600\n",
      "Epoch 26/200\n",
      "7/7 [==============================] - 0s 14ms/step - loss: 1.5154 - accuracy: 0.3917 - val_loss: 1.3057 - val_accuracy: 0.7600\n",
      "Epoch 27/200\n",
      "7/7 [==============================] - 0s 10ms/step - loss: 1.4762 - accuracy: 0.4286 - val_loss: 1.2938 - val_accuracy: 0.7600\n",
      "Epoch 28/200\n",
      "7/7 [==============================] - 0s 12ms/step - loss: 1.4784 - accuracy: 0.4009 - val_loss: 1.2826 - val_accuracy: 0.7200\n",
      "Epoch 29/200\n",
      "7/7 [==============================] - 0s 10ms/step - loss: 1.4222 - accuracy: 0.4931 - val_loss: 1.2712 - val_accuracy: 0.7200\n",
      "Epoch 30/200\n",
      "7/7 [==============================] - 0s 10ms/step - loss: 1.4870 - accuracy: 0.4332 - val_loss: 1.2602 - val_accuracy: 0.7200\n",
      "Epoch 31/200\n",
      "7/7 [==============================] - 0s 12ms/step - loss: 1.4593 - accuracy: 0.4378 - val_loss: 1.2494 - val_accuracy: 0.7200\n",
      "Epoch 32/200\n",
      "7/7 [==============================] - 0s 13ms/step - loss: 1.4323 - accuracy: 0.4608 - val_loss: 1.2391 - val_accuracy: 0.7600\n",
      "Epoch 33/200\n",
      "7/7 [==============================] - 0s 11ms/step - loss: 1.3957 - accuracy: 0.5161 - val_loss: 1.2297 - val_accuracy: 0.7600\n",
      "Epoch 34/200\n",
      "7/7 [==============================] - 0s 10ms/step - loss: 1.4036 - accuracy: 0.4885 - val_loss: 1.2201 - val_accuracy: 0.7600\n",
      "Epoch 35/200\n",
      "7/7 [==============================] - 0s 10ms/step - loss: 1.4420 - accuracy: 0.4793 - val_loss: 1.2111 - val_accuracy: 0.7600\n",
      "Epoch 36/200\n",
      "7/7 [==============================] - 0s 10ms/step - loss: 1.3958 - accuracy: 0.5069 - val_loss: 1.2019 - val_accuracy: 0.7200\n",
      "Epoch 37/200\n",
      "7/7 [==============================] - 0s 12ms/step - loss: 1.3927 - accuracy: 0.4839 - val_loss: 1.1936 - val_accuracy: 0.7200\n",
      "Epoch 38/200\n",
      "7/7 [==============================] - 0s 22ms/step - loss: 1.3713 - accuracy: 0.5392 - val_loss: 1.1847 - val_accuracy: 0.7200\n",
      "Epoch 39/200\n",
      "7/7 [==============================] - 0s 10ms/step - loss: 1.3747 - accuracy: 0.5023 - val_loss: 1.1759 - val_accuracy: 0.6800\n",
      "Epoch 40/200\n",
      "7/7 [==============================] - 0s 12ms/step - loss: 1.2929 - accuracy: 0.5668 - val_loss: 1.1671 - val_accuracy: 0.6800\n",
      "Epoch 41/200\n",
      "7/7 [==============================] - 0s 11ms/step - loss: 1.3471 - accuracy: 0.5161 - val_loss: 1.1590 - val_accuracy: 0.6800\n",
      "Epoch 42/200\n",
      "7/7 [==============================] - 0s 11ms/step - loss: 1.3729 - accuracy: 0.5161 - val_loss: 1.1514 - val_accuracy: 0.6800\n",
      "Epoch 43/200\n",
      "7/7 [==============================] - 0s 12ms/step - loss: 1.3514 - accuracy: 0.5484 - val_loss: 1.1444 - val_accuracy: 0.6800\n",
      "Epoch 44/200\n",
      "7/7 [==============================] - 0s 13ms/step - loss: 1.3049 - accuracy: 0.5023 - val_loss: 1.1372 - val_accuracy: 0.6800\n",
      "Epoch 45/200\n",
      "7/7 [==============================] - 0s 11ms/step - loss: 1.3058 - accuracy: 0.5253 - val_loss: 1.1301 - val_accuracy: 0.6800\n",
      "Epoch 46/200\n",
      "7/7 [==============================] - 0s 10ms/step - loss: 1.3303 - accuracy: 0.5714 - val_loss: 1.1233 - val_accuracy: 0.6800\n",
      "Epoch 47/200\n",
      "7/7 [==============================] - 0s 10ms/step - loss: 1.2943 - accuracy: 0.5668 - val_loss: 1.1164 - val_accuracy: 0.6800\n",
      "Epoch 48/200\n",
      "7/7 [==============================] - 0s 12ms/step - loss: 1.2128 - accuracy: 0.5853 - val_loss: 1.1103 - val_accuracy: 0.6800\n",
      "Epoch 49/200\n",
      "7/7 [==============================] - 0s 11ms/step - loss: 1.2647 - accuracy: 0.5438 - val_loss: 1.1044 - val_accuracy: 0.6800\n",
      "Epoch 50/200\n",
      "7/7 [==============================] - 0s 10ms/step - loss: 1.2379 - accuracy: 0.6267 - val_loss: 1.0990 - val_accuracy: 0.6800\n",
      "Epoch 51/200\n",
      "7/7 [==============================] - 0s 10ms/step - loss: 1.2345 - accuracy: 0.5853 - val_loss: 1.0937 - val_accuracy: 0.6800\n",
      "Epoch 52/200\n",
      "7/7 [==============================] - 0s 10ms/step - loss: 1.2639 - accuracy: 0.5714 - val_loss: 1.0884 - val_accuracy: 0.7200\n",
      "Epoch 53/200\n",
      "7/7 [==============================] - 0s 10ms/step - loss: 1.2605 - accuracy: 0.5576 - val_loss: 1.0831 - val_accuracy: 0.7200\n",
      "Epoch 54/200\n",
      "7/7 [==============================] - 0s 10ms/step - loss: 1.2978 - accuracy: 0.5760 - val_loss: 1.0782 - val_accuracy: 0.7200\n",
      "Epoch 55/200\n",
      "7/7 [==============================] - 0s 10ms/step - loss: 1.2662 - accuracy: 0.5253 - val_loss: 1.0738 - val_accuracy: 0.7200\n",
      "Epoch 56/200\n",
      "7/7 [==============================] - 0s 12ms/step - loss: 1.2654 - accuracy: 0.5576 - val_loss: 1.0695 - val_accuracy: 0.7200\n",
      "Epoch 57/200\n",
      "7/7 [==============================] - 0s 12ms/step - loss: 1.2388 - accuracy: 0.5484 - val_loss: 1.0650 - val_accuracy: 0.7200\n",
      "Epoch 58/200\n",
      "7/7 [==============================] - 0s 12ms/step - loss: 1.2209 - accuracy: 0.5530 - val_loss: 1.0606 - val_accuracy: 0.7200\n",
      "Epoch 59/200\n",
      "7/7 [==============================] - 0s 13ms/step - loss: 1.1826 - accuracy: 0.5760 - val_loss: 1.0564 - val_accuracy: 0.7200\n",
      "Epoch 60/200\n",
      "7/7 [==============================] - 0s 14ms/step - loss: 1.1989 - accuracy: 0.5668 - val_loss: 1.0523 - val_accuracy: 0.7200\n",
      "Epoch 61/200\n",
      "7/7 [==============================] - 0s 28ms/step - loss: 1.2259 - accuracy: 0.5714 - val_loss: 1.0485 - val_accuracy: 0.7200\n",
      "Epoch 62/200\n",
      "7/7 [==============================] - 0s 14ms/step - loss: 1.2045 - accuracy: 0.5991 - val_loss: 1.0450 - val_accuracy: 0.7200\n",
      "Epoch 63/200\n",
      "7/7 [==============================] - 0s 9ms/step - loss: 1.2281 - accuracy: 0.5760 - val_loss: 1.0416 - val_accuracy: 0.7200\n",
      "Epoch 64/200\n",
      "7/7 [==============================] - 0s 9ms/step - loss: 1.2006 - accuracy: 0.5806 - val_loss: 1.0387 - val_accuracy: 0.7200\n",
      "Epoch 65/200\n",
      "7/7 [==============================] - 0s 12ms/step - loss: 1.2474 - accuracy: 0.5484 - val_loss: 1.0355 - val_accuracy: 0.7200\n",
      "Epoch 66/200\n",
      "7/7 [==============================] - 0s 12ms/step - loss: 1.1647 - accuracy: 0.5945 - val_loss: 1.0324 - val_accuracy: 0.7200\n",
      "Epoch 67/200\n",
      "7/7 [==============================] - 0s 11ms/step - loss: 1.1825 - accuracy: 0.5853 - val_loss: 1.0293 - val_accuracy: 0.7200\n",
      "Epoch 68/200\n",
      "7/7 [==============================] - 0s 10ms/step - loss: 1.1708 - accuracy: 0.5806 - val_loss: 1.0261 - val_accuracy: 0.7200\n",
      "Epoch 69/200\n",
      "7/7 [==============================] - 0s 10ms/step - loss: 1.1767 - accuracy: 0.5668 - val_loss: 1.0232 - val_accuracy: 0.7200\n",
      "Epoch 70/200\n",
      "7/7 [==============================] - 0s 9ms/step - loss: 1.1815 - accuracy: 0.5576 - val_loss: 1.0206 - val_accuracy: 0.7200\n",
      "Epoch 71/200\n",
      "7/7 [==============================] - 0s 9ms/step - loss: 1.2082 - accuracy: 0.5622 - val_loss: 1.0183 - val_accuracy: 0.7200\n",
      "Epoch 72/200\n",
      "7/7 [==============================] - 0s 9ms/step - loss: 1.1861 - accuracy: 0.5899 - val_loss: 1.0158 - val_accuracy: 0.7200\n",
      "Epoch 73/200\n",
      "7/7 [==============================] - 0s 11ms/step - loss: 1.2065 - accuracy: 0.5714 - val_loss: 1.0133 - val_accuracy: 0.7200\n",
      "Epoch 74/200\n",
      "7/7 [==============================] - 0s 11ms/step - loss: 1.1982 - accuracy: 0.5530 - val_loss: 1.0111 - val_accuracy: 0.7200\n",
      "Epoch 75/200\n",
      "7/7 [==============================] - 0s 10ms/step - loss: 1.2110 - accuracy: 0.5806 - val_loss: 1.0088 - val_accuracy: 0.7200\n",
      "Epoch 76/200\n",
      "7/7 [==============================] - 0s 10ms/step - loss: 1.1745 - accuracy: 0.5991 - val_loss: 1.0062 - val_accuracy: 0.7200\n",
      "Epoch 77/200\n",
      "7/7 [==============================] - 0s 10ms/step - loss: 1.1916 - accuracy: 0.5760 - val_loss: 1.0039 - val_accuracy: 0.7200\n",
      "Epoch 78/200\n",
      "7/7 [==============================] - 0s 10ms/step - loss: 1.1728 - accuracy: 0.5806 - val_loss: 1.0020 - val_accuracy: 0.7200\n",
      "Epoch 79/200\n",
      "7/7 [==============================] - 0s 10ms/step - loss: 1.2052 - accuracy: 0.5622 - val_loss: 1.0000 - val_accuracy: 0.7200\n",
      "Epoch 80/200\n",
      "7/7 [==============================] - 0s 9ms/step - loss: 1.1851 - accuracy: 0.5806 - val_loss: 0.9981 - val_accuracy: 0.7200\n",
      "Epoch 81/200\n",
      "7/7 [==============================] - 0s 11ms/step - loss: 1.1617 - accuracy: 0.5945 - val_loss: 0.9960 - val_accuracy: 0.7200\n",
      "Epoch 82/200\n",
      "7/7 [==============================] - 0s 11ms/step - loss: 1.1326 - accuracy: 0.6037 - val_loss: 0.9942 - val_accuracy: 0.7200\n",
      "Epoch 83/200\n",
      "7/7 [==============================] - 0s 12ms/step - loss: 1.1325 - accuracy: 0.5853 - val_loss: 0.9923 - val_accuracy: 0.7200\n",
      "Epoch 84/200\n",
      "7/7 [==============================] - 0s 17ms/step - loss: 1.1370 - accuracy: 0.6037 - val_loss: 0.9908 - val_accuracy: 0.7200\n",
      "Epoch 85/200\n",
      "7/7 [==============================] - 0s 13ms/step - loss: 1.1366 - accuracy: 0.5991 - val_loss: 0.9892 - val_accuracy: 0.6800\n",
      "Epoch 86/200\n",
      "7/7 [==============================] - 0s 13ms/step - loss: 1.0993 - accuracy: 0.6129 - val_loss: 0.9880 - val_accuracy: 0.6800\n",
      "Epoch 87/200\n",
      "7/7 [==============================] - 0s 24ms/step - loss: 1.1026 - accuracy: 0.5853 - val_loss: 0.9866 - val_accuracy: 0.6800\n",
      "Epoch 88/200\n",
      "7/7 [==============================] - 0s 10ms/step - loss: 1.1724 - accuracy: 0.5991 - val_loss: 0.9853 - val_accuracy: 0.6800\n",
      "Epoch 89/200\n",
      "7/7 [==============================] - 0s 9ms/step - loss: 1.1473 - accuracy: 0.5899 - val_loss: 0.9841 - val_accuracy: 0.6800\n",
      "Epoch 90/200\n",
      "7/7 [==============================] - 0s 10ms/step - loss: 1.1042 - accuracy: 0.5899 - val_loss: 0.9825 - val_accuracy: 0.6800\n",
      "Epoch 91/200\n",
      "7/7 [==============================] - 0s 11ms/step - loss: 1.1477 - accuracy: 0.5760 - val_loss: 0.9810 - val_accuracy: 0.6800\n",
      "Epoch 92/200\n",
      "7/7 [==============================] - 0s 11ms/step - loss: 1.0825 - accuracy: 0.6129 - val_loss: 0.9795 - val_accuracy: 0.6800\n",
      "Epoch 93/200\n",
      "7/7 [==============================] - 0s 12ms/step - loss: 1.1191 - accuracy: 0.5945 - val_loss: 0.9782 - val_accuracy: 0.6800\n",
      "Epoch 94/200\n",
      "7/7 [==============================] - 0s 12ms/step - loss: 1.1820 - accuracy: 0.5853 - val_loss: 0.9768 - val_accuracy: 0.6800\n",
      "Epoch 95/200\n",
      "7/7 [==============================] - 0s 11ms/step - loss: 1.1094 - accuracy: 0.6037 - val_loss: 0.9758 - val_accuracy: 0.6800\n",
      "Epoch 96/200\n",
      "7/7 [==============================] - 0s 10ms/step - loss: 1.1301 - accuracy: 0.5853 - val_loss: 0.9748 - val_accuracy: 0.6800\n",
      "Epoch 97/200\n",
      "7/7 [==============================] - 0s 10ms/step - loss: 1.0902 - accuracy: 0.6037 - val_loss: 0.9734 - val_accuracy: 0.6800\n",
      "Epoch 98/200\n",
      "7/7 [==============================] - 0s 12ms/step - loss: 1.1530 - accuracy: 0.5945 - val_loss: 0.9722 - val_accuracy: 0.6800\n",
      "Epoch 99/200\n",
      "7/7 [==============================] - 0s 11ms/step - loss: 1.0898 - accuracy: 0.6221 - val_loss: 0.9710 - val_accuracy: 0.6800\n",
      "Epoch 100/200\n",
      "7/7 [==============================] - 0s 10ms/step - loss: 1.1096 - accuracy: 0.5853 - val_loss: 0.9700 - val_accuracy: 0.6800\n",
      "Epoch 101/200\n",
      "7/7 [==============================] - 0s 10ms/step - loss: 1.1052 - accuracy: 0.6175 - val_loss: 0.9694 - val_accuracy: 0.6800\n",
      "Epoch 102/200\n",
      "7/7 [==============================] - 0s 10ms/step - loss: 1.1229 - accuracy: 0.5945 - val_loss: 0.9684 - val_accuracy: 0.6800\n",
      "Epoch 103/200\n",
      "7/7 [==============================] - 0s 10ms/step - loss: 1.1354 - accuracy: 0.5899 - val_loss: 0.9674 - val_accuracy: 0.6800\n",
      "Epoch 104/200\n",
      "7/7 [==============================] - 0s 10ms/step - loss: 1.0768 - accuracy: 0.6267 - val_loss: 0.9666 - val_accuracy: 0.6800\n",
      "Epoch 105/200\n",
      "7/7 [==============================] - 0s 10ms/step - loss: 1.1241 - accuracy: 0.5760 - val_loss: 0.9659 - val_accuracy: 0.6800\n",
      "Epoch 106/200\n",
      "7/7 [==============================] - 0s 10ms/step - loss: 1.0961 - accuracy: 0.5991 - val_loss: 0.9651 - val_accuracy: 0.6800\n",
      "Epoch 107/200\n",
      "7/7 [==============================] - 0s 10ms/step - loss: 1.0686 - accuracy: 0.6406 - val_loss: 0.9643 - val_accuracy: 0.6800\n",
      "Epoch 108/200\n",
      "7/7 [==============================] - 0s 10ms/step - loss: 1.0380 - accuracy: 0.6037 - val_loss: 0.9638 - val_accuracy: 0.6800\n",
      "Epoch 109/200\n",
      "7/7 [==============================] - 0s 12ms/step - loss: 1.0816 - accuracy: 0.6037 - val_loss: 0.9631 - val_accuracy: 0.6800\n",
      "Epoch 110/200\n",
      "7/7 [==============================] - 0s 25ms/step - loss: 1.0466 - accuracy: 0.6313 - val_loss: 0.9623 - val_accuracy: 0.6800\n",
      "Epoch 111/200\n",
      "7/7 [==============================] - 0s 15ms/step - loss: 1.0888 - accuracy: 0.5853 - val_loss: 0.9614 - val_accuracy: 0.6800\n",
      "Epoch 112/200\n",
      "7/7 [==============================] - 0s 11ms/step - loss: 1.0980 - accuracy: 0.6083 - val_loss: 0.9608 - val_accuracy: 0.6800\n",
      "Epoch 113/200\n",
      "7/7 [==============================] - 0s 12ms/step - loss: 1.0597 - accuracy: 0.6221 - val_loss: 0.9603 - val_accuracy: 0.6800\n",
      "Epoch 114/200\n",
      "7/7 [==============================] - 0s 12ms/step - loss: 1.0650 - accuracy: 0.6267 - val_loss: 0.9594 - val_accuracy: 0.6800\n",
      "Epoch 115/200\n",
      "7/7 [==============================] - 0s 11ms/step - loss: 1.1004 - accuracy: 0.5991 - val_loss: 0.9589 - val_accuracy: 0.6800\n",
      "Epoch 116/200\n",
      "7/7 [==============================] - 0s 10ms/step - loss: 1.0667 - accuracy: 0.6221 - val_loss: 0.9585 - val_accuracy: 0.6800\n",
      "Epoch 117/200\n",
      "7/7 [==============================] - 0s 9ms/step - loss: 1.1050 - accuracy: 0.5991 - val_loss: 0.9581 - val_accuracy: 0.6800\n",
      "Epoch 118/200\n",
      "7/7 [==============================] - 0s 10ms/step - loss: 1.0607 - accuracy: 0.6221 - val_loss: 0.9577 - val_accuracy: 0.6800\n",
      "Epoch 119/200\n",
      "7/7 [==============================] - 0s 10ms/step - loss: 1.0487 - accuracy: 0.6175 - val_loss: 0.9575 - val_accuracy: 0.6800\n",
      "Epoch 120/200\n",
      "7/7 [==============================] - 0s 10ms/step - loss: 1.0961 - accuracy: 0.6313 - val_loss: 0.9572 - val_accuracy: 0.6800\n",
      "Epoch 121/200\n",
      "7/7 [==============================] - 0s 10ms/step - loss: 1.0379 - accuracy: 0.6175 - val_loss: 0.9567 - val_accuracy: 0.6800\n",
      "Epoch 122/200\n",
      "7/7 [==============================] - 0s 9ms/step - loss: 1.0618 - accuracy: 0.6267 - val_loss: 0.9561 - val_accuracy: 0.6800\n",
      "Epoch 123/200\n",
      "7/7 [==============================] - 0s 9ms/step - loss: 1.0273 - accuracy: 0.6313 - val_loss: 0.9554 - val_accuracy: 0.6800\n",
      "Epoch 124/200\n",
      "7/7 [==============================] - 0s 9ms/step - loss: 1.0544 - accuracy: 0.6037 - val_loss: 0.9549 - val_accuracy: 0.6800\n",
      "Epoch 125/200\n",
      "7/7 [==============================] - 0s 10ms/step - loss: 1.0535 - accuracy: 0.5991 - val_loss: 0.9545 - val_accuracy: 0.6800\n",
      "Epoch 126/200\n",
      "7/7 [==============================] - 0s 12ms/step - loss: 1.0575 - accuracy: 0.6267 - val_loss: 0.9540 - val_accuracy: 0.6800\n",
      "Epoch 127/200\n",
      "7/7 [==============================] - 0s 11ms/step - loss: 1.0458 - accuracy: 0.6590 - val_loss: 0.9534 - val_accuracy: 0.6800\n",
      "Epoch 128/200\n",
      "7/7 [==============================] - 0s 10ms/step - loss: 1.1029 - accuracy: 0.6175 - val_loss: 0.9530 - val_accuracy: 0.6800\n",
      "Epoch 129/200\n",
      "7/7 [==============================] - 0s 9ms/step - loss: 1.0302 - accuracy: 0.6544 - val_loss: 0.9527 - val_accuracy: 0.6800\n",
      "Epoch 130/200\n",
      "7/7 [==============================] - 0s 11ms/step - loss: 1.0996 - accuracy: 0.6221 - val_loss: 0.9522 - val_accuracy: 0.6800\n",
      "Epoch 131/200\n",
      "7/7 [==============================] - 0s 13ms/step - loss: 1.0267 - accuracy: 0.6359 - val_loss: 0.9516 - val_accuracy: 0.6800\n",
      "Epoch 132/200\n",
      "7/7 [==============================] - 0s 24ms/step - loss: 1.0476 - accuracy: 0.6359 - val_loss: 0.9514 - val_accuracy: 0.6800\n",
      "Epoch 133/200\n",
      "7/7 [==============================] - 0s 12ms/step - loss: 1.0280 - accuracy: 0.6221 - val_loss: 0.9514 - val_accuracy: 0.6800\n",
      "Epoch 134/200\n",
      "7/7 [==============================] - 0s 10ms/step - loss: 1.0466 - accuracy: 0.5945 - val_loss: 0.9512 - val_accuracy: 0.6800\n",
      "Epoch 135/200\n",
      "7/7 [==============================] - 0s 10ms/step - loss: 1.0841 - accuracy: 0.6175 - val_loss: 0.9509 - val_accuracy: 0.6800\n",
      "Epoch 136/200\n",
      "7/7 [==============================] - 0s 10ms/step - loss: 1.0611 - accuracy: 0.6129 - val_loss: 0.9505 - val_accuracy: 0.6800\n",
      "Epoch 137/200\n",
      "7/7 [==============================] - 0s 10ms/step - loss: 1.0338 - accuracy: 0.6129 - val_loss: 0.9500 - val_accuracy: 0.6800\n",
      "Epoch 138/200\n",
      "7/7 [==============================] - 0s 10ms/step - loss: 1.0696 - accuracy: 0.5991 - val_loss: 0.9497 - val_accuracy: 0.6800\n",
      "Epoch 139/200\n",
      "7/7 [==============================] - 0s 10ms/step - loss: 1.0280 - accuracy: 0.6498 - val_loss: 0.9491 - val_accuracy: 0.6800\n",
      "Epoch 140/200\n",
      "7/7 [==============================] - 0s 9ms/step - loss: 1.0662 - accuracy: 0.6083 - val_loss: 0.9490 - val_accuracy: 0.6800\n",
      "Epoch 141/200\n",
      "7/7 [==============================] - 0s 9ms/step - loss: 1.0054 - accuracy: 0.6359 - val_loss: 0.9489 - val_accuracy: 0.6800\n",
      "Epoch 142/200\n",
      "7/7 [==============================] - 0s 9ms/step - loss: 1.0722 - accuracy: 0.6083 - val_loss: 0.9485 - val_accuracy: 0.6800\n",
      "Epoch 143/200\n",
      "7/7 [==============================] - 0s 17ms/step - loss: 1.0521 - accuracy: 0.6498 - val_loss: 0.9484 - val_accuracy: 0.6800\n",
      "Epoch 144/200\n",
      "7/7 [==============================] - 0s 10ms/step - loss: 1.0359 - accuracy: 0.5991 - val_loss: 0.9483 - val_accuracy: 0.6800\n",
      "Epoch 145/200\n",
      "7/7 [==============================] - 0s 11ms/step - loss: 1.0160 - accuracy: 0.6221 - val_loss: 0.9478 - val_accuracy: 0.6800\n",
      "Epoch 146/200\n",
      "7/7 [==============================] - 0s 11ms/step - loss: 1.0531 - accuracy: 0.5853 - val_loss: 0.9473 - val_accuracy: 0.6800\n",
      "Epoch 147/200\n",
      "7/7 [==============================] - 0s 12ms/step - loss: 1.0386 - accuracy: 0.6406 - val_loss: 0.9471 - val_accuracy: 0.6800\n",
      "Epoch 148/200\n",
      "7/7 [==============================] - 0s 12ms/step - loss: 1.0373 - accuracy: 0.6037 - val_loss: 0.9466 - val_accuracy: 0.6800\n",
      "Epoch 149/200\n",
      "7/7 [==============================] - 0s 11ms/step - loss: 1.0065 - accuracy: 0.6313 - val_loss: 0.9462 - val_accuracy: 0.6800\n",
      "Epoch 150/200\n",
      "7/7 [==============================] - 0s 9ms/step - loss: 1.0321 - accuracy: 0.6129 - val_loss: 0.9457 - val_accuracy: 0.6800\n",
      "Epoch 151/200\n",
      "7/7 [==============================] - 0s 9ms/step - loss: 0.9880 - accuracy: 0.6267 - val_loss: 0.9449 - val_accuracy: 0.6800\n",
      "Epoch 152/200\n",
      "7/7 [==============================] - 0s 9ms/step - loss: 1.0660 - accuracy: 0.6221 - val_loss: 0.9441 - val_accuracy: 0.6800\n",
      "Epoch 153/200\n",
      "7/7 [==============================] - 0s 10ms/step - loss: 1.0459 - accuracy: 0.6175 - val_loss: 0.9435 - val_accuracy: 0.6800\n",
      "Epoch 154/200\n",
      "7/7 [==============================] - 0s 17ms/step - loss: 1.0199 - accuracy: 0.6452 - val_loss: 0.9431 - val_accuracy: 0.6800\n",
      "Epoch 155/200\n",
      "7/7 [==============================] - 0s 12ms/step - loss: 1.0545 - accuracy: 0.6267 - val_loss: 0.9427 - val_accuracy: 0.6800\n",
      "Epoch 156/200\n",
      "7/7 [==============================] - 0s 11ms/step - loss: 1.0047 - accuracy: 0.6359 - val_loss: 0.9422 - val_accuracy: 0.6800\n",
      "Epoch 157/200\n",
      "7/7 [==============================] - 0s 9ms/step - loss: 1.0586 - accuracy: 0.5945 - val_loss: 0.9418 - val_accuracy: 0.6800\n",
      "Epoch 158/200\n",
      "7/7 [==============================] - 0s 10ms/step - loss: 1.0363 - accuracy: 0.6175 - val_loss: 0.9415 - val_accuracy: 0.6800\n",
      "Epoch 159/200\n",
      "7/7 [==============================] - 0s 9ms/step - loss: 1.0504 - accuracy: 0.6129 - val_loss: 0.9414 - val_accuracy: 0.6800\n",
      "Epoch 160/200\n",
      "7/7 [==============================] - 0s 9ms/step - loss: 1.0175 - accuracy: 0.6682 - val_loss: 0.9412 - val_accuracy: 0.6800\n",
      "Epoch 161/200\n",
      "7/7 [==============================] - 0s 10ms/step - loss: 1.0130 - accuracy: 0.6267 - val_loss: 0.9411 - val_accuracy: 0.6800\n",
      "Epoch 162/200\n",
      "7/7 [==============================] - 0s 9ms/step - loss: 1.0218 - accuracy: 0.6406 - val_loss: 0.9409 - val_accuracy: 0.6800\n",
      "Epoch 163/200\n",
      "7/7 [==============================] - 0s 9ms/step - loss: 1.0387 - accuracy: 0.6037 - val_loss: 0.9407 - val_accuracy: 0.6800\n",
      "Epoch 164/200\n",
      "7/7 [==============================] - 0s 9ms/step - loss: 1.0224 - accuracy: 0.6175 - val_loss: 0.9405 - val_accuracy: 0.6800\n",
      "Epoch 165/200\n",
      "7/7 [==============================] - 0s 11ms/step - loss: 0.9826 - accuracy: 0.6313 - val_loss: 0.9403 - val_accuracy: 0.6800\n",
      "Epoch 166/200\n",
      "7/7 [==============================] - 0s 10ms/step - loss: 0.9920 - accuracy: 0.6313 - val_loss: 0.9399 - val_accuracy: 0.6800\n",
      "Epoch 167/200\n",
      "7/7 [==============================] - 0s 10ms/step - loss: 1.0197 - accuracy: 0.6267 - val_loss: 0.9395 - val_accuracy: 0.6800\n",
      "Epoch 168/200\n",
      "7/7 [==============================] - 0s 10ms/step - loss: 1.0128 - accuracy: 0.6406 - val_loss: 0.9393 - val_accuracy: 0.6800\n",
      "Epoch 169/200\n",
      "7/7 [==============================] - 0s 10ms/step - loss: 0.9745 - accuracy: 0.6590 - val_loss: 0.9391 - val_accuracy: 0.6800\n",
      "Epoch 170/200\n",
      "7/7 [==============================] - 0s 16ms/step - loss: 0.9776 - accuracy: 0.6313 - val_loss: 0.9391 - val_accuracy: 0.6800\n",
      "Epoch 171/200\n",
      "7/7 [==============================] - 0s 13ms/step - loss: 1.0275 - accuracy: 0.6636 - val_loss: 0.9388 - val_accuracy: 0.6800\n",
      "Epoch 172/200\n",
      "7/7 [==============================] - 0s 10ms/step - loss: 0.9695 - accuracy: 0.6406 - val_loss: 0.9389 - val_accuracy: 0.6800\n",
      "Epoch 173/200\n",
      "7/7 [==============================] - 0s 9ms/step - loss: 1.0183 - accuracy: 0.6452 - val_loss: 0.9388 - val_accuracy: 0.6800\n",
      "Epoch 174/200\n",
      "7/7 [==============================] - 0s 21ms/step - loss: 1.0329 - accuracy: 0.6129 - val_loss: 0.9387 - val_accuracy: 0.6800\n",
      "Epoch 175/200\n",
      "7/7 [==============================] - 0s 11ms/step - loss: 1.0412 - accuracy: 0.6083 - val_loss: 0.9386 - val_accuracy: 0.6800\n",
      "Epoch 176/200\n",
      "7/7 [==============================] - 0s 9ms/step - loss: 1.0374 - accuracy: 0.5945 - val_loss: 0.9382 - val_accuracy: 0.6800\n",
      "Epoch 177/200\n",
      "7/7 [==============================] - 0s 9ms/step - loss: 1.0080 - accuracy: 0.6452 - val_loss: 0.9381 - val_accuracy: 0.6800\n",
      "Epoch 178/200\n",
      "7/7 [==============================] - 0s 10ms/step - loss: 0.9701 - accuracy: 0.6636 - val_loss: 0.9376 - val_accuracy: 0.6800\n",
      "Epoch 179/200\n",
      "7/7 [==============================] - 0s 11ms/step - loss: 0.9867 - accuracy: 0.6406 - val_loss: 0.9373 - val_accuracy: 0.6800\n",
      "Epoch 180/200\n",
      "7/7 [==============================] - 0s 11ms/step - loss: 1.0191 - accuracy: 0.6267 - val_loss: 0.9373 - val_accuracy: 0.6800\n",
      "Epoch 181/200\n",
      "7/7 [==============================] - 0s 10ms/step - loss: 1.0075 - accuracy: 0.6359 - val_loss: 0.9371 - val_accuracy: 0.6800\n",
      "Epoch 182/200\n",
      "7/7 [==============================] - 0s 11ms/step - loss: 1.0057 - accuracy: 0.6037 - val_loss: 0.9367 - val_accuracy: 0.6800\n",
      "Epoch 183/200\n",
      "7/7 [==============================] - 0s 9ms/step - loss: 0.9860 - accuracy: 0.6590 - val_loss: 0.9366 - val_accuracy: 0.6800\n",
      "Epoch 184/200\n",
      "7/7 [==============================] - 0s 9ms/step - loss: 1.0289 - accuracy: 0.6267 - val_loss: 0.9366 - val_accuracy: 0.6800\n",
      "Epoch 185/200\n",
      "7/7 [==============================] - 0s 9ms/step - loss: 0.9420 - accuracy: 0.6359 - val_loss: 0.9367 - val_accuracy: 0.6800\n",
      "Epoch 186/200\n",
      "7/7 [==============================] - 0s 12ms/step - loss: 1.0185 - accuracy: 0.6175 - val_loss: 0.9365 - val_accuracy: 0.6800\n",
      "Epoch 187/200\n",
      "7/7 [==============================] - 0s 11ms/step - loss: 1.0156 - accuracy: 0.6359 - val_loss: 0.9363 - val_accuracy: 0.6800\n",
      "Epoch 188/200\n",
      "7/7 [==============================] - 0s 10ms/step - loss: 1.0021 - accuracy: 0.6359 - val_loss: 0.9361 - val_accuracy: 0.6800\n",
      "Epoch 189/200\n",
      "7/7 [==============================] - 0s 12ms/step - loss: 0.9966 - accuracy: 0.6129 - val_loss: 0.9362 - val_accuracy: 0.6800\n",
      "Epoch 190/200\n",
      "7/7 [==============================] - 0s 9ms/step - loss: 0.9959 - accuracy: 0.6406 - val_loss: 0.9364 - val_accuracy: 0.6800\n",
      "Epoch 191/200\n",
      "7/7 [==============================] - 0s 10ms/step - loss: 0.9866 - accuracy: 0.6313 - val_loss: 0.9365 - val_accuracy: 0.6800\n",
      "Epoch 192/200\n",
      "7/7 [==============================] - 0s 10ms/step - loss: 0.9885 - accuracy: 0.6221 - val_loss: 0.9363 - val_accuracy: 0.6800\n",
      "Epoch 193/200\n",
      "7/7 [==============================] - 0s 12ms/step - loss: 1.0071 - accuracy: 0.6359 - val_loss: 0.9361 - val_accuracy: 0.6800\n",
      "Epoch 194/200\n",
      "7/7 [==============================] - 0s 21ms/step - loss: 0.9696 - accuracy: 0.6221 - val_loss: 0.9357 - val_accuracy: 0.6800\n",
      "Epoch 195/200\n",
      "7/7 [==============================] - 0s 12ms/step - loss: 0.9633 - accuracy: 0.6590 - val_loss: 0.9352 - val_accuracy: 0.6800\n",
      "Epoch 196/200\n",
      "7/7 [==============================] - 0s 12ms/step - loss: 0.9987 - accuracy: 0.6406 - val_loss: 0.9348 - val_accuracy: 0.6800\n",
      "Epoch 197/200\n",
      "7/7 [==============================] - 0s 11ms/step - loss: 1.0186 - accuracy: 0.6037 - val_loss: 0.9344 - val_accuracy: 0.6800\n",
      "Epoch 198/200\n",
      "7/7 [==============================] - 0s 11ms/step - loss: 0.9877 - accuracy: 0.6037 - val_loss: 0.9343 - val_accuracy: 0.6800\n",
      "Epoch 199/200\n",
      "7/7 [==============================] - 0s 10ms/step - loss: 0.9678 - accuracy: 0.6452 - val_loss: 0.9343 - val_accuracy: 0.6800\n",
      "Epoch 200/200\n",
      "7/7 [==============================] - 0s 10ms/step - loss: 0.9582 - accuracy: 0.6544 - val_loss: 0.9341 - val_accuracy: 0.6800\n"
     ]
    }
   ],
   "source": [
    "model = create_model(units=grid_result.best_params_['units'],\n",
    "                     learning_rate=grid_result.best_params_['learning_rate'],\n",
    "                     dropout_rate=grid_result.best_params_['dropout_rate'])\n",
    "# Train the model\n",
    "history = model.fit(X_train, y_train, epochs=200, batch_size=32, validation_split=0.1)"
   ]
  },
  {
   "cell_type": "markdown",
   "metadata": {
    "id": "sbvj4MtlGwI4"
   },
   "source": [
    "This code first creates a new model using the best hyperparameters found through a grid search using cross-validation. It then trains the model on the training data with 200 epochs, a batch size of 32, and a validation split of 0.1. The training history is stored in the \"history\" variable."
   ]
  },
  {
   "cell_type": "code",
   "execution_count": 35,
   "metadata": {
    "id": "5y2cKacTvIXJ"
   },
   "outputs": [
    {
     "data": {
      "image/png": "[encoded data removed]",
      "text/plain": [
       "<Figure size 432x288 with 1 Axes>"
      ]
     },
     "metadata": {
      "needs_background": "light"
     },
     "output_type": "display_data"
    },
    {
     "data": {
      "image/png": "[encoded data removed]",
      "text/plain": [
       "<Figure size 432x288 with 1 Axes>"
      ]
     },
     "metadata": {
      "needs_background": "light"
     },
     "output_type": "display_data"
    }
   ],
   "source": [
    "import matplotlib.pyplot as plt\n",
    "\n",
    "accuracy = history.history['accuracy']\n",
    "loss = history.history['loss']\n",
    "val_accuracy = history.history['val_accuracy']\n",
    "val_loss = history.history['val_loss']\n",
    "\n",
    "epochs = range(1, len(accuracy) + 1)\n",
    "\n",
    "plt.plot(epochs[0:], accuracy[0:], 'bo', label='Training accuracy')\n",
    "plt.plot(epochs[0:], val_accuracy[0:], 'b', label='Validation accuracy')\n",
    "plt.title('Training and validation accuracyuracy')\n",
    "plt.xlabel('Epochs')\n",
    "plt.ylabel('accuracyuracy')\n",
    "plt.margins(0.05)\n",
    "\n",
    "plt.figure()\n",
    "\n",
    "plt.plot(epochs[0:], loss[0:], 'bo', label='Training loss')\n",
    "plt.plot(epochs[0:], val_loss[0:], 'b', label='Validation loss')\n",
    "plt.title('Training and validation loss')\n",
    "plt.xlabel('Epochs')\n",
    "plt.ylabel('Loss')\n",
    "plt.margins(0.05)\n",
    "\n",
    "plt.show()"
   ]
  },
  {
   "cell_type": "markdown",
   "metadata": {
    "id": "b3nRbxoMHAJi"
   },
   "source": [
    "In this code plots the training and validation accuracy and loss for a machine learning model. The accuracy and loss values are obtained from the history object obtained after fitting the model to the training data. The plots help to visualize how well the model is performing and identify overfitting or underfitting."
   ]
  },
  {
   "cell_type": "code",
   "execution_count": 36,
   "metadata": {
    "id": "8Lo62D-ZvIXJ",
    "outputId": "bca9331f-7f3f-4ce1-b749-cd21761fb5d2"
   },
   "outputs": [
    {
     "name": "stdout",
     "output_type": "stream",
     "text": [
      "8/8 - 0s - loss: 0.8944 - accuracy: 0.6818 - 95ms/epoch - 12ms/step\n",
      "Train accuracy: 0.6818181872367859\n"
     ]
    }
   ],
   "source": [
    "# Evaluate the model\n",
    "train_loss, train_acc = model.evaluate(X_train, y_train, verbose=2)\n",
    "print('Train accuracy:', train_acc)\n"
   ]
  },
  {
   "cell_type": "code",
   "execution_count": 37,
   "metadata": {
    "id": "ALghqde8vIXJ",
    "outputId": "d214ed36-487c-4eb5-c8a3-2808dc080bc3"
   },
   "outputs": [
    {
     "name": "stdout",
     "output_type": "stream",
     "text": [
      "2/2 - 0s - loss: 1.1192 - accuracy: 0.5246 - 40ms/epoch - 20ms/step\n",
      "Test accuracy: 0.5245901346206665\n"
     ]
    }
   ],
   "source": [
    "# Evaluate the model\n",
    "test_loss, test_acc = model.evaluate(X_test, y_test, verbose=2)\n",
    "print('Test accuracy:', test_acc)\n"
   ]
  },
  {
   "cell_type": "code",
   "execution_count": 38,
   "metadata": {
    "id": "xyWm89uCvIXJ"
   },
   "outputs": [
    {
     "name": "stdout",
     "output_type": "stream",
     "text": [
      "2/2 [==============================] - 0s 6ms/step\n",
      "Confusion Matrix:\n"
     ]
    },
    {
     "data": {
      "text/html": [
       "<div>\n",
       "<style scoped>\n",
       "    .dataframe tbody tr th:only-of-type {\n",
       "        vertical-align: middle;\n",
       "    }\n",
       "\n",
       "    .dataframe tbody tr th {\n",
       "        vertical-align: top;\n",
       "    }\n",
       "\n",
       "    .dataframe thead th {\n",
       "        text-align: right;\n",
       "    }\n",
       "</style>\n",
       "<table border=\"1\" class=\"dataframe\">\n",
       "  <thead>\n",
       "    <tr style=\"text-align: right;\">\n",
       "      <th></th>\n",
       "      <th>0</th>\n",
       "      <th>1</th>\n",
       "      <th>2</th>\n",
       "      <th>3</th>\n",
       "      <th>4</th>\n",
       "    </tr>\n",
       "  </thead>\n",
       "  <tbody>\n",
       "    <tr>\n",
       "      <th>0</th>\n",
       "      <td>28</td>\n",
       "      <td>0</td>\n",
       "      <td>0</td>\n",
       "      <td>1</td>\n",
       "      <td>0</td>\n",
       "    </tr>\n",
       "    <tr>\n",
       "      <th>1</th>\n",
       "      <td>7</td>\n",
       "      <td>1</td>\n",
       "      <td>0</td>\n",
       "      <td>4</td>\n",
       "      <td>0</td>\n",
       "    </tr>\n",
       "    <tr>\n",
       "      <th>2</th>\n",
       "      <td>3</td>\n",
       "      <td>1</td>\n",
       "      <td>1</td>\n",
       "      <td>4</td>\n",
       "      <td>0</td>\n",
       "    </tr>\n",
       "    <tr>\n",
       "      <th>3</th>\n",
       "      <td>2</td>\n",
       "      <td>2</td>\n",
       "      <td>1</td>\n",
       "      <td>2</td>\n",
       "      <td>0</td>\n",
       "    </tr>\n",
       "    <tr>\n",
       "      <th>4</th>\n",
       "      <td>0</td>\n",
       "      <td>0</td>\n",
       "      <td>0</td>\n",
       "      <td>4</td>\n",
       "      <td>0</td>\n",
       "    </tr>\n",
       "  </tbody>\n",
       "</table>\n",
       "</div>"
      ],
      "text/plain": [
       "    0  1  2  3  4\n",
       "0  28  0  0  1  0\n",
       "1   7  1  0  4  0\n",
       "2   3  1  1  4  0\n",
       "3   2  2  1  2  0\n",
       "4   0  0  0  4  0"
      ]
     },
     "execution_count": 38,
     "metadata": {},
     "output_type": "execute_result"
    }
   ],
   "source": [
    "from sklearn.metrics import confusion_matrix\n",
    "# Confusion Matrix\n",
    "y_pred = model.predict(X_test)\n",
    "y_pred_classes = np.argmax(y_pred, axis=1)\n",
    "cm = confusion_matrix(y_test, y_pred_classes)\n",
    "print('Confusion Matrix:')\n",
    "pd.DataFrame(cm)"
   ]
  },
  {
   "cell_type": "markdown",
   "metadata": {
    "id": "5oOPZu6iHVQP"
   },
   "source": [
    "This code is used to calculate the confusion matrix of the predictions made by a machine learning model. It imports the confusion_matrix function from the sklearn.metrics module. It then uses the trained model to predict the classes of the test data, and computes the confusion matrix by comparing the predicted and true class labels. The confusion matrix is then printed using pandas DataFrame to display the results in a tabular form."
   ]
  },
  {
   "cell_type": "markdown",
   "metadata": {
    "id": "LIAygRf3vIXK"
   },
   "source": [
    "## Step 5: Conclusions\n",
    "\n",
    "In summary, the aforementioned code demonstrates a comprehensive approach to analyze and prepare the heart disease dataset for developing a classification model that can accurately classify different levels of heart disease based on various features. The code effectively handles the issue of overfitting by introducing dropout regularization and hyperparameter tuning using grid search with cross-validation. The performance of the model is evaluated using a confusion matrix, which provides meaningful insights into the model's efficacy. \n",
    "\n",
    "Overall, the code presents a complete machine learning workflow for developing an accurate classification model for heart diseases. It is worth noting that the 3rd model has demonstrated better performance compared to the previous models due to the addition of parameter optimization. However, to further improve the model's accuracy, more data about heart rate disease cases and additional features could be incorporated to provide more comprehensive information about the disease."
   ]
  },
  {
   "cell_type": "code",
   "execution_count": 4,
   "metadata": {},
   "outputs": [
    {
     "data": {
      "text/plain": [
       "('Arsalan Ali', 'arskas', '123arskas', 31, 'Male', '', '', '', '')"
      ]
     },
     "execution_count": 4,
     "metadata": {},
     "output_type": "execute_result"
    }
   ],
   "source": [
    "import sqlite3\n",
    "\n",
    "conn = sqlite3.connect('user_database.db')\n",
    "c = conn.cursor()\n",
    "\n",
    "c.execute(\"SELECT * FROM users\")\n",
    "c.fetchone()"
   ]
  },
  {
   "cell_type": "code",
   "execution_count": 6,
   "metadata": {},
   "outputs": [],
   "source": [
    "c.close()"
   ]
  },
  {
   "cell_type": "code",
   "execution_count": 7,
   "metadata": {},
   "outputs": [],
   "source": [
    "conn.close()"
   ]
  },
  {
   "cell_type": "code",
   "execution_count": null,
   "metadata": {},
   "outputs": [],
   "source": []
  }
 ],
 "metadata": {
  "colab": {
   "provenance": []
  },
  "kernelspec": {
   "display_name": "streamlit",
   "language": "python",
   "name": "python3"
  },
  "language_info": {
   "codemirror_mode": {
    "name": "ipython",
    "version": 3
   },
   "file_extension": ".py",
   "mimetype": "text/x-python",
   "name": "python",
   "nbconvert_exporter": "python",
   "pygments_lexer": "ipython3",
   "version": "3.10.9"
  },
  "vscode": {
   "interpreter": {
    "hash": "058ee5fe800e514308def0c7ba44fee2f3357291488a05b2a6f55aa4a40c6980"
   }
  }
 },
 "nbformat": 4,
 "nbformat_minor": 1
}
